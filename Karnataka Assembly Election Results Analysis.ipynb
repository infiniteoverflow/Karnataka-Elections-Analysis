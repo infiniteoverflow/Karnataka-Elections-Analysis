{
 "cells": [
  {
   "cell_type": "code",
   "execution_count": 45,
   "metadata": {},
   "outputs": [],
   "source": [
    "import numpy as np\n",
    "import pandas as pd\n",
    "import matplotlib.pyplot as plt\n",
    "%matplotlib inline\n",
    "import seaborn as sns"
   ]
  },
  {
   "cell_type": "code",
   "execution_count": 46,
   "metadata": {},
   "outputs": [],
   "source": [
    "# Retrieving the dataset from a local csv file\n",
    "df = pd.read_csv('karnataka_assembly_data.csv')\n"
   ]
  },
  {
   "cell_type": "code",
   "execution_count": 47,
   "metadata": {},
   "outputs": [
    {
     "data": {
      "text/html": [
       "<div>\n",
       "<style scoped>\n",
       "    .dataframe tbody tr th:only-of-type {\n",
       "        vertical-align: middle;\n",
       "    }\n",
       "\n",
       "    .dataframe tbody tr th {\n",
       "        vertical-align: top;\n",
       "    }\n",
       "\n",
       "    .dataframe thead th {\n",
       "        text-align: right;\n",
       "    }\n",
       "</style>\n",
       "<table border=\"1\" class=\"dataframe\">\n",
       "  <thead>\n",
       "    <tr style=\"text-align: right;\">\n",
       "      <th></th>\n",
       "      <th>AC No.</th>\n",
       "      <th>AC Name</th>\n",
       "      <th>Winning Party</th>\n",
       "      <th>Winning Candidate</th>\n",
       "      <th>Winner Votes</th>\n",
       "      <th>Runner Up Party</th>\n",
       "      <th>Runner Up Candidate</th>\n",
       "      <th>Runner Up Votes</th>\n",
       "      <th>Voting Turnout %</th>\n",
       "      <th>Total Voters</th>\n",
       "      <th>Winning Margin</th>\n",
       "      <th>District Name</th>\n",
       "    </tr>\n",
       "  </thead>\n",
       "  <tbody>\n",
       "    <tr>\n",
       "      <th>0</th>\n",
       "      <td>1</td>\n",
       "      <td>Nippani</td>\n",
       "      <td>BJP</td>\n",
       "      <td>SHASHIKALA JOLLE</td>\n",
       "      <td>87,006</td>\n",
       "      <td>INC</td>\n",
       "      <td>KAKASO PANDURANG PATIL</td>\n",
       "      <td>78,500</td>\n",
       "      <td>81.19%</td>\n",
       "      <td>211,827</td>\n",
       "      <td>8,506</td>\n",
       "      <td>BELAGAVI</td>\n",
       "    </tr>\n",
       "    <tr>\n",
       "      <th>1</th>\n",
       "      <td>2</td>\n",
       "      <td>Chikkodi-Sadalga</td>\n",
       "      <td>INC</td>\n",
       "      <td>GANESH HUKKERI</td>\n",
       "      <td>91,467</td>\n",
       "      <td>BJP</td>\n",
       "      <td>ANNASAHEB SHANKAR JOLLE</td>\n",
       "      <td>80,898</td>\n",
       "      <td>84.78%</td>\n",
       "      <td>210,480</td>\n",
       "      <td>10,569</td>\n",
       "      <td>BELAGAVI</td>\n",
       "    </tr>\n",
       "    <tr>\n",
       "      <th>2</th>\n",
       "      <td>3</td>\n",
       "      <td>Athani</td>\n",
       "      <td>INC</td>\n",
       "      <td>MAHESH IRANAGOUDA KUMATHALLI</td>\n",
       "      <td>82,094</td>\n",
       "      <td>BJP</td>\n",
       "      <td>LAXMAN SANGAPPA SAVADI</td>\n",
       "      <td>79,763</td>\n",
       "      <td>80.67%</td>\n",
       "      <td>213,935</td>\n",
       "      <td>2,331</td>\n",
       "      <td>BELAGAVI</td>\n",
       "    </tr>\n",
       "    <tr>\n",
       "      <th>3</th>\n",
       "      <td>4</td>\n",
       "      <td>Kagwad</td>\n",
       "      <td>INC</td>\n",
       "      <td>BALASAHEB PATIL</td>\n",
       "      <td>83,060</td>\n",
       "      <td>BJP</td>\n",
       "      <td>BHARAMAGOUDA ALAGOUDA KAGE</td>\n",
       "      <td>50,118</td>\n",
       "      <td>79.98%</td>\n",
       "      <td>181,486</td>\n",
       "      <td>32,942</td>\n",
       "      <td>BELAGAVI</td>\n",
       "    </tr>\n",
       "    <tr>\n",
       "      <th>4</th>\n",
       "      <td>5</td>\n",
       "      <td>Kudachi</td>\n",
       "      <td>BJP</td>\n",
       "      <td>P RAJIV</td>\n",
       "      <td>67,781</td>\n",
       "      <td>INC</td>\n",
       "      <td>AMIT SHAMA GHATAGE</td>\n",
       "      <td>52,773</td>\n",
       "      <td>75.86%</td>\n",
       "      <td>180,233</td>\n",
       "      <td>15,008</td>\n",
       "      <td>BELAGAVI</td>\n",
       "    </tr>\n",
       "  </tbody>\n",
       "</table>\n",
       "</div>"
      ],
      "text/plain": [
       "   AC No.           AC Name Winning Party             Winning Candidate  \\\n",
       "0       1           Nippani           BJP              SHASHIKALA JOLLE   \n",
       "1       2  Chikkodi-Sadalga           INC                GANESH HUKKERI   \n",
       "2       3            Athani           INC  MAHESH IRANAGOUDA KUMATHALLI   \n",
       "3       4            Kagwad           INC               BALASAHEB PATIL   \n",
       "4       5           Kudachi           BJP                       P RAJIV   \n",
       "\n",
       "  Winner Votes Runner Up Party         Runner Up Candidate Runner Up Votes  \\\n",
       "0       87,006             INC      KAKASO PANDURANG PATIL          78,500   \n",
       "1       91,467             BJP     ANNASAHEB SHANKAR JOLLE          80,898   \n",
       "2       82,094             BJP      LAXMAN SANGAPPA SAVADI          79,763   \n",
       "3       83,060             BJP  BHARAMAGOUDA ALAGOUDA KAGE          50,118   \n",
       "4       67,781             INC          AMIT SHAMA GHATAGE          52,773   \n",
       "\n",
       "  Voting Turnout % Total Voters Winning Margin District Name  \n",
       "0           81.19%      211,827          8,506      BELAGAVI  \n",
       "1           84.78%      210,480         10,569      BELAGAVI  \n",
       "2           80.67%      213,935          2,331      BELAGAVI  \n",
       "3           79.98%      181,486         32,942      BELAGAVI  \n",
       "4           75.86%      180,233         15,008      BELAGAVI  "
      ]
     },
     "execution_count": 47,
     "metadata": {},
     "output_type": "execute_result"
    }
   ],
   "source": [
    "df.head()"
   ]
  },
  {
   "cell_type": "code",
   "execution_count": 65,
   "metadata": {},
   "outputs": [
    {
     "data": {
      "text/html": [
       "<div>\n",
       "<style scoped>\n",
       "    .dataframe tbody tr th:only-of-type {\n",
       "        vertical-align: middle;\n",
       "    }\n",
       "\n",
       "    .dataframe tbody tr th {\n",
       "        vertical-align: top;\n",
       "    }\n",
       "\n",
       "    .dataframe thead th {\n",
       "        text-align: right;\n",
       "    }\n",
       "</style>\n",
       "<table border=\"1\" class=\"dataframe\">\n",
       "  <thead>\n",
       "    <tr style=\"text-align: right;\">\n",
       "      <th></th>\n",
       "      <th>AC No.</th>\n",
       "      <th>AC Name</th>\n",
       "      <th>Winning Party</th>\n",
       "      <th>Winning Candidate</th>\n",
       "      <th>Winner Votes</th>\n",
       "      <th>Runner Up Party</th>\n",
       "      <th>Runner Up Candidate</th>\n",
       "      <th>Runner Up Votes</th>\n",
       "      <th>Voting Turnout %</th>\n",
       "      <th>Total Voters</th>\n",
       "      <th>Winning Margin</th>\n",
       "      <th>District Name</th>\n",
       "    </tr>\n",
       "  </thead>\n",
       "  <tbody>\n",
       "    <tr>\n",
       "      <th>0</th>\n",
       "      <td>1</td>\n",
       "      <td>Nippani</td>\n",
       "      <td>BJP</td>\n",
       "      <td>SHASHIKALA JOLLE</td>\n",
       "      <td>87,006</td>\n",
       "      <td>INC</td>\n",
       "      <td>KAKASO PANDURANG PATIL</td>\n",
       "      <td>78,500</td>\n",
       "      <td>81.19%</td>\n",
       "      <td>211,827</td>\n",
       "      <td>8,506</td>\n",
       "      <td>BELAGAVI</td>\n",
       "    </tr>\n",
       "    <tr>\n",
       "      <th>1</th>\n",
       "      <td>2</td>\n",
       "      <td>Chikkodi-Sadalga</td>\n",
       "      <td>INC</td>\n",
       "      <td>GANESH HUKKERI</td>\n",
       "      <td>91,467</td>\n",
       "      <td>BJP</td>\n",
       "      <td>ANNASAHEB SHANKAR JOLLE</td>\n",
       "      <td>80,898</td>\n",
       "      <td>84.78%</td>\n",
       "      <td>210,480</td>\n",
       "      <td>10,569</td>\n",
       "      <td>BELAGAVI</td>\n",
       "    </tr>\n",
       "    <tr>\n",
       "      <th>2</th>\n",
       "      <td>3</td>\n",
       "      <td>Athani</td>\n",
       "      <td>INC</td>\n",
       "      <td>MAHESH IRANAGOUDA KUMATHALLI</td>\n",
       "      <td>82,094</td>\n",
       "      <td>BJP</td>\n",
       "      <td>LAXMAN SANGAPPA SAVADI</td>\n",
       "      <td>79,763</td>\n",
       "      <td>80.67%</td>\n",
       "      <td>213,935</td>\n",
       "      <td>2,331</td>\n",
       "      <td>BELAGAVI</td>\n",
       "    </tr>\n",
       "    <tr>\n",
       "      <th>3</th>\n",
       "      <td>4</td>\n",
       "      <td>Kagwad</td>\n",
       "      <td>INC</td>\n",
       "      <td>BALASAHEB PATIL</td>\n",
       "      <td>83,060</td>\n",
       "      <td>BJP</td>\n",
       "      <td>BHARAMAGOUDA ALAGOUDA KAGE</td>\n",
       "      <td>50,118</td>\n",
       "      <td>79.98%</td>\n",
       "      <td>181,486</td>\n",
       "      <td>32,942</td>\n",
       "      <td>BELAGAVI</td>\n",
       "    </tr>\n",
       "    <tr>\n",
       "      <th>4</th>\n",
       "      <td>5</td>\n",
       "      <td>Kudachi</td>\n",
       "      <td>BJP</td>\n",
       "      <td>P RAJIV</td>\n",
       "      <td>67,781</td>\n",
       "      <td>INC</td>\n",
       "      <td>AMIT SHAMA GHATAGE</td>\n",
       "      <td>52,773</td>\n",
       "      <td>75.86%</td>\n",
       "      <td>180,233</td>\n",
       "      <td>15,008</td>\n",
       "      <td>BELAGAVI</td>\n",
       "    </tr>\n",
       "    <tr>\n",
       "      <th>5</th>\n",
       "      <td>6</td>\n",
       "      <td>Raybag</td>\n",
       "      <td>BJP</td>\n",
       "      <td>AIHOLE DURYODHAN MAHALINGAPPA</td>\n",
       "      <td>67,502</td>\n",
       "      <td>INC</td>\n",
       "      <td>PRADEEPKUMAR RAMU MALAGE</td>\n",
       "      <td>50,954</td>\n",
       "      <td>76.80%</td>\n",
       "      <td>195,179</td>\n",
       "      <td>16,548</td>\n",
       "      <td>BELAGAVI</td>\n",
       "    </tr>\n",
       "    <tr>\n",
       "      <th>6</th>\n",
       "      <td>7</td>\n",
       "      <td>Hukkeri</td>\n",
       "      <td>BJP</td>\n",
       "      <td>UMESH KATTI</td>\n",
       "      <td>83,588</td>\n",
       "      <td>INC</td>\n",
       "      <td>APPAYYAGOUDA BASAGOUDA PATIL</td>\n",
       "      <td>68,203</td>\n",
       "      <td>81.15%</td>\n",
       "      <td>193,756</td>\n",
       "      <td>15,385</td>\n",
       "      <td>BELAGAVI</td>\n",
       "    </tr>\n",
       "    <tr>\n",
       "      <th>7</th>\n",
       "      <td>8</td>\n",
       "      <td>Arabhavi</td>\n",
       "      <td>BJP</td>\n",
       "      <td>BALACHANDRA LAXMANRAO</td>\n",
       "      <td>96,144</td>\n",
       "      <td>JDS</td>\n",
       "      <td>BHIMAPPA GUNDAPPA GADAD</td>\n",
       "      <td>48,816</td>\n",
       "      <td>76.29%</td>\n",
       "      <td>231,177</td>\n",
       "      <td>47,328</td>\n",
       "      <td>BELAGAVI</td>\n",
       "    </tr>\n",
       "    <tr>\n",
       "      <th>8</th>\n",
       "      <td>9</td>\n",
       "      <td>Gokak</td>\n",
       "      <td>INC</td>\n",
       "      <td>JARKIHOLI RAMESH LAXMANRAO</td>\n",
       "      <td>90,249</td>\n",
       "      <td>BJP</td>\n",
       "      <td>ASHOK NINGAYYASWAMI PUJARI</td>\n",
       "      <td>75,969</td>\n",
       "      <td>71.79%</td>\n",
       "      <td>241,197</td>\n",
       "      <td>14,280</td>\n",
       "      <td>BELAGAVI</td>\n",
       "    </tr>\n",
       "    <tr>\n",
       "      <th>9</th>\n",
       "      <td>10</td>\n",
       "      <td>Yemkanamardi</td>\n",
       "      <td>INC</td>\n",
       "      <td>SATISH. L. JARKIHOLI</td>\n",
       "      <td>73,512</td>\n",
       "      <td>BJP</td>\n",
       "      <td>ASTAGI MARUTI MALLAPPA</td>\n",
       "      <td>70,662</td>\n",
       "      <td>79.79%</td>\n",
       "      <td>186,859</td>\n",
       "      <td>2,850</td>\n",
       "      <td>BELAGAVI</td>\n",
       "    </tr>\n",
       "    <tr>\n",
       "      <th>10</th>\n",
       "      <td>11</td>\n",
       "      <td>Belgaum Uttar</td>\n",
       "      <td>BJP</td>\n",
       "      <td>ANIL S BENAKE</td>\n",
       "      <td>79,060</td>\n",
       "      <td>INC</td>\n",
       "      <td>FAIROZ NURUDDIN SAITH</td>\n",
       "      <td>61,793</td>\n",
       "      <td>63.18%</td>\n",
       "      <td>234,887</td>\n",
       "      <td>17,267</td>\n",
       "      <td>BELAGAVI</td>\n",
       "    </tr>\n",
       "    <tr>\n",
       "      <th>11</th>\n",
       "      <td>12</td>\n",
       "      <td>Belgaum Dakshin</td>\n",
       "      <td>BJP</td>\n",
       "      <td>ABHAY PATIL</td>\n",
       "      <td>84,498</td>\n",
       "      <td>INC</td>\n",
       "      <td>M D LAKSHMINARAYAN (ANNAYYA)</td>\n",
       "      <td>25,806</td>\n",
       "      <td>62.50%</td>\n",
       "      <td>234,509</td>\n",
       "      <td>58,692</td>\n",
       "      <td>BELAGAVI</td>\n",
       "    </tr>\n",
       "    <tr>\n",
       "      <th>12</th>\n",
       "      <td>13</td>\n",
       "      <td>Belgaum Rural</td>\n",
       "      <td>INC</td>\n",
       "      <td>LAKSHMI HEBBALKAR</td>\n",
       "      <td>102,040</td>\n",
       "      <td>BJP</td>\n",
       "      <td>SANJAY B PATIL</td>\n",
       "      <td>50,316</td>\n",
       "      <td>77.47%</td>\n",
       "      <td>238,753</td>\n",
       "      <td>51,724</td>\n",
       "      <td>BELAGAVI</td>\n",
       "    </tr>\n",
       "    <tr>\n",
       "      <th>13</th>\n",
       "      <td>14</td>\n",
       "      <td>Khanapur</td>\n",
       "      <td>INC</td>\n",
       "      <td>ANJALI LIMBALKAR</td>\n",
       "      <td>36,649</td>\n",
       "      <td>BJP</td>\n",
       "      <td>VITHAL HALAGEKAR</td>\n",
       "      <td>31,516</td>\n",
       "      <td>74.86%</td>\n",
       "      <td>205,959</td>\n",
       "      <td>5,133</td>\n",
       "      <td>BELAGAVI</td>\n",
       "    </tr>\n",
       "    <tr>\n",
       "      <th>14</th>\n",
       "      <td>15</td>\n",
       "      <td>Kittur</td>\n",
       "      <td>BJP</td>\n",
       "      <td>DODDAGOUDAR MAHANTESH BASAVANTARAY</td>\n",
       "      <td>73,155</td>\n",
       "      <td>INC</td>\n",
       "      <td>INAMDAR DANAPPAGOUDA BASANAGOUDA</td>\n",
       "      <td>40,293</td>\n",
       "      <td>78.82%</td>\n",
       "      <td>187,722</td>\n",
       "      <td>32,862</td>\n",
       "      <td>BELAGAVI</td>\n",
       "    </tr>\n",
       "    <tr>\n",
       "      <th>15</th>\n",
       "      <td>16</td>\n",
       "      <td>Bailahongal</td>\n",
       "      <td>INC</td>\n",
       "      <td>KOUJALAGI MAHANTESH SHIVANAND</td>\n",
       "      <td>47,040</td>\n",
       "      <td>IND</td>\n",
       "      <td>JAGDISH. CHANNAPPA METGUD</td>\n",
       "      <td>41,918</td>\n",
       "      <td>77.92%</td>\n",
       "      <td>184,116</td>\n",
       "      <td>5,122</td>\n",
       "      <td>BELAGAVI</td>\n",
       "    </tr>\n",
       "    <tr>\n",
       "      <th>16</th>\n",
       "      <td>17</td>\n",
       "      <td>Saundatti Yellamma</td>\n",
       "      <td>BJP</td>\n",
       "      <td>ANAND VISHWANATH CHANDRASHEKHAR MAMANI</td>\n",
       "      <td>62,480</td>\n",
       "      <td>IND</td>\n",
       "      <td>ANAND CHOPRA</td>\n",
       "      <td>56,189</td>\n",
       "      <td>79.96%</td>\n",
       "      <td>191,347</td>\n",
       "      <td>6,291</td>\n",
       "      <td>BELAGAVI</td>\n",
       "    </tr>\n",
       "    <tr>\n",
       "      <th>17</th>\n",
       "      <td>18</td>\n",
       "      <td>Ramdurg</td>\n",
       "      <td>BJP</td>\n",
       "      <td>MAHADEVAPPA SHIVALINGAPPA YADAWAD</td>\n",
       "      <td>68,349</td>\n",
       "      <td>INC</td>\n",
       "      <td>ASHOK MAHADEVAPPA PATTAN</td>\n",
       "      <td>65,474</td>\n",
       "      <td>75.19%</td>\n",
       "      <td>200,163</td>\n",
       "      <td>2,875</td>\n",
       "      <td>BELAGAVI</td>\n",
       "    </tr>\n",
       "    <tr>\n",
       "      <th>18</th>\n",
       "      <td>19</td>\n",
       "      <td>Mudhol</td>\n",
       "      <td>BJP</td>\n",
       "      <td>GOVIND KARJOLA</td>\n",
       "      <td>76,431</td>\n",
       "      <td>INC</td>\n",
       "      <td>BANDIWADDAR SATISH CHINNAPPA</td>\n",
       "      <td>60,949</td>\n",
       "      <td>75.17%</td>\n",
       "      <td>196,094</td>\n",
       "      <td>15,482</td>\n",
       "      <td>BAGALKOT</td>\n",
       "    </tr>\n",
       "    <tr>\n",
       "      <th>19</th>\n",
       "      <td>20</td>\n",
       "      <td>Terdal</td>\n",
       "      <td>BJP</td>\n",
       "      <td>SIDDU SAVADI</td>\n",
       "      <td>87,213</td>\n",
       "      <td>INC</td>\n",
       "      <td>UMASHREE</td>\n",
       "      <td>66,324</td>\n",
       "      <td>78.43%</td>\n",
       "      <td>220,340</td>\n",
       "      <td>20,889</td>\n",
       "      <td>BAGALKOT</td>\n",
       "    </tr>\n",
       "    <tr>\n",
       "      <th>20</th>\n",
       "      <td>21</td>\n",
       "      <td>Jamkhandi</td>\n",
       "      <td>INC</td>\n",
       "      <td>SIDDU NYAMAGOWDA</td>\n",
       "      <td>49,245</td>\n",
       "      <td>BJP</td>\n",
       "      <td>KULKARNI SHRIKANT SUBRAO</td>\n",
       "      <td>46,450</td>\n",
       "      <td>74.98%</td>\n",
       "      <td>203,681</td>\n",
       "      <td>2,795</td>\n",
       "      <td>BAGALKOT</td>\n",
       "    </tr>\n",
       "    <tr>\n",
       "      <th>21</th>\n",
       "      <td>22</td>\n",
       "      <td>Bilgi</td>\n",
       "      <td>BJP</td>\n",
       "      <td>MURUGESH NIRANI</td>\n",
       "      <td>85,135</td>\n",
       "      <td>INC</td>\n",
       "      <td>JAGADISH TIMMANAGOUDA PATIL</td>\n",
       "      <td>80,324</td>\n",
       "      <td>77.13%</td>\n",
       "      <td>218,214</td>\n",
       "      <td>4,811</td>\n",
       "      <td>BAGALKOT</td>\n",
       "    </tr>\n",
       "    <tr>\n",
       "      <th>22</th>\n",
       "      <td>23</td>\n",
       "      <td>Badami</td>\n",
       "      <td>INC</td>\n",
       "      <td>SIDDARAMAIAH</td>\n",
       "      <td>67,599</td>\n",
       "      <td>BJP</td>\n",
       "      <td>B SRIRAMULU</td>\n",
       "      <td>65,903</td>\n",
       "      <td>74.65%</td>\n",
       "      <td>217,721</td>\n",
       "      <td>1,696</td>\n",
       "      <td>BAGALKOT</td>\n",
       "    </tr>\n",
       "    <tr>\n",
       "      <th>23</th>\n",
       "      <td>24</td>\n",
       "      <td>Bagalkot</td>\n",
       "      <td>BJP</td>\n",
       "      <td>VEERABHADRAYYA (VEERANNA) CHARANTIMATH</td>\n",
       "      <td>85,653</td>\n",
       "      <td>INC</td>\n",
       "      <td>METI HULLAPPA YAMANAPPA</td>\n",
       "      <td>69,719</td>\n",
       "      <td>69.32%</td>\n",
       "      <td>230,825</td>\n",
       "      <td>15,934</td>\n",
       "      <td>BAGALKOT</td>\n",
       "    </tr>\n",
       "    <tr>\n",
       "      <th>24</th>\n",
       "      <td>25</td>\n",
       "      <td>Hungund</td>\n",
       "      <td>BJP</td>\n",
       "      <td>DODDANAGOUDA G PATIL</td>\n",
       "      <td>65,012</td>\n",
       "      <td>INC</td>\n",
       "      <td>KASHAPPANAVAR VIJAYANAND SHIVASHANKRAPPA</td>\n",
       "      <td>59,785</td>\n",
       "      <td>73.52%</td>\n",
       "      <td>214,145</td>\n",
       "      <td>5,227</td>\n",
       "      <td>BAGALKOT</td>\n",
       "    </tr>\n",
       "    <tr>\n",
       "      <th>25</th>\n",
       "      <td>26</td>\n",
       "      <td>Muddebihal</td>\n",
       "      <td>BJP</td>\n",
       "      <td>AMEENAPPA GOUDA S PATIL</td>\n",
       "      <td>63,512</td>\n",
       "      <td>INC</td>\n",
       "      <td>APPAJI URF CHANNABASAVARAJ SHANKARARAO NADAGOUDA</td>\n",
       "      <td>54,879</td>\n",
       "      <td>65.89%</td>\n",
       "      <td>205,694</td>\n",
       "      <td>8,633</td>\n",
       "      <td>BIJAPUR</td>\n",
       "    </tr>\n",
       "    <tr>\n",
       "      <th>26</th>\n",
       "      <td>27</td>\n",
       "      <td>Devara Hippargi</td>\n",
       "      <td>BJP</td>\n",
       "      <td>SOMANAGOUDA B PATIL (SASANUR)</td>\n",
       "      <td>48,245</td>\n",
       "      <td>INC</td>\n",
       "      <td>BHIMANAGOUDA (RAJUGOUDA) B PATIL</td>\n",
       "      <td>44,892</td>\n",
       "      <td>65.78%</td>\n",
       "      <td>208,625</td>\n",
       "      <td>3,353</td>\n",
       "      <td>BIJAPUR</td>\n",
       "    </tr>\n",
       "    <tr>\n",
       "      <th>27</th>\n",
       "      <td>28</td>\n",
       "      <td>Basavana Bagevadi</td>\n",
       "      <td>INC</td>\n",
       "      <td>SHIVANAND PATIL</td>\n",
       "      <td>58,647</td>\n",
       "      <td>JDS</td>\n",
       "      <td>SOMANAGOUDA(APPUGOUDA) B PATIL(MANAGULI)</td>\n",
       "      <td>55,461</td>\n",
       "      <td>73.19%</td>\n",
       "      <td>201,089</td>\n",
       "      <td>3,186</td>\n",
       "      <td>BIJAPUR</td>\n",
       "    </tr>\n",
       "    <tr>\n",
       "      <th>28</th>\n",
       "      <td>29</td>\n",
       "      <td>Babaleshwar</td>\n",
       "      <td>INC</td>\n",
       "      <td>M B PATIL</td>\n",
       "      <td>98,339</td>\n",
       "      <td>BJP</td>\n",
       "      <td>VIJAYAKUMAR SIDRAMGOUDA PATIL</td>\n",
       "      <td>68,624</td>\n",
       "      <td>80.46%</td>\n",
       "      <td>211,555</td>\n",
       "      <td>29,715</td>\n",
       "      <td>BIJAPUR</td>\n",
       "    </tr>\n",
       "    <tr>\n",
       "      <th>29</th>\n",
       "      <td>30</td>\n",
       "      <td>Bijapur City</td>\n",
       "      <td>BJP</td>\n",
       "      <td>BASANAGOUD .R. PATIL (YATNAL)</td>\n",
       "      <td>76,308</td>\n",
       "      <td>INC</td>\n",
       "      <td>ABDUL HAMEED MUSHRIF</td>\n",
       "      <td>69,895</td>\n",
       "      <td>61.28%</td>\n",
       "      <td>247,240</td>\n",
       "      <td>6,413</td>\n",
       "      <td>BIJAPUR</td>\n",
       "    </tr>\n",
       "    <tr>\n",
       "      <th>...</th>\n",
       "      <td>...</td>\n",
       "      <td>...</td>\n",
       "      <td>...</td>\n",
       "      <td>...</td>\n",
       "      <td>...</td>\n",
       "      <td>...</td>\n",
       "      <td>...</td>\n",
       "      <td>...</td>\n",
       "      <td>...</td>\n",
       "      <td>...</td>\n",
       "      <td>...</td>\n",
       "      <td>...</td>\n",
       "    </tr>\n",
       "    <tr>\n",
       "      <th>194</th>\n",
       "      <td>195</td>\n",
       "      <td>Belur</td>\n",
       "      <td>JDS</td>\n",
       "      <td>LINGESH</td>\n",
       "      <td>64,268</td>\n",
       "      <td>BJP</td>\n",
       "      <td>H.K. SURESH</td>\n",
       "      <td>44,578</td>\n",
       "      <td>79.41%</td>\n",
       "      <td>190,465</td>\n",
       "      <td>19,690</td>\n",
       "      <td>HASSAN</td>\n",
       "    </tr>\n",
       "    <tr>\n",
       "      <th>195</th>\n",
       "      <td>196</td>\n",
       "      <td>Hassan</td>\n",
       "      <td>BJP</td>\n",
       "      <td>PRITHAM GOWDA</td>\n",
       "      <td>63,348</td>\n",
       "      <td>JDS</td>\n",
       "      <td>H S PRAKASH</td>\n",
       "      <td>50,342</td>\n",
       "      <td>71.34%</td>\n",
       "      <td>212,373</td>\n",
       "      <td>13,006</td>\n",
       "      <td>HASSAN</td>\n",
       "    </tr>\n",
       "    <tr>\n",
       "      <th>196</th>\n",
       "      <td>197</td>\n",
       "      <td>Holenarasipur</td>\n",
       "      <td>JDS</td>\n",
       "      <td>H D REVANNA</td>\n",
       "      <td>108,541</td>\n",
       "      <td>JDS</td>\n",
       "      <td>MANJEGOWDA B P</td>\n",
       "      <td>64,709</td>\n",
       "      <td>85.56%</td>\n",
       "      <td>208,968</td>\n",
       "      <td>43,832</td>\n",
       "      <td>HASSAN</td>\n",
       "    </tr>\n",
       "    <tr>\n",
       "      <th>197</th>\n",
       "      <td>198</td>\n",
       "      <td>Arakalgud</td>\n",
       "      <td>JDS</td>\n",
       "      <td>A. T. RAMASWAMY</td>\n",
       "      <td>85,064</td>\n",
       "      <td>INC</td>\n",
       "      <td>MANJU .A</td>\n",
       "      <td>74,411</td>\n",
       "      <td>87.32%</td>\n",
       "      <td>188,904</td>\n",
       "      <td>10,653</td>\n",
       "      <td>HASSAN</td>\n",
       "    </tr>\n",
       "    <tr>\n",
       "      <th>198</th>\n",
       "      <td>199</td>\n",
       "      <td>Sakaleshpur</td>\n",
       "      <td>JDS</td>\n",
       "      <td>H K KUMARASWAMY</td>\n",
       "      <td>62,262</td>\n",
       "      <td>BJP</td>\n",
       "      <td>SOMASHEKAR JAYARAJ</td>\n",
       "      <td>57,320</td>\n",
       "      <td>82.07%</td>\n",
       "      <td>195,505</td>\n",
       "      <td>4,942</td>\n",
       "      <td>HASSAN</td>\n",
       "    </tr>\n",
       "    <tr>\n",
       "      <th>199</th>\n",
       "      <td>200</td>\n",
       "      <td>Belthangady</td>\n",
       "      <td>BJP</td>\n",
       "      <td>HARISH PUNJA</td>\n",
       "      <td>98,417</td>\n",
       "      <td>INC</td>\n",
       "      <td>K.VASANTHA BANGERA</td>\n",
       "      <td>75,443</td>\n",
       "      <td>81.50%</td>\n",
       "      <td>218,880</td>\n",
       "      <td>22,974</td>\n",
       "      <td>DAKSHINA KANNADA</td>\n",
       "    </tr>\n",
       "    <tr>\n",
       "      <th>200</th>\n",
       "      <td>201</td>\n",
       "      <td>Moodabidri</td>\n",
       "      <td>BJP</td>\n",
       "      <td>UMANATHA KOTIAN</td>\n",
       "      <td>87,444</td>\n",
       "      <td>INC</td>\n",
       "      <td>K. ABHAYACHANDRA JAIN</td>\n",
       "      <td>57,645</td>\n",
       "      <td>75.95%</td>\n",
       "      <td>200,045</td>\n",
       "      <td>29,799</td>\n",
       "      <td>DAKSHINA KANNADA</td>\n",
       "    </tr>\n",
       "    <tr>\n",
       "      <th>201</th>\n",
       "      <td>202</td>\n",
       "      <td>Mangalore City North</td>\n",
       "      <td>BJP</td>\n",
       "      <td>BHARATH SHETTY</td>\n",
       "      <td>98,648</td>\n",
       "      <td>INC</td>\n",
       "      <td>B.A.MOHIUDDIN BAVA</td>\n",
       "      <td>72,000</td>\n",
       "      <td>74.42%</td>\n",
       "      <td>234,826</td>\n",
       "      <td>26,648</td>\n",
       "      <td>DAKSHINA KANNADA</td>\n",
       "    </tr>\n",
       "    <tr>\n",
       "      <th>202</th>\n",
       "      <td>203</td>\n",
       "      <td>Mangalore City South</td>\n",
       "      <td>BJP</td>\n",
       "      <td>VEDA VYASA KAMATH</td>\n",
       "      <td>86,545</td>\n",
       "      <td>INC</td>\n",
       "      <td>J. R. LOBO</td>\n",
       "      <td>70,470</td>\n",
       "      <td>67.47%</td>\n",
       "      <td>240,057</td>\n",
       "      <td>16,075</td>\n",
       "      <td>DAKSHINA KANNADA</td>\n",
       "    </tr>\n",
       "    <tr>\n",
       "      <th>203</th>\n",
       "      <td>204</td>\n",
       "      <td>Mangalore</td>\n",
       "      <td>INC</td>\n",
       "      <td>U T KHADER</td>\n",
       "      <td>80,813</td>\n",
       "      <td>BJP</td>\n",
       "      <td>SANTHOSH KUMAR RAI BOLIYARU</td>\n",
       "      <td>61,074</td>\n",
       "      <td>75.86%</td>\n",
       "      <td>195,735</td>\n",
       "      <td>19,739</td>\n",
       "      <td>DAKSHINA KANNADA</td>\n",
       "    </tr>\n",
       "    <tr>\n",
       "      <th>204</th>\n",
       "      <td>205</td>\n",
       "      <td>Bantwal</td>\n",
       "      <td>BJP</td>\n",
       "      <td>RAJESH NAIK U.</td>\n",
       "      <td>97,802</td>\n",
       "      <td>INC</td>\n",
       "      <td>B RAMANATHA RAI</td>\n",
       "      <td>81,831</td>\n",
       "      <td>81.90%</td>\n",
       "      <td>221,735</td>\n",
       "      <td>15,971</td>\n",
       "      <td>DAKSHINA KANNADA</td>\n",
       "    </tr>\n",
       "    <tr>\n",
       "      <th>205</th>\n",
       "      <td>206</td>\n",
       "      <td>Puttur</td>\n",
       "      <td>BJP</td>\n",
       "      <td>SANJEEV MATHANDUR</td>\n",
       "      <td>90,073</td>\n",
       "      <td>INC</td>\n",
       "      <td>SHAKUNTHALA.T. SHETTY</td>\n",
       "      <td>70,596</td>\n",
       "      <td>81.69%</td>\n",
       "      <td>201,884</td>\n",
       "      <td>19,477</td>\n",
       "      <td>DAKSHINA KANNADA</td>\n",
       "    </tr>\n",
       "    <tr>\n",
       "      <th>206</th>\n",
       "      <td>207</td>\n",
       "      <td>Sullia</td>\n",
       "      <td>BJP</td>\n",
       "      <td>ANGARA S</td>\n",
       "      <td>95,205</td>\n",
       "      <td>INC</td>\n",
       "      <td>DR.B.RAGHU</td>\n",
       "      <td>69,137</td>\n",
       "      <td>83.64%</td>\n",
       "      <td>198,686</td>\n",
       "      <td>26,068</td>\n",
       "      <td>DAKSHINA KANNADA</td>\n",
       "    </tr>\n",
       "    <tr>\n",
       "      <th>207</th>\n",
       "      <td>208</td>\n",
       "      <td>Madikeri</td>\n",
       "      <td>BJP</td>\n",
       "      <td>APPACHU RANJAN M P</td>\n",
       "      <td>70,631</td>\n",
       "      <td>JDS</td>\n",
       "      <td>B A JIVIJAYA</td>\n",
       "      <td>54,616</td>\n",
       "      <td>77.47%</td>\n",
       "      <td>216,937</td>\n",
       "      <td>16,015</td>\n",
       "      <td>KODAGU</td>\n",
       "    </tr>\n",
       "    <tr>\n",
       "      <th>208</th>\n",
       "      <td>209</td>\n",
       "      <td>Virajpet</td>\n",
       "      <td>BJP</td>\n",
       "      <td>K G BOPAIAH</td>\n",
       "      <td>77,944</td>\n",
       "      <td>INC</td>\n",
       "      <td>ARUN MACHAIAH C S</td>\n",
       "      <td>64,591</td>\n",
       "      <td>72.34%</td>\n",
       "      <td>216,909</td>\n",
       "      <td>13,353</td>\n",
       "      <td>KODAGU</td>\n",
       "    </tr>\n",
       "    <tr>\n",
       "      <th>209</th>\n",
       "      <td>210</td>\n",
       "      <td>Piriyapatna</td>\n",
       "      <td>JDS</td>\n",
       "      <td>K. MAHADEVA</td>\n",
       "      <td>77,770</td>\n",
       "      <td>INC</td>\n",
       "      <td>K. VENKATESH</td>\n",
       "      <td>70,277</td>\n",
       "      <td>85.80%</td>\n",
       "      <td>180,411</td>\n",
       "      <td>7,493</td>\n",
       "      <td>MYSORE</td>\n",
       "    </tr>\n",
       "    <tr>\n",
       "      <th>210</th>\n",
       "      <td>211</td>\n",
       "      <td>Krishnarajanagara</td>\n",
       "      <td>JDS</td>\n",
       "      <td>SA. RA. MAHESH</td>\n",
       "      <td>85,011</td>\n",
       "      <td>INC</td>\n",
       "      <td>D. RAVISHANKAR</td>\n",
       "      <td>83,232</td>\n",
       "      <td>85.79%</td>\n",
       "      <td>204,115</td>\n",
       "      <td>1,779</td>\n",
       "      <td>MYSORE</td>\n",
       "    </tr>\n",
       "    <tr>\n",
       "      <th>211</th>\n",
       "      <td>212</td>\n",
       "      <td>Hunsur</td>\n",
       "      <td>JDS</td>\n",
       "      <td>H VISHWANATH</td>\n",
       "      <td>91,667</td>\n",
       "      <td>INC</td>\n",
       "      <td>H P MANJUNATH</td>\n",
       "      <td>83,092</td>\n",
       "      <td>82.73%</td>\n",
       "      <td>224,558</td>\n",
       "      <td>8,575</td>\n",
       "      <td>MYSORE</td>\n",
       "    </tr>\n",
       "    <tr>\n",
       "      <th>212</th>\n",
       "      <td>213</td>\n",
       "      <td>Heggadadevankote</td>\n",
       "      <td>INC</td>\n",
       "      <td>ANIL KUMAR C</td>\n",
       "      <td>76,652</td>\n",
       "      <td>JDS</td>\n",
       "      <td>CHIKKANNA</td>\n",
       "      <td>54,559</td>\n",
       "      <td>79.11%</td>\n",
       "      <td>214,874</td>\n",
       "      <td>22,093</td>\n",
       "      <td>MYSORE</td>\n",
       "    </tr>\n",
       "    <tr>\n",
       "      <th>213</th>\n",
       "      <td>214</td>\n",
       "      <td>Nanjangud</td>\n",
       "      <td>BJP</td>\n",
       "      <td>HARSHA VARDHAN</td>\n",
       "      <td>78,030</td>\n",
       "      <td>INC</td>\n",
       "      <td>KALALE N. KESHAVAMURTHY</td>\n",
       "      <td>65,551</td>\n",
       "      <td>78.16%</td>\n",
       "      <td>209,121</td>\n",
       "      <td>12,479</td>\n",
       "      <td>MYSORE</td>\n",
       "    </tr>\n",
       "    <tr>\n",
       "      <th>214</th>\n",
       "      <td>215</td>\n",
       "      <td>Chamundeshwari</td>\n",
       "      <td>JDS</td>\n",
       "      <td>G T DEVE GOWDA</td>\n",
       "      <td>121,325</td>\n",
       "      <td>INC</td>\n",
       "      <td>SIDDARAMAIAH</td>\n",
       "      <td>85,283</td>\n",
       "      <td>76.05%</td>\n",
       "      <td>295,815</td>\n",
       "      <td>36,042</td>\n",
       "      <td>MYSORE</td>\n",
       "    </tr>\n",
       "    <tr>\n",
       "      <th>215</th>\n",
       "      <td>216</td>\n",
       "      <td>Krishnaraja</td>\n",
       "      <td>BJP</td>\n",
       "      <td>S A RAMADAS</td>\n",
       "      <td>78,573</td>\n",
       "      <td>INC</td>\n",
       "      <td>M K SOMASHEKHAR</td>\n",
       "      <td>52,226</td>\n",
       "      <td>58.86%</td>\n",
       "      <td>247,082</td>\n",
       "      <td>26,347</td>\n",
       "      <td>MYSORE</td>\n",
       "    </tr>\n",
       "    <tr>\n",
       "      <th>216</th>\n",
       "      <td>217</td>\n",
       "      <td>Chamaraja</td>\n",
       "      <td>BJP</td>\n",
       "      <td>L NAGENDRA</td>\n",
       "      <td>51,683</td>\n",
       "      <td>INC</td>\n",
       "      <td>VASU</td>\n",
       "      <td>36,747</td>\n",
       "      <td>59.18%</td>\n",
       "      <td>235,647</td>\n",
       "      <td>14,936</td>\n",
       "      <td>MYSORE</td>\n",
       "    </tr>\n",
       "    <tr>\n",
       "      <th>217</th>\n",
       "      <td>218</td>\n",
       "      <td>Narasimharaja</td>\n",
       "      <td>INC</td>\n",
       "      <td>TANVEER SAIT</td>\n",
       "      <td>62,268</td>\n",
       "      <td>BJP</td>\n",
       "      <td>S.SATHEESH (SANDESH SWAMY)</td>\n",
       "      <td>44,141</td>\n",
       "      <td>61.43%</td>\n",
       "      <td>262,300</td>\n",
       "      <td>18,127</td>\n",
       "      <td>MYSORE</td>\n",
       "    </tr>\n",
       "    <tr>\n",
       "      <th>218</th>\n",
       "      <td>219</td>\n",
       "      <td>Varuna</td>\n",
       "      <td>INC</td>\n",
       "      <td>YATHEENDRA SIDDARAMAIAH</td>\n",
       "      <td>96,435</td>\n",
       "      <td>BJP</td>\n",
       "      <td>T BASAVARAJU</td>\n",
       "      <td>37,819</td>\n",
       "      <td>78.59%</td>\n",
       "      <td>221,050</td>\n",
       "      <td>58,616</td>\n",
       "      <td>MYSORE</td>\n",
       "    </tr>\n",
       "    <tr>\n",
       "      <th>219</th>\n",
       "      <td>220</td>\n",
       "      <td>T. Narasipur</td>\n",
       "      <td>JDS</td>\n",
       "      <td>ASHWIN KUMAR</td>\n",
       "      <td>83,929</td>\n",
       "      <td>INC</td>\n",
       "      <td>DR. H.C.MAHADEVAPPA</td>\n",
       "      <td>55,451</td>\n",
       "      <td>78.08%</td>\n",
       "      <td>198,434</td>\n",
       "      <td>28,478</td>\n",
       "      <td>MYSORE</td>\n",
       "    </tr>\n",
       "    <tr>\n",
       "      <th>220</th>\n",
       "      <td>221</td>\n",
       "      <td>Hanur</td>\n",
       "      <td>INC</td>\n",
       "      <td>R NARENDRA</td>\n",
       "      <td>60,444</td>\n",
       "      <td>BJP</td>\n",
       "      <td>DR. PREETHAN NAGAPPA</td>\n",
       "      <td>56,931</td>\n",
       "      <td>81.61%</td>\n",
       "      <td>207,603</td>\n",
       "      <td>3,513</td>\n",
       "      <td>CHAMARAJNAGAR</td>\n",
       "    </tr>\n",
       "    <tr>\n",
       "      <th>221</th>\n",
       "      <td>222</td>\n",
       "      <td>Kollegal</td>\n",
       "      <td>OTHERS</td>\n",
       "      <td>N MAHESH</td>\n",
       "      <td>71,792</td>\n",
       "      <td>INC</td>\n",
       "      <td>A.R. KRISHNA MURTHY</td>\n",
       "      <td>52,338</td>\n",
       "      <td>79.15%</td>\n",
       "      <td>211,522</td>\n",
       "      <td>19,454</td>\n",
       "      <td>CHAMARAJNAGAR</td>\n",
       "    </tr>\n",
       "    <tr>\n",
       "      <th>222</th>\n",
       "      <td>223</td>\n",
       "      <td>Chamarajanagar</td>\n",
       "      <td>INC</td>\n",
       "      <td>PUTTARANGA SHETTY</td>\n",
       "      <td>75,963</td>\n",
       "      <td>BJP</td>\n",
       "      <td>K R MALLIKARJUNAPPA</td>\n",
       "      <td>71,050</td>\n",
       "      <td>80.41%</td>\n",
       "      <td>206,146</td>\n",
       "      <td>4,913</td>\n",
       "      <td>CHAMARAJNAGAR</td>\n",
       "    </tr>\n",
       "    <tr>\n",
       "      <th>223</th>\n",
       "      <td>224</td>\n",
       "      <td>Gundlupet</td>\n",
       "      <td>BJP</td>\n",
       "      <td>C S NIRANJANKUMAR</td>\n",
       "      <td>94,151</td>\n",
       "      <td>INC</td>\n",
       "      <td>M C MOHAN KUMARI URUF GEETHA</td>\n",
       "      <td>77,467</td>\n",
       "      <td>87.50%</td>\n",
       "      <td>205,616</td>\n",
       "      <td>16,684</td>\n",
       "      <td>CHAMARAJNAGAR</td>\n",
       "    </tr>\n",
       "  </tbody>\n",
       "</table>\n",
       "<p>224 rows × 12 columns</p>\n",
       "</div>"
      ],
      "text/plain": [
       "     AC No.               AC Name Winning Party  \\\n",
       "0         1               Nippani           BJP   \n",
       "1         2      Chikkodi-Sadalga           INC   \n",
       "2         3                Athani           INC   \n",
       "3         4                Kagwad           INC   \n",
       "4         5               Kudachi           BJP   \n",
       "5         6                Raybag           BJP   \n",
       "6         7               Hukkeri           BJP   \n",
       "7         8              Arabhavi           BJP   \n",
       "8         9                 Gokak           INC   \n",
       "9        10          Yemkanamardi           INC   \n",
       "10       11         Belgaum Uttar           BJP   \n",
       "11       12       Belgaum Dakshin           BJP   \n",
       "12       13         Belgaum Rural           INC   \n",
       "13       14              Khanapur           INC   \n",
       "14       15                Kittur           BJP   \n",
       "15       16           Bailahongal           INC   \n",
       "16       17    Saundatti Yellamma           BJP   \n",
       "17       18               Ramdurg           BJP   \n",
       "18       19                Mudhol           BJP   \n",
       "19       20                Terdal           BJP   \n",
       "20       21             Jamkhandi           INC   \n",
       "21       22                 Bilgi           BJP   \n",
       "22       23                Badami           INC   \n",
       "23       24              Bagalkot           BJP   \n",
       "24       25               Hungund           BJP   \n",
       "25       26            Muddebihal           BJP   \n",
       "26       27       Devara Hippargi           BJP   \n",
       "27       28     Basavana Bagevadi           INC   \n",
       "28       29           Babaleshwar           INC   \n",
       "29       30          Bijapur City           BJP   \n",
       "..      ...                   ...           ...   \n",
       "194     195                 Belur           JDS   \n",
       "195     196                Hassan           BJP   \n",
       "196     197         Holenarasipur           JDS   \n",
       "197     198             Arakalgud           JDS   \n",
       "198     199           Sakaleshpur           JDS   \n",
       "199     200           Belthangady           BJP   \n",
       "200     201            Moodabidri           BJP   \n",
       "201     202  Mangalore City North           BJP   \n",
       "202     203  Mangalore City South           BJP   \n",
       "203     204             Mangalore           INC   \n",
       "204     205               Bantwal           BJP   \n",
       "205     206                Puttur           BJP   \n",
       "206     207                Sullia           BJP   \n",
       "207     208              Madikeri           BJP   \n",
       "208     209              Virajpet           BJP   \n",
       "209     210           Piriyapatna           JDS   \n",
       "210     211     Krishnarajanagara           JDS   \n",
       "211     212                Hunsur           JDS   \n",
       "212     213      Heggadadevankote           INC   \n",
       "213     214             Nanjangud           BJP   \n",
       "214     215        Chamundeshwari           JDS   \n",
       "215     216           Krishnaraja           BJP   \n",
       "216     217             Chamaraja           BJP   \n",
       "217     218         Narasimharaja           INC   \n",
       "218     219                Varuna           INC   \n",
       "219     220          T. Narasipur           JDS   \n",
       "220     221                 Hanur           INC   \n",
       "221     222              Kollegal        OTHERS   \n",
       "222     223        Chamarajanagar           INC   \n",
       "223     224             Gundlupet           BJP   \n",
       "\n",
       "                          Winning Candidate Winner Votes Runner Up Party  \\\n",
       "0                          SHASHIKALA JOLLE       87,006             INC   \n",
       "1                            GANESH HUKKERI       91,467             BJP   \n",
       "2              MAHESH IRANAGOUDA KUMATHALLI       82,094             BJP   \n",
       "3                           BALASAHEB PATIL       83,060             BJP   \n",
       "4                                   P RAJIV       67,781             INC   \n",
       "5             AIHOLE DURYODHAN MAHALINGAPPA       67,502             INC   \n",
       "6                               UMESH KATTI       83,588             INC   \n",
       "7                     BALACHANDRA LAXMANRAO       96,144             JDS   \n",
       "8                JARKIHOLI RAMESH LAXMANRAO       90,249             BJP   \n",
       "9                      SATISH. L. JARKIHOLI       73,512             BJP   \n",
       "10                            ANIL S BENAKE       79,060             INC   \n",
       "11                              ABHAY PATIL       84,498             INC   \n",
       "12                        LAKSHMI HEBBALKAR      102,040             BJP   \n",
       "13                         ANJALI LIMBALKAR       36,649             BJP   \n",
       "14       DODDAGOUDAR MAHANTESH BASAVANTARAY       73,155             INC   \n",
       "15            KOUJALAGI MAHANTESH SHIVANAND       47,040             IND   \n",
       "16   ANAND VISHWANATH CHANDRASHEKHAR MAMANI       62,480             IND   \n",
       "17        MAHADEVAPPA SHIVALINGAPPA YADAWAD       68,349             INC   \n",
       "18                           GOVIND KARJOLA       76,431             INC   \n",
       "19                             SIDDU SAVADI       87,213             INC   \n",
       "20                         SIDDU NYAMAGOWDA       49,245             BJP   \n",
       "21                          MURUGESH NIRANI       85,135             INC   \n",
       "22                             SIDDARAMAIAH       67,599             BJP   \n",
       "23   VEERABHADRAYYA (VEERANNA) CHARANTIMATH       85,653             INC   \n",
       "24                     DODDANAGOUDA G PATIL       65,012             INC   \n",
       "25                  AMEENAPPA GOUDA S PATIL       63,512             INC   \n",
       "26            SOMANAGOUDA B PATIL (SASANUR)       48,245             INC   \n",
       "27                          SHIVANAND PATIL       58,647             JDS   \n",
       "28                                M B PATIL       98,339             BJP   \n",
       "29            BASANAGOUD .R. PATIL (YATNAL)       76,308             INC   \n",
       "..                                      ...          ...             ...   \n",
       "194                                 LINGESH       64,268             BJP   \n",
       "195                           PRITHAM GOWDA       63,348             JDS   \n",
       "196                             H D REVANNA      108,541             JDS   \n",
       "197                         A. T. RAMASWAMY       85,064             INC   \n",
       "198                         H K KUMARASWAMY       62,262             BJP   \n",
       "199                            HARISH PUNJA       98,417             INC   \n",
       "200                         UMANATHA KOTIAN       87,444             INC   \n",
       "201                          BHARATH SHETTY       98,648             INC   \n",
       "202                       VEDA VYASA KAMATH       86,545             INC   \n",
       "203                              U T KHADER       80,813             BJP   \n",
       "204                          RAJESH NAIK U.       97,802             INC   \n",
       "205                       SANJEEV MATHANDUR       90,073             INC   \n",
       "206                                ANGARA S       95,205             INC   \n",
       "207                      APPACHU RANJAN M P       70,631             JDS   \n",
       "208                             K G BOPAIAH       77,944             INC   \n",
       "209                             K. MAHADEVA       77,770             INC   \n",
       "210                          SA. RA. MAHESH       85,011             INC   \n",
       "211                            H VISHWANATH       91,667             INC   \n",
       "212                            ANIL KUMAR C       76,652             JDS   \n",
       "213                          HARSHA VARDHAN       78,030             INC   \n",
       "214                          G T DEVE GOWDA      121,325             INC   \n",
       "215                             S A RAMADAS       78,573             INC   \n",
       "216                              L NAGENDRA       51,683             INC   \n",
       "217                            TANVEER SAIT       62,268             BJP   \n",
       "218                 YATHEENDRA SIDDARAMAIAH       96,435             BJP   \n",
       "219                            ASHWIN KUMAR       83,929             INC   \n",
       "220                              R NARENDRA       60,444             BJP   \n",
       "221                                N MAHESH       71,792             INC   \n",
       "222                       PUTTARANGA SHETTY       75,963             BJP   \n",
       "223                       C S NIRANJANKUMAR       94,151             INC   \n",
       "\n",
       "                                  Runner Up Candidate Runner Up Votes  \\\n",
       "0                              KAKASO PANDURANG PATIL          78,500   \n",
       "1                             ANNASAHEB SHANKAR JOLLE          80,898   \n",
       "2                              LAXMAN SANGAPPA SAVADI          79,763   \n",
       "3                          BHARAMAGOUDA ALAGOUDA KAGE          50,118   \n",
       "4                                  AMIT SHAMA GHATAGE          52,773   \n",
       "5                            PRADEEPKUMAR RAMU MALAGE          50,954   \n",
       "6                        APPAYYAGOUDA BASAGOUDA PATIL          68,203   \n",
       "7                             BHIMAPPA GUNDAPPA GADAD          48,816   \n",
       "8                          ASHOK NINGAYYASWAMI PUJARI          75,969   \n",
       "9                              ASTAGI MARUTI MALLAPPA          70,662   \n",
       "10                              FAIROZ NURUDDIN SAITH          61,793   \n",
       "11                       M D LAKSHMINARAYAN (ANNAYYA)          25,806   \n",
       "12                                     SANJAY B PATIL          50,316   \n",
       "13                                   VITHAL HALAGEKAR          31,516   \n",
       "14                   INAMDAR DANAPPAGOUDA BASANAGOUDA          40,293   \n",
       "15                          JAGDISH. CHANNAPPA METGUD          41,918   \n",
       "16                                       ANAND CHOPRA          56,189   \n",
       "17                           ASHOK MAHADEVAPPA PATTAN          65,474   \n",
       "18                       BANDIWADDAR SATISH CHINNAPPA          60,949   \n",
       "19                                           UMASHREE          66,324   \n",
       "20                           KULKARNI SHRIKANT SUBRAO          46,450   \n",
       "21                        JAGADISH TIMMANAGOUDA PATIL          80,324   \n",
       "22                                        B SRIRAMULU          65,903   \n",
       "23                            METI HULLAPPA YAMANAPPA          69,719   \n",
       "24           KASHAPPANAVAR VIJAYANAND SHIVASHANKRAPPA          59,785   \n",
       "25   APPAJI URF CHANNABASAVARAJ SHANKARARAO NADAGOUDA          54,879   \n",
       "26                   BHIMANAGOUDA (RAJUGOUDA) B PATIL          44,892   \n",
       "27           SOMANAGOUDA(APPUGOUDA) B PATIL(MANAGULI)          55,461   \n",
       "28                      VIJAYAKUMAR SIDRAMGOUDA PATIL          68,624   \n",
       "29                               ABDUL HAMEED MUSHRIF          69,895   \n",
       "..                                                ...             ...   \n",
       "194                                       H.K. SURESH          44,578   \n",
       "195                                       H S PRAKASH          50,342   \n",
       "196                                    MANJEGOWDA B P          64,709   \n",
       "197                                          MANJU .A          74,411   \n",
       "198                                SOMASHEKAR JAYARAJ          57,320   \n",
       "199                                K.VASANTHA BANGERA          75,443   \n",
       "200                             K. ABHAYACHANDRA JAIN          57,645   \n",
       "201                                B.A.MOHIUDDIN BAVA          72,000   \n",
       "202                                        J. R. LOBO          70,470   \n",
       "203                       SANTHOSH KUMAR RAI BOLIYARU          61,074   \n",
       "204                                   B RAMANATHA RAI          81,831   \n",
       "205                             SHAKUNTHALA.T. SHETTY          70,596   \n",
       "206                                        DR.B.RAGHU          69,137   \n",
       "207                                      B A JIVIJAYA          54,616   \n",
       "208                                 ARUN MACHAIAH C S          64,591   \n",
       "209                                      K. VENKATESH          70,277   \n",
       "210                                    D. RAVISHANKAR          83,232   \n",
       "211                                     H P MANJUNATH          83,092   \n",
       "212                                         CHIKKANNA          54,559   \n",
       "213                           KALALE N. KESHAVAMURTHY          65,551   \n",
       "214                                      SIDDARAMAIAH          85,283   \n",
       "215                                   M K SOMASHEKHAR          52,226   \n",
       "216                                              VASU          36,747   \n",
       "217                        S.SATHEESH (SANDESH SWAMY)          44,141   \n",
       "218                                      T BASAVARAJU          37,819   \n",
       "219                               DR. H.C.MAHADEVAPPA          55,451   \n",
       "220                              DR. PREETHAN NAGAPPA          56,931   \n",
       "221                               A.R. KRISHNA MURTHY          52,338   \n",
       "222                               K R MALLIKARJUNAPPA          71,050   \n",
       "223                      M C MOHAN KUMARI URUF GEETHA          77,467   \n",
       "\n",
       "    Voting Turnout % Total Voters Winning Margin     District Name  \n",
       "0             81.19%      211,827          8,506          BELAGAVI  \n",
       "1             84.78%      210,480         10,569          BELAGAVI  \n",
       "2             80.67%      213,935          2,331          BELAGAVI  \n",
       "3             79.98%      181,486         32,942          BELAGAVI  \n",
       "4             75.86%      180,233         15,008          BELAGAVI  \n",
       "5             76.80%      195,179         16,548          BELAGAVI  \n",
       "6             81.15%      193,756         15,385          BELAGAVI  \n",
       "7             76.29%      231,177         47,328          BELAGAVI  \n",
       "8             71.79%      241,197         14,280          BELAGAVI  \n",
       "9             79.79%      186,859          2,850          BELAGAVI  \n",
       "10            63.18%      234,887         17,267          BELAGAVI  \n",
       "11            62.50%      234,509         58,692          BELAGAVI  \n",
       "12            77.47%      238,753         51,724          BELAGAVI  \n",
       "13            74.86%      205,959          5,133          BELAGAVI  \n",
       "14            78.82%      187,722         32,862          BELAGAVI  \n",
       "15            77.92%      184,116          5,122          BELAGAVI  \n",
       "16            79.96%      191,347          6,291          BELAGAVI  \n",
       "17            75.19%      200,163          2,875          BELAGAVI  \n",
       "18            75.17%      196,094         15,482          BAGALKOT  \n",
       "19            78.43%      220,340         20,889          BAGALKOT  \n",
       "20            74.98%      203,681          2,795          BAGALKOT  \n",
       "21            77.13%      218,214          4,811          BAGALKOT  \n",
       "22            74.65%      217,721          1,696          BAGALKOT  \n",
       "23            69.32%      230,825         15,934          BAGALKOT  \n",
       "24            73.52%      214,145          5,227          BAGALKOT  \n",
       "25            65.89%      205,694          8,633           BIJAPUR  \n",
       "26            65.78%      208,625          3,353           BIJAPUR  \n",
       "27            73.19%      201,089          3,186           BIJAPUR  \n",
       "28            80.46%      211,555         29,715           BIJAPUR  \n",
       "29            61.28%      247,240          6,413           BIJAPUR  \n",
       "..               ...          ...            ...               ...  \n",
       "194           79.41%      190,465         19,690            HASSAN  \n",
       "195           71.34%      212,373         13,006            HASSAN  \n",
       "196           85.56%      208,968         43,832            HASSAN  \n",
       "197           87.32%      188,904         10,653            HASSAN  \n",
       "198           82.07%      195,505          4,942            HASSAN  \n",
       "199           81.50%      218,880         22,974  DAKSHINA KANNADA  \n",
       "200           75.95%      200,045         29,799  DAKSHINA KANNADA  \n",
       "201           74.42%      234,826         26,648  DAKSHINA KANNADA  \n",
       "202           67.47%      240,057         16,075  DAKSHINA KANNADA  \n",
       "203           75.86%      195,735         19,739  DAKSHINA KANNADA  \n",
       "204           81.90%      221,735         15,971  DAKSHINA KANNADA  \n",
       "205           81.69%      201,884         19,477  DAKSHINA KANNADA  \n",
       "206           83.64%      198,686         26,068  DAKSHINA KANNADA  \n",
       "207           77.47%      216,937         16,015            KODAGU  \n",
       "208           72.34%      216,909         13,353            KODAGU  \n",
       "209           85.80%      180,411          7,493            MYSORE  \n",
       "210           85.79%      204,115          1,779            MYSORE  \n",
       "211           82.73%      224,558          8,575            MYSORE  \n",
       "212           79.11%      214,874         22,093            MYSORE  \n",
       "213           78.16%      209,121         12,479            MYSORE  \n",
       "214           76.05%      295,815         36,042            MYSORE  \n",
       "215           58.86%      247,082         26,347            MYSORE  \n",
       "216           59.18%      235,647         14,936            MYSORE  \n",
       "217           61.43%      262,300         18,127            MYSORE  \n",
       "218           78.59%      221,050         58,616            MYSORE  \n",
       "219           78.08%      198,434         28,478            MYSORE  \n",
       "220           81.61%      207,603          3,513     CHAMARAJNAGAR  \n",
       "221           79.15%      211,522         19,454     CHAMARAJNAGAR  \n",
       "222           80.41%      206,146          4,913     CHAMARAJNAGAR  \n",
       "223           87.50%      205,616         16,684     CHAMARAJNAGAR  \n",
       "\n",
       "[224 rows x 12 columns]"
      ]
     },
     "execution_count": 65,
     "metadata": {},
     "output_type": "execute_result"
    }
   ],
   "source": [
    "# Displaying all the data\n",
    "df"
   ]
  },
  {
   "cell_type": "code",
   "execution_count": 61,
   "metadata": {},
   "outputs": [
    {
     "name": "stdout",
     "output_type": "stream",
     "text": [
      "The no. of NaN values in the column AC No. is :0 \n",
      "The no. of NaN values in the column AC Name is :0 \n",
      "The no. of NaN values in the column Winning Party is :0 \n",
      "The no. of NaN values in the column Winning Candidate is :0 \n",
      "The no. of NaN values in the column Winner Votes is :0 \n",
      "The no. of NaN values in the column Runner Up Party is :0 \n",
      "The no. of NaN values in the column Runner Up Candidate is :0 \n",
      "The no. of NaN values in the column Runner Up Votes is :0 \n",
      "The no. of NaN values in the column Voting Turnout % is :0 \n",
      "The no. of NaN values in the column Total Voters is :0 \n",
      "The no. of NaN values in the column Winning Margin is :0 \n",
      "The no. of NaN values in the column District Name is :0 \n"
     ]
    }
   ],
   "source": [
    "# Checking for the presence of NaN values in the dataset\n",
    "\n",
    "for col in df.columns:\n",
    "    print(\"The no. of NaN values in the column {} is :{} \".format(col,df[col].isnull().sum()))"
   ]
  },
  {
   "cell_type": "code",
   "execution_count": 62,
   "metadata": {},
   "outputs": [],
   "source": [
    "# Retrieving the row where total_voters column is NaN\n",
    "\n",
    "if(df['Total Voters'].isnull().values.any()) :\n",
    "    row = df[df['Total Voters'].isnull()]\n",
    "    row"
   ]
  },
  {
   "cell_type": "code",
   "execution_count": 63,
   "metadata": {},
   "outputs": [
    {
     "data": {
      "text/html": [
       "<div>\n",
       "<style scoped>\n",
       "    .dataframe tbody tr th:only-of-type {\n",
       "        vertical-align: middle;\n",
       "    }\n",
       "\n",
       "    .dataframe tbody tr th {\n",
       "        vertical-align: top;\n",
       "    }\n",
       "\n",
       "    .dataframe thead th {\n",
       "        text-align: right;\n",
       "    }\n",
       "</style>\n",
       "<table border=\"1\" class=\"dataframe\">\n",
       "  <thead>\n",
       "    <tr style=\"text-align: right;\">\n",
       "      <th></th>\n",
       "      <th>AC No.</th>\n",
       "      <th>AC Name</th>\n",
       "      <th>Winning Party</th>\n",
       "      <th>Winning Candidate</th>\n",
       "      <th>Winner Votes</th>\n",
       "      <th>Runner Up Party</th>\n",
       "      <th>Runner Up Candidate</th>\n",
       "      <th>Runner Up Votes</th>\n",
       "      <th>Voting Turnout %</th>\n",
       "      <th>Total Voters</th>\n",
       "      <th>Winning Margin</th>\n",
       "      <th>District Name</th>\n",
       "    </tr>\n",
       "  </thead>\n",
       "  <tbody>\n",
       "    <tr>\n",
       "      <th>197</th>\n",
       "      <td>198</td>\n",
       "      <td>Arakalgud</td>\n",
       "      <td>JDS</td>\n",
       "      <td>A. T. RAMASWAMY</td>\n",
       "      <td>85,064</td>\n",
       "      <td>INC</td>\n",
       "      <td>MANJU .A</td>\n",
       "      <td>74,411</td>\n",
       "      <td>87.32%</td>\n",
       "      <td>188,904</td>\n",
       "      <td>10,653</td>\n",
       "      <td>HASSAN</td>\n",
       "    </tr>\n",
       "  </tbody>\n",
       "</table>\n",
       "</div>"
      ],
      "text/plain": [
       "     AC No.    AC Name Winning Party Winning Candidate Winner Votes  \\\n",
       "197     198  Arakalgud           JDS   A. T. RAMASWAMY       85,064   \n",
       "\n",
       "    Runner Up Party Runner Up Candidate Runner Up Votes Voting Turnout %  \\\n",
       "197             INC            MANJU .A          74,411           87.32%   \n",
       "\n",
       "    Total Voters Winning Margin District Name  \n",
       "197      188,904         10,653        HASSAN  "
      ]
     },
     "execution_count": 63,
     "metadata": {},
     "output_type": "execute_result"
    }
   ],
   "source": [
    "# After searching the web the total no. of voters from Arakalgud Constituency was found to be 188904\n",
    "\n",
    "votes = \"188,904\"\n",
    "\n",
    "df['Total Voters'].replace(np.nan,votes,inplace=True)\n",
    "df[df['AC No.']==198]\n"
   ]
  },
  {
   "cell_type": "code",
   "execution_count": 64,
   "metadata": {},
   "outputs": [
    {
     "name": "stdout",
     "output_type": "stream",
     "text": [
      "The no. of NaN values in the column AC No. is : 0\n",
      "The no. of NaN values in the column AC Name is : 0\n",
      "The no. of NaN values in the column Winning Party is : 0\n",
      "The no. of NaN values in the column Winning Candidate is : 0\n",
      "The no. of NaN values in the column Winner Votes is : 0\n",
      "The no. of NaN values in the column Runner Up Party is : 0\n",
      "The no. of NaN values in the column Runner Up Candidate is : 0\n",
      "The no. of NaN values in the column Runner Up Votes is : 0\n",
      "The no. of NaN values in the column Voting Turnout % is : 0\n",
      "The no. of NaN values in the column Total Voters is : 0\n",
      "The no. of NaN values in the column Winning Margin is : 0\n",
      "The no. of NaN values in the column District Name is : 0\n"
     ]
    }
   ],
   "source": [
    "# Checking for the presence of NaN values in the dataset\n",
    "\n",
    "for col in df.columns:\n",
    "    print(\"The no. of NaN values in the column {} is : {}\".format(col,df[col].isnull().sum()))"
   ]
  },
  {
   "cell_type": "markdown",
   "metadata": {},
   "source": [
    "\n",
    "<hr>\n",
    "\n",
    "### 1. PARTIES WHO WON ATLEAST ONE CONSTITUENCY"
   ]
  },
  {
   "cell_type": "code",
   "execution_count": 66,
   "metadata": {},
   "outputs": [
    {
     "data": {
      "text/plain": [
       "array(['BJP', 'INC', 'JDS', 'OTHERS', '-'], dtype=object)"
      ]
     },
     "execution_count": 66,
     "metadata": {},
     "output_type": "execute_result"
    }
   ],
   "source": [
    "df['Winning Party'].unique()"
   ]
  },
  {
   "cell_type": "code",
   "execution_count": 67,
   "metadata": {},
   "outputs": [],
   "source": [
    "# BJP,INC,JDS,OTHERS are valid parties, but '-' is not a party, so let's see what data does it hold"
   ]
  },
  {
   "cell_type": "code",
   "execution_count": 68,
   "metadata": {},
   "outputs": [
    {
     "data": {
      "text/html": [
       "<div>\n",
       "<style scoped>\n",
       "    .dataframe tbody tr th:only-of-type {\n",
       "        vertical-align: middle;\n",
       "    }\n",
       "\n",
       "    .dataframe tbody tr th {\n",
       "        vertical-align: top;\n",
       "    }\n",
       "\n",
       "    .dataframe thead th {\n",
       "        text-align: right;\n",
       "    }\n",
       "</style>\n",
       "<table border=\"1\" class=\"dataframe\">\n",
       "  <thead>\n",
       "    <tr style=\"text-align: right;\">\n",
       "      <th></th>\n",
       "      <th>AC No.</th>\n",
       "      <th>AC Name</th>\n",
       "      <th>Winning Party</th>\n",
       "      <th>Winning Candidate</th>\n",
       "      <th>Winner Votes</th>\n",
       "      <th>Runner Up Party</th>\n",
       "      <th>Runner Up Candidate</th>\n",
       "      <th>Runner Up Votes</th>\n",
       "      <th>Voting Turnout %</th>\n",
       "      <th>Total Voters</th>\n",
       "      <th>Winning Margin</th>\n",
       "      <th>District Name</th>\n",
       "    </tr>\n",
       "  </thead>\n",
       "  <tbody>\n",
       "    <tr>\n",
       "      <th>153</th>\n",
       "      <td>154</td>\n",
       "      <td>Rajarajeshwarinagar</td>\n",
       "      <td>-</td>\n",
       "      <td>-</td>\n",
       "      <td>-</td>\n",
       "      <td>-</td>\n",
       "      <td>-</td>\n",
       "      <td>-</td>\n",
       "      <td>-</td>\n",
       "      <td>471,459</td>\n",
       "      <td>-</td>\n",
       "      <td>B.B.M.P (CENTRAL)</td>\n",
       "    </tr>\n",
       "    <tr>\n",
       "      <th>172</th>\n",
       "      <td>173</td>\n",
       "      <td>Jayanagar</td>\n",
       "      <td>-</td>\n",
       "      <td>-</td>\n",
       "      <td>-</td>\n",
       "      <td>-</td>\n",
       "      <td>-</td>\n",
       "      <td>-</td>\n",
       "      <td>-</td>\n",
       "      <td>203,184</td>\n",
       "      <td>-</td>\n",
       "      <td>B.B.M.P(SOUTH)</td>\n",
       "    </tr>\n",
       "  </tbody>\n",
       "</table>\n",
       "</div>"
      ],
      "text/plain": [
       "     AC No.              AC Name Winning Party Winning Candidate Winner Votes  \\\n",
       "153     154  Rajarajeshwarinagar             -                 -            -   \n",
       "172     173            Jayanagar             -                 -            -   \n",
       "\n",
       "    Runner Up Party Runner Up Candidate Runner Up Votes Voting Turnout %  \\\n",
       "153               -                   -               -                -   \n",
       "172               -                   -               -                -   \n",
       "\n",
       "    Total Voters Winning Margin      District Name  \n",
       "153      471,459              -  B.B.M.P (CENTRAL)  \n",
       "172      203,184              -     B.B.M.P(SOUTH)  "
      ]
     },
     "execution_count": 68,
     "metadata": {},
     "output_type": "execute_result"
    }
   ],
   "source": [
    "df[df['Winning Party'] == '-']"
   ]
  },
  {
   "cell_type": "code",
   "execution_count": 69,
   "metadata": {},
   "outputs": [],
   "source": [
    "# So, elections were not conducted in these areas [atleast that's what our data tells us] , due to some unavoidable circumstances"
   ]
  },
  {
   "cell_type": "code",
   "execution_count": 70,
   "metadata": {},
   "outputs": [],
   "source": [
    "# So, it's better to remove these 2 constituencies from our data, so that it won't cause us any future problems"
   ]
  },
  {
   "cell_type": "code",
   "execution_count": 71,
   "metadata": {},
   "outputs": [],
   "source": [
    "df.drop(df[df['Winning Party'] == '-'].index,inplace=True)"
   ]
  },
  {
   "cell_type": "code",
   "execution_count": 78,
   "metadata": {},
   "outputs": [
    {
     "data": {
      "text/plain": [
       "array(['BJP', 'INC', 'JDS', 'OTHERS'], dtype=object)"
      ]
     },
     "execution_count": 78,
     "metadata": {},
     "output_type": "execute_result"
    }
   ],
   "source": [
    "df['Winning Party'].unique()"
   ]
  },
  {
   "cell_type": "code",
   "execution_count": 79,
   "metadata": {},
   "outputs": [],
   "source": [
    "# So we have performed the first task ie, to find the Parties that have won atleast one Constituency"
   ]
  },
  {
   "cell_type": "code",
   "execution_count": 80,
   "metadata": {},
   "outputs": [],
   "source": [
    "df.reset_index(inplace=True)"
   ]
  },
  {
   "cell_type": "code",
   "execution_count": 81,
   "metadata": {},
   "outputs": [
    {
     "data": {
      "text/plain": [
       "array(['BJP', 'INC', 'JDS', 'OTHERS'], dtype=object)"
      ]
     },
     "execution_count": 81,
     "metadata": {},
     "output_type": "execute_result"
    }
   ],
   "source": [
    "df.drop(labels = 'index',axis = 1,inplace=True)\n",
    "df['Winning Party'].unique()"
   ]
  },
  {
   "cell_type": "markdown",
   "metadata": {},
   "source": [
    "\n",
    "<hr>\n",
    "\n",
    "### 2. VOTING TURNOUT IN EACH DISTRICT"
   ]
  },
  {
   "cell_type": "code",
   "execution_count": 130,
   "metadata": {
    "scrolled": true
   },
   "outputs": [
    {
     "data": {
      "text/plain": [
       "str"
      ]
     },
     "execution_count": 130,
     "metadata": {},
     "output_type": "execute_result"
    }
   ],
   "source": [
    "type(df['Voting Turnout %'][0])"
   ]
  },
  {
   "cell_type": "code",
   "execution_count": 131,
   "metadata": {},
   "outputs": [
    {
     "data": {
      "text/plain": [
       "'81.19%'"
      ]
     },
     "execution_count": 131,
     "metadata": {},
     "output_type": "execute_result"
    }
   ],
   "source": [
    "df['Voting Turnout %'][0]"
   ]
  },
  {
   "cell_type": "code",
   "execution_count": 132,
   "metadata": {},
   "outputs": [],
   "source": [
    "# Even though it is a floating point, it is represented as a string, so first we need to convert it into valid float datatype to perform aggregate operations"
   ]
  },
  {
   "cell_type": "code",
   "execution_count": 133,
   "metadata": {},
   "outputs": [],
   "source": [
    "vot_turnout = df['Voting Turnout %']"
   ]
  },
  {
   "cell_type": "code",
   "execution_count": 134,
   "metadata": {},
   "outputs": [
    {
     "data": {
      "text/plain": [
       "'81.19%'"
      ]
     },
     "execution_count": 134,
     "metadata": {},
     "output_type": "execute_result"
    }
   ],
   "source": [
    "vot_turnout[0]"
   ]
  },
  {
   "cell_type": "code",
   "execution_count": 135,
   "metadata": {},
   "outputs": [
    {
     "data": {
      "text/plain": [
       "['81.19', '']"
      ]
     },
     "execution_count": 135,
     "metadata": {},
     "output_type": "execute_result"
    }
   ],
   "source": [
    "vot_turnout[0].split('%')"
   ]
  },
  {
   "cell_type": "code",
   "execution_count": 136,
   "metadata": {},
   "outputs": [
    {
     "data": {
      "text/plain": [
       "81.19"
      ]
     },
     "execution_count": 136,
     "metadata": {},
     "output_type": "execute_result"
    }
   ],
   "source": [
    "float(vot_turnout[0].split('%')[0])"
   ]
  },
  {
   "cell_type": "code",
   "execution_count": 137,
   "metadata": {},
   "outputs": [
    {
     "name": "stdout",
     "output_type": "stream",
     "text": [
      "222\n"
     ]
    }
   ],
   "source": [
    "v_turn = []\n",
    "print(vot_turnout.size)\n",
    "i = 0\n",
    "for i in range(0,len(vot_turnout)):\n",
    "    x = float(vot_turnout[i].split('%')[0])\n",
    "    v_turn.append(x)\n",
    "    "
   ]
  },
  {
   "cell_type": "code",
   "execution_count": 138,
   "metadata": {},
   "outputs": [],
   "source": [
    "v_turn = np.array(v_turn)"
   ]
  },
  {
   "cell_type": "code",
   "execution_count": 139,
   "metadata": {},
   "outputs": [],
   "source": [
    "df.drop('Voting Turnout %',axis = 1,inplace=True)"
   ]
  },
  {
   "cell_type": "code",
   "execution_count": 140,
   "metadata": {},
   "outputs": [],
   "source": [
    "df['Voting Turnout %'] = pd.Series(v_turn)"
   ]
  },
  {
   "cell_type": "code",
   "execution_count": 141,
   "metadata": {},
   "outputs": [
    {
     "data": {
      "text/plain": [
       "81.19"
      ]
     },
     "execution_count": 141,
     "metadata": {},
     "output_type": "execute_result"
    }
   ],
   "source": [
    "df['Voting Turnout %'][0]"
   ]
  },
  {
   "cell_type": "code",
   "execution_count": 142,
   "metadata": {},
   "outputs": [],
   "source": [
    "df['Voting Turnout %'] = pd.to_numeric(df['Voting Turnout %'])"
   ]
  },
  {
   "cell_type": "code",
   "execution_count": 143,
   "metadata": {},
   "outputs": [
    {
     "data": {
      "text/plain": [
       "numpy.float64"
      ]
     },
     "execution_count": 143,
     "metadata": {},
     "output_type": "execute_result"
    }
   ],
   "source": [
    "type(df['Voting Turnout %'][0])"
   ]
  },
  {
   "cell_type": "code",
   "execution_count": 144,
   "metadata": {},
   "outputs": [],
   "source": [
    "## Now that the type of the column is converted to a numeric type, we can now apply our analysis on it"
   ]
  },
  {
   "cell_type": "code",
   "execution_count": 145,
   "metadata": {},
   "outputs": [],
   "source": [
    "## We want the voting turnout in each district"
   ]
  },
  {
   "cell_type": "code",
   "execution_count": 146,
   "metadata": {},
   "outputs": [
    {
     "data": {
      "text/plain": [
       "Index(['AC No.', 'AC Name', 'Winning Party', 'Winning Candidate',\n",
       "       'Winner Votes', 'Runner Up Party', 'Runner Up Candidate',\n",
       "       'Runner Up Votes', 'Total Voters', 'District Name', 'Winning Margin',\n",
       "       'Voting Turnout %'],\n",
       "      dtype='object')"
      ]
     },
     "execution_count": 146,
     "metadata": {},
     "output_type": "execute_result"
    }
   ],
   "source": [
    "df.columns"
   ]
  },
  {
   "cell_type": "code",
   "execution_count": 147,
   "metadata": {},
   "outputs": [
    {
     "data": {
      "text/plain": [
       "<matplotlib.axes._subplots.AxesSubplot at 0x7f1d4c3a5630>"
      ]
     },
     "execution_count": 147,
     "metadata": {},
     "output_type": "execute_result"
    },
    {
     "data": {
      "image/png": "[encoded data removed]",
      "text/plain": [
       "<Figure size 432x288 with 1 Axes>"
      ]
     },
     "metadata": {
      "needs_background": "light"
     },
     "output_type": "display_data"
    }
   ],
   "source": [
    "df.groupby(['District Name'])['Voting Turnout %'].mean().plot(legend = True)"
   ]
  },
  {
   "cell_type": "code",
   "execution_count": 148,
   "metadata": {},
   "outputs": [],
   "source": [
    "dname = df['District Name'].unique()"
   ]
  },
  {
   "cell_type": "code",
   "execution_count": 149,
   "metadata": {},
   "outputs": [
    {
     "data": {
      "text/plain": [
       "array(['BELAGAVI', 'BAGALKOT', 'BIJAPUR', 'GULBARGA', 'YADGIR', 'BIDAR',\n",
       "       'RAICHUR', 'KOPPAL', 'GADAG', 'DHARWAD', 'UTTARA KANNADA',\n",
       "       'HAVERI', 'BELLARY', 'CHITRADURGA', 'DAVANAGERE', 'SHIMOGA',\n",
       "       'UDUPI', 'CHIKKMAGALUR', 'TUMKUR', 'CHIKABALLAPUR', 'KOLAR',\n",
       "       'BANGALORE URBAN', 'B.B.M.P(NORTH)', 'B.B.M.P (CENTRAL)',\n",
       "       'B.B.M.P(SOUTH)', 'BANGALORE RURAL', 'RAMANAGARAM', 'MANDYA',\n",
       "       'HASSAN', 'DAKSHINA KANNADA', 'KODAGU', 'MYSORE', 'CHAMARAJNAGAR'],\n",
       "      dtype=object)"
      ]
     },
     "execution_count": 149,
     "metadata": {},
     "output_type": "execute_result"
    }
   ],
   "source": [
    "dname"
   ]
  },
  {
   "cell_type": "code",
   "execution_count": 150,
   "metadata": {},
   "outputs": [],
   "source": [
    "votingTurnout = df.groupby(['District Name'])['Voting Turnout %'].mean()"
   ]
  },
  {
   "cell_type": "code",
   "execution_count": 155,
   "metadata": {},
   "outputs": [
    {
     "data": {
      "text/plain": [
       "<matplotlib.axes._subplots.AxesSubplot at 0x7f1d4c3a3438>"
      ]
     },
     "execution_count": 155,
     "metadata": {},
     "output_type": "execute_result"
    },
    {
     "data": {
      "image/png": "[encoded data removed]",
      "text/plain": [
       "<Figure size 3600x288 with 1 Axes>"
      ]
     },
     "metadata": {
      "needs_background": "light"
     },
     "output_type": "display_data"
    }
   ],
   "source": [
    "plt.figure(figsize=(50,4))\n",
    "sns.barplot(x = dname, y = votingTurnout)"
   ]
  },
  {
   "cell_type": "markdown",
   "metadata": {},
   "source": [
    "#### The width of the plot is increased so as to fit the entire districts"
   ]
  },
  {
   "cell_type": "markdown",
   "metadata": {},
   "source": [
    "### A more concise plot"
   ]
  },
  {
   "cell_type": "code",
   "execution_count": 37,
   "metadata": {},
   "outputs": [
    {
     "data": {
      "text/plain": [
       "<matplotlib.axes._subplots.AxesSubplot at 0x231a0bd9b38>"
      ]
     },
     "execution_count": 37,
     "metadata": {},
     "output_type": "execute_result"
    },
    {
     "data": {
      "image/png": "[encoded data removed]",
      "text/plain": [
       "<matplotlib.figure.Figure at 0x231a0bd92b0>"
      ]
     },
     "metadata": {},
     "output_type": "display_data"
    }
   ],
   "source": [
    "plt.figure(figsize=(10,4)) ## The district name can't be seen properly, so the width was increased in the earlier plot\n",
    "sns.barplot(x = dname, y = votingTurnout)"
   ]
  },
  {
   "cell_type": "code",
   "execution_count": 38,
   "metadata": {},
   "outputs": [],
   "source": [
    "# Further analysis on the same question"
   ]
  },
  {
   "cell_type": "code",
   "execution_count": 39,
   "metadata": {},
   "outputs": [],
   "source": [
    "dname = pd.Series(dname,name ='District')"
   ]
  },
  {
   "cell_type": "code",
   "execution_count": 40,
   "metadata": {},
   "outputs": [],
   "source": [
    "dname = pd.DataFrame(dname)"
   ]
  },
  {
   "cell_type": "code",
   "execution_count": 41,
   "metadata": {},
   "outputs": [
    {
     "data": {
      "text/plain": [
       "Index(['District'], dtype='object')"
      ]
     },
     "execution_count": 41,
     "metadata": {},
     "output_type": "execute_result"
    }
   ],
   "source": [
    "dname.columns"
   ]
  },
  {
   "cell_type": "code",
   "execution_count": 42,
   "metadata": {},
   "outputs": [],
   "source": [
    "votTurn = pd.Series(votingTurnout,name ='Voting Turnout %')"
   ]
  },
  {
   "cell_type": "code",
   "execution_count": 43,
   "metadata": {},
   "outputs": [],
   "source": [
    "votTurn = pd.DataFrame(votTurn)"
   ]
  },
  {
   "cell_type": "code",
   "execution_count": 44,
   "metadata": {},
   "outputs": [],
   "source": [
    "votTurn.reset_index(inplace = True)"
   ]
  },
  {
   "cell_type": "markdown",
   "metadata": {},
   "source": [
    "### The district with the maximum voting turnout is Yadgir"
   ]
  },
  {
   "cell_type": "code",
   "execution_count": 45,
   "metadata": {},
   "outputs": [
    {
     "data": {
      "text/plain": [
       "District Name       YADGIR\n",
       "Voting Turnout %     84.35\n",
       "dtype: object"
      ]
     },
     "execution_count": 45,
     "metadata": {},
     "output_type": "execute_result"
    }
   ],
   "source": [
    "votTurn.max()"
   ]
  },
  {
   "cell_type": "markdown",
   "metadata": {},
   "source": [
    "### The district with the least turnout is: BBMP Central"
   ]
  },
  {
   "cell_type": "code",
   "execution_count": 46,
   "metadata": {},
   "outputs": [
    {
     "data": {
      "text/plain": [
       "District Name       B.B.M.P (CENTRAL)\n",
       "Voting Turnout %                 52.8\n",
       "dtype: object"
      ]
     },
     "execution_count": 46,
     "metadata": {},
     "output_type": "execute_result"
    }
   ],
   "source": [
    "votTurn.min()"
   ]
  },
  {
   "cell_type": "markdown",
   "metadata": {},
   "source": [
    "### The average turnout is: "
   ]
  },
  {
   "cell_type": "code",
   "execution_count": 47,
   "metadata": {},
   "outputs": [
    {
     "data": {
      "text/plain": [
       "Voting Turnout %    73.874004\n",
       "dtype: float64"
      ]
     },
     "execution_count": 47,
     "metadata": {},
     "output_type": "execute_result"
    }
   ],
   "source": [
    "votTurn.mean()"
   ]
  },
  {
   "cell_type": "markdown",
   "metadata": {},
   "source": [
    "### The deviation in the turnout is: "
   ]
  },
  {
   "cell_type": "code",
   "execution_count": 48,
   "metadata": {},
   "outputs": [
    {
     "data": {
      "text/plain": [
       "Voting Turnout %    9.153231\n",
       "dtype: float64"
      ]
     },
     "execution_count": 48,
     "metadata": {},
     "output_type": "execute_result"
    }
   ],
   "source": [
    "votTurn.std()"
   ]
  },
  {
   "cell_type": "markdown",
   "metadata": {},
   "source": [
    "## 3. % WINNING OF EACH PARTIES"
   ]
  },
  {
   "cell_type": "code",
   "execution_count": 85,
   "metadata": {},
   "outputs": [
    {
     "data": {
      "text/plain": [
       "Index(['AC No.', 'AC Name', 'Winning Party', 'Winning Candidate',\n",
       "       'Winner Votes', 'Runner Up Party', 'Runner Up Candidate',\n",
       "       'Runner Up Votes', 'Voting Turnout %', 'Total Voters', 'Winning Margin',\n",
       "       'District Name'],\n",
       "      dtype='object')"
      ]
     },
     "execution_count": 85,
     "metadata": {},
     "output_type": "execute_result"
    }
   ],
   "source": [
    "df.columns"
   ]
  },
  {
   "cell_type": "code",
   "execution_count": 86,
   "metadata": {},
   "outputs": [
    {
     "data": {
      "text/plain": [
       "array(['BJP', 'INC', 'JDS', 'OTHERS'], dtype=object)"
      ]
     },
     "execution_count": 86,
     "metadata": {},
     "output_type": "execute_result"
    }
   ],
   "source": [
    "df['Winning Party'].unique()"
   ]
  },
  {
   "cell_type": "code",
   "execution_count": 87,
   "metadata": {},
   "outputs": [],
   "source": [
    "percent = {'BJP':0,'INC':0,'JDS':0,'OTHERS':0}"
   ]
  },
  {
   "cell_type": "code",
   "execution_count": 88,
   "metadata": {},
   "outputs": [
    {
     "data": {
      "text/plain": [
       "'INC'"
      ]
     },
     "execution_count": 88,
     "metadata": {},
     "output_type": "execute_result"
    }
   ],
   "source": [
    "df['Winning Party'][2]"
   ]
  },
  {
   "cell_type": "code",
   "execution_count": 89,
   "metadata": {},
   "outputs": [],
   "source": [
    "for i in range(0,len(df)):\n",
    "    percent[df['Winning Party'][i]] = percent[df['Winning Party'][i]] + 1"
   ]
  },
  {
   "cell_type": "code",
   "execution_count": 90,
   "metadata": {},
   "outputs": [
    {
     "data": {
      "text/plain": [
       "{'BJP': 104, 'INC': 78, 'JDS': 37, 'OTHERS': 3}"
      ]
     },
     "execution_count": 90,
     "metadata": {},
     "output_type": "execute_result"
    }
   ],
   "source": [
    "percent"
   ]
  },
  {
   "cell_type": "code",
   "execution_count": 161,
   "metadata": {},
   "outputs": [
    {
     "name": "stdout",
     "output_type": "stream",
     "text": [
      "BJP\n"
     ]
    },
    {
     "data": {
      "text/plain": [
       "46.846846846846844"
      ]
     },
     "execution_count": 161,
     "metadata": {},
     "output_type": "execute_result"
    }
   ],
   "source": [
    "print(\"BJP\")\n",
    "percent['BJP'] / sum(percent.values()) *100"
   ]
  },
  {
   "cell_type": "code",
   "execution_count": 162,
   "metadata": {},
   "outputs": [
    {
     "name": "stdout",
     "output_type": "stream",
     "text": [
      "INC\n"
     ]
    },
    {
     "data": {
      "text/plain": [
       "35.13513513513514"
      ]
     },
     "execution_count": 162,
     "metadata": {},
     "output_type": "execute_result"
    }
   ],
   "source": [
    "print(\"INC\")\n",
    "percent['INC'] / sum(percent.values()) *100"
   ]
  },
  {
   "cell_type": "code",
   "execution_count": 163,
   "metadata": {},
   "outputs": [
    {
     "name": "stdout",
     "output_type": "stream",
     "text": [
      "JDS\n"
     ]
    },
    {
     "data": {
      "text/plain": [
       "16.666666666666664"
      ]
     },
     "execution_count": 163,
     "metadata": {},
     "output_type": "execute_result"
    }
   ],
   "source": [
    "print(\"JDS\")\n",
    "percent['JDS'] / sum(percent.values()) *100"
   ]
  },
  {
   "cell_type": "code",
   "execution_count": 164,
   "metadata": {},
   "outputs": [
    {
     "name": "stdout",
     "output_type": "stream",
     "text": [
      "Others\n"
     ]
    },
    {
     "data": {
      "text/plain": [
       "1.3513513513513513"
      ]
     },
     "execution_count": 164,
     "metadata": {},
     "output_type": "execute_result"
    }
   ],
   "source": [
    "print(\"Others\")\n",
    "percent['OTHERS'] / sum(percent.values()) *100"
   ]
  },
  {
   "cell_type": "markdown",
   "metadata": {},
   "source": [
    "### BJP won 103 constituencies, Congress won 78 constituencies, JDS won 36 constituencies, whereas 3 constituencies were won by others"
   ]
  },
  {
   "cell_type": "markdown",
   "metadata": {},
   "source": [
    "### Instead of using Dictionaries for calculating the counts, we can do it in Pandas as well using the slice operation"
   ]
  },
  {
   "cell_type": "markdown",
   "metadata": {},
   "source": [
    "#### BJP"
   ]
  },
  {
   "cell_type": "code",
   "execution_count": 59,
   "metadata": {},
   "outputs": [
    {
     "data": {
      "text/plain": [
       "104"
      ]
     },
     "execution_count": 59,
     "metadata": {},
     "output_type": "execute_result"
    }
   ],
   "source": [
    "len(df[df['Winning Party'] == 'BJP'])"
   ]
  },
  {
   "cell_type": "markdown",
   "metadata": {},
   "source": [
    "#### Congress"
   ]
  },
  {
   "cell_type": "code",
   "execution_count": 60,
   "metadata": {},
   "outputs": [
    {
     "data": {
      "text/plain": [
       "78"
      ]
     },
     "execution_count": 60,
     "metadata": {},
     "output_type": "execute_result"
    }
   ],
   "source": [
    "len(df[df['Winning Party'] == 'INC'])"
   ]
  },
  {
   "cell_type": "markdown",
   "metadata": {},
   "source": [
    "#### JDS"
   ]
  },
  {
   "cell_type": "code",
   "execution_count": 61,
   "metadata": {},
   "outputs": [
    {
     "data": {
      "text/plain": [
       "37"
      ]
     },
     "execution_count": 61,
     "metadata": {},
     "output_type": "execute_result"
    }
   ],
   "source": [
    "len(df[df['Winning Party'] == 'JDS'])"
   ]
  },
  {
   "cell_type": "markdown",
   "metadata": {},
   "source": [
    "#### Others"
   ]
  },
  {
   "cell_type": "code",
   "execution_count": 62,
   "metadata": {},
   "outputs": [
    {
     "data": {
      "text/plain": [
       "3"
      ]
     },
     "execution_count": 62,
     "metadata": {},
     "output_type": "execute_result"
    }
   ],
   "source": [
    "len(df[df['Winning Party'] == 'OTHERS'])"
   ]
  },
  {
   "cell_type": "markdown",
   "metadata": {},
   "source": [
    "## 4. WHICH PARTY WON THE MAXIMUM CONSTITUENCIES"
   ]
  },
  {
   "cell_type": "code",
   "execution_count": 95,
   "metadata": {},
   "outputs": [
    {
     "data": {
      "text/plain": [
       "'BJP'"
      ]
     },
     "execution_count": 95,
     "metadata": {},
     "output_type": "execute_result"
    }
   ],
   "source": [
    "max(percent,key = percent.get)"
   ]
  },
  {
   "cell_type": "markdown",
   "metadata": {},
   "source": [
    "#### Of course it is BJP, as it won around 103 constituencies"
   ]
  },
  {
   "cell_type": "code",
   "execution_count": 96,
   "metadata": {},
   "outputs": [
    {
     "data": {
      "text/plain": [
       "dict_keys(['BJP', 'INC', 'JDS', 'OTHERS'])"
      ]
     },
     "execution_count": 96,
     "metadata": {},
     "output_type": "execute_result"
    }
   ],
   "source": [
    "percent.keys()"
   ]
  },
  {
   "cell_type": "code",
   "execution_count": 97,
   "metadata": {},
   "outputs": [
    {
     "data": {
      "text/plain": [
       "dict_values([104, 78, 37, 3])"
      ]
     },
     "execution_count": 97,
     "metadata": {},
     "output_type": "execute_result"
    }
   ],
   "source": [
    "percent.values()"
   ]
  },
  {
   "cell_type": "code",
   "execution_count": 98,
   "metadata": {},
   "outputs": [
    {
     "data": {
      "text/plain": [
       "([<matplotlib.axis.XTick at 0x7f1d4c3fc860>,\n",
       "  <matplotlib.axis.XTick at 0x7f1d4c3fc198>,\n",
       "  <matplotlib.axis.XTick at 0x7f1d4e468a90>,\n",
       "  <matplotlib.axis.XTick at 0x7f1d4c3bb358>],\n",
       " <a list of 4 Text xticklabel objects>)"
      ]
     },
     "execution_count": 98,
     "metadata": {},
     "output_type": "execute_result"
    },
    {
     "data": {
      "image/png": "[encoded data removed]",
      "text/plain": [
       "<Figure size 432x288 with 1 Axes>"
      ]
     },
     "metadata": {
      "needs_background": "light"
     },
     "output_type": "display_data"
    }
   ],
   "source": [
    "plt.bar(range(len(percent)), percent.values(), align='center')\n",
    "plt.xticks(range(len(percent)), list(percent.keys()))\n"
   ]
  },
  {
   "cell_type": "markdown",
   "metadata": {},
   "source": [
    "### 5. WINNER AND RUNNER UPs FOR EACH DISTRICT"
   ]
  },
  {
   "cell_type": "code",
   "execution_count": 99,
   "metadata": {},
   "outputs": [
    {
     "data": {
      "text/plain": [
       "Index(['AC No.', 'AC Name', 'Winning Party', 'Winning Candidate',\n",
       "       'Winner Votes', 'Runner Up Party', 'Runner Up Candidate',\n",
       "       'Runner Up Votes', 'Voting Turnout %', 'Total Voters', 'Winning Margin',\n",
       "       'District Name'],\n",
       "      dtype='object')"
      ]
     },
     "execution_count": 99,
     "metadata": {},
     "output_type": "execute_result"
    }
   ],
   "source": [
    "df.columns"
   ]
  },
  {
   "cell_type": "code",
   "execution_count": 100,
   "metadata": {},
   "outputs": [],
   "source": [
    "dataFrame = df.groupby(by = 'District Name')['Winning Party'].value_counts()"
   ]
  },
  {
   "cell_type": "code",
   "execution_count": 101,
   "metadata": {},
   "outputs": [],
   "source": [
    "dataFrame = pd.DataFrame(dataFrame)"
   ]
  },
  {
   "cell_type": "code",
   "execution_count": 102,
   "metadata": {},
   "outputs": [
    {
     "data": {
      "text/plain": [
       "Index(['Winning Party'], dtype='object')"
      ]
     },
     "execution_count": 102,
     "metadata": {},
     "output_type": "execute_result"
    }
   ],
   "source": [
    "dataFrame.columns"
   ]
  },
  {
   "cell_type": "code",
   "execution_count": 103,
   "metadata": {},
   "outputs": [
    {
     "data": {
      "text/plain": [
       "MultiIndex(levels=[['B.B.M.P (CENTRAL)', 'B.B.M.P(NORTH)', 'B.B.M.P(SOUTH)', 'BAGALKOT', 'BANGALORE RURAL', 'BANGALORE URBAN', 'BELAGAVI', 'BELLARY', 'BIDAR', 'BIJAPUR', 'CHAMARAJNAGAR', 'CHIKABALLAPUR', 'CHIKKMAGALUR', 'CHITRADURGA', 'DAKSHINA KANNADA', 'DAVANAGERE', 'DHARWAD', 'GADAG', 'GULBARGA', 'HASSAN', 'HAVERI', 'KODAGU', 'KOLAR', 'KOPPAL', 'MANDYA', 'MYSORE', 'RAICHUR', 'RAMANAGARAM', 'SHIMOGA', 'TUMKUR', 'UDUPI', 'UTTARA KANNADA', 'YADGIR'], ['BJP', 'INC', 'JDS', 'OTHERS']],\n",
       "           codes=[[0, 0, 1, 1, 1, 2, 2, 3, 3, 4, 4, 5, 5, 5, 6, 6, 7, 7, 8, 8, 8, 9, 9, 9, 10, 10, 10, 11, 11, 12, 12, 13, 13, 14, 14, 15, 15, 16, 16, 17, 17, 18, 18, 19, 19, 20, 20, 20, 21, 22, 22, 22, 23, 23, 24, 25, 25, 25, 26, 26, 26, 27, 27, 28, 28, 29, 29, 29, 30, 31, 31, 32, 32, 32], [1, 0, 1, 0, 2, 0, 1, 0, 1, 1, 2, 0, 1, 2, 0, 1, 1, 0, 1, 0, 2, 0, 1, 2, 1, 0, 3, 1, 2, 0, 1, 0, 1, 0, 1, 0, 1, 0, 1, 0, 1, 1, 0, 2, 0, 0, 1, 3, 0, 1, 2, 3, 0, 1, 2, 2, 0, 1, 1, 0, 2, 2, 1, 0, 1, 0, 2, 1, 0, 0, 1, 0, 1, 2]],\n",
       "           names=['District Name', 'Winning Party'])"
      ]
     },
     "execution_count": 103,
     "metadata": {},
     "output_type": "execute_result"
    }
   ],
   "source": [
    "dataFrame.index"
   ]
  },
  {
   "cell_type": "code",
   "execution_count": 105,
   "metadata": {},
   "outputs": [],
   "source": [
    "dataFrame = pd.DataFrame(dataFrame)"
   ]
  },
  {
   "cell_type": "code",
   "execution_count": 106,
   "metadata": {},
   "outputs": [
    {
     "data": {
      "text/html": [
       "<div>\n",
       "<style scoped>\n",
       "    .dataframe tbody tr th:only-of-type {\n",
       "        vertical-align: middle;\n",
       "    }\n",
       "\n",
       "    .dataframe tbody tr th {\n",
       "        vertical-align: top;\n",
       "    }\n",
       "\n",
       "    .dataframe thead th {\n",
       "        text-align: right;\n",
       "    }\n",
       "</style>\n",
       "<table border=\"1\" class=\"dataframe\">\n",
       "  <thead>\n",
       "    <tr style=\"text-align: right;\">\n",
       "      <th></th>\n",
       "      <th></th>\n",
       "      <th>Winning Party</th>\n",
       "    </tr>\n",
       "    <tr>\n",
       "      <th>District Name</th>\n",
       "      <th>Winning Party</th>\n",
       "      <th></th>\n",
       "    </tr>\n",
       "  </thead>\n",
       "  <tbody>\n",
       "    <tr>\n",
       "      <th rowspan=\"2\" valign=\"top\">B.B.M.P (CENTRAL)</th>\n",
       "      <th>INC</th>\n",
       "      <td>4</td>\n",
       "    </tr>\n",
       "    <tr>\n",
       "      <th>BJP</th>\n",
       "      <td>2</td>\n",
       "    </tr>\n",
       "    <tr>\n",
       "      <th rowspan=\"3\" valign=\"top\">B.B.M.P(NORTH)</th>\n",
       "      <th>INC</th>\n",
       "      <td>4</td>\n",
       "    </tr>\n",
       "    <tr>\n",
       "      <th>BJP</th>\n",
       "      <td>2</td>\n",
       "    </tr>\n",
       "    <tr>\n",
       "      <th>JDS</th>\n",
       "      <td>1</td>\n",
       "    </tr>\n",
       "    <tr>\n",
       "      <th rowspan=\"2\" valign=\"top\">B.B.M.P(SOUTH)</th>\n",
       "      <th>BJP</th>\n",
       "      <td>4</td>\n",
       "    </tr>\n",
       "    <tr>\n",
       "      <th>INC</th>\n",
       "      <td>2</td>\n",
       "    </tr>\n",
       "    <tr>\n",
       "      <th rowspan=\"2\" valign=\"top\">BAGALKOT</th>\n",
       "      <th>BJP</th>\n",
       "      <td>5</td>\n",
       "    </tr>\n",
       "    <tr>\n",
       "      <th>INC</th>\n",
       "      <td>2</td>\n",
       "    </tr>\n",
       "    <tr>\n",
       "      <th rowspan=\"2\" valign=\"top\">BANGALORE RURAL</th>\n",
       "      <th>INC</th>\n",
       "      <td>2</td>\n",
       "    </tr>\n",
       "    <tr>\n",
       "      <th>JDS</th>\n",
       "      <td>2</td>\n",
       "    </tr>\n",
       "    <tr>\n",
       "      <th rowspan=\"3\" valign=\"top\">BANGALORE URBAN</th>\n",
       "      <th>BJP</th>\n",
       "      <td>3</td>\n",
       "    </tr>\n",
       "    <tr>\n",
       "      <th>INC</th>\n",
       "      <td>3</td>\n",
       "    </tr>\n",
       "    <tr>\n",
       "      <th>JDS</th>\n",
       "      <td>1</td>\n",
       "    </tr>\n",
       "    <tr>\n",
       "      <th rowspan=\"2\" valign=\"top\">BELAGAVI</th>\n",
       "      <th>BJP</th>\n",
       "      <td>10</td>\n",
       "    </tr>\n",
       "    <tr>\n",
       "      <th>INC</th>\n",
       "      <td>8</td>\n",
       "    </tr>\n",
       "    <tr>\n",
       "      <th rowspan=\"2\" valign=\"top\">BELLARY</th>\n",
       "      <th>INC</th>\n",
       "      <td>6</td>\n",
       "    </tr>\n",
       "    <tr>\n",
       "      <th>BJP</th>\n",
       "      <td>3</td>\n",
       "    </tr>\n",
       "    <tr>\n",
       "      <th rowspan=\"3\" valign=\"top\">BIDAR</th>\n",
       "      <th>INC</th>\n",
       "      <td>4</td>\n",
       "    </tr>\n",
       "    <tr>\n",
       "      <th>BJP</th>\n",
       "      <td>1</td>\n",
       "    </tr>\n",
       "    <tr>\n",
       "      <th>JDS</th>\n",
       "      <td>1</td>\n",
       "    </tr>\n",
       "    <tr>\n",
       "      <th rowspan=\"3\" valign=\"top\">BIJAPUR</th>\n",
       "      <th>BJP</th>\n",
       "      <td>3</td>\n",
       "    </tr>\n",
       "    <tr>\n",
       "      <th>INC</th>\n",
       "      <td>3</td>\n",
       "    </tr>\n",
       "    <tr>\n",
       "      <th>JDS</th>\n",
       "      <td>2</td>\n",
       "    </tr>\n",
       "    <tr>\n",
       "      <th rowspan=\"3\" valign=\"top\">CHAMARAJNAGAR</th>\n",
       "      <th>INC</th>\n",
       "      <td>2</td>\n",
       "    </tr>\n",
       "    <tr>\n",
       "      <th>BJP</th>\n",
       "      <td>1</td>\n",
       "    </tr>\n",
       "    <tr>\n",
       "      <th>OTHERS</th>\n",
       "      <td>1</td>\n",
       "    </tr>\n",
       "    <tr>\n",
       "      <th rowspan=\"2\" valign=\"top\">CHIKABALLAPUR</th>\n",
       "      <th>INC</th>\n",
       "      <td>4</td>\n",
       "    </tr>\n",
       "    <tr>\n",
       "      <th>JDS</th>\n",
       "      <td>1</td>\n",
       "    </tr>\n",
       "    <tr>\n",
       "      <th>CHIKKMAGALUR</th>\n",
       "      <th>BJP</th>\n",
       "      <td>4</td>\n",
       "    </tr>\n",
       "    <tr>\n",
       "      <th>...</th>\n",
       "      <th>...</th>\n",
       "      <td>...</td>\n",
       "    </tr>\n",
       "    <tr>\n",
       "      <th>HASSAN</th>\n",
       "      <th>BJP</th>\n",
       "      <td>1</td>\n",
       "    </tr>\n",
       "    <tr>\n",
       "      <th rowspan=\"3\" valign=\"top\">HAVERI</th>\n",
       "      <th>BJP</th>\n",
       "      <td>4</td>\n",
       "    </tr>\n",
       "    <tr>\n",
       "      <th>INC</th>\n",
       "      <td>1</td>\n",
       "    </tr>\n",
       "    <tr>\n",
       "      <th>OTHERS</th>\n",
       "      <td>1</td>\n",
       "    </tr>\n",
       "    <tr>\n",
       "      <th>KODAGU</th>\n",
       "      <th>BJP</th>\n",
       "      <td>2</td>\n",
       "    </tr>\n",
       "    <tr>\n",
       "      <th rowspan=\"3\" valign=\"top\">KOLAR</th>\n",
       "      <th>INC</th>\n",
       "      <td>4</td>\n",
       "    </tr>\n",
       "    <tr>\n",
       "      <th>JDS</th>\n",
       "      <td>1</td>\n",
       "    </tr>\n",
       "    <tr>\n",
       "      <th>OTHERS</th>\n",
       "      <td>1</td>\n",
       "    </tr>\n",
       "    <tr>\n",
       "      <th rowspan=\"2\" valign=\"top\">KOPPAL</th>\n",
       "      <th>BJP</th>\n",
       "      <td>3</td>\n",
       "    </tr>\n",
       "    <tr>\n",
       "      <th>INC</th>\n",
       "      <td>2</td>\n",
       "    </tr>\n",
       "    <tr>\n",
       "      <th>MANDYA</th>\n",
       "      <th>JDS</th>\n",
       "      <td>7</td>\n",
       "    </tr>\n",
       "    <tr>\n",
       "      <th rowspan=\"3\" valign=\"top\">MYSORE</th>\n",
       "      <th>JDS</th>\n",
       "      <td>5</td>\n",
       "    </tr>\n",
       "    <tr>\n",
       "      <th>BJP</th>\n",
       "      <td>3</td>\n",
       "    </tr>\n",
       "    <tr>\n",
       "      <th>INC</th>\n",
       "      <td>3</td>\n",
       "    </tr>\n",
       "    <tr>\n",
       "      <th rowspan=\"3\" valign=\"top\">RAICHUR</th>\n",
       "      <th>INC</th>\n",
       "      <td>3</td>\n",
       "    </tr>\n",
       "    <tr>\n",
       "      <th>BJP</th>\n",
       "      <td>2</td>\n",
       "    </tr>\n",
       "    <tr>\n",
       "      <th>JDS</th>\n",
       "      <td>2</td>\n",
       "    </tr>\n",
       "    <tr>\n",
       "      <th rowspan=\"2\" valign=\"top\">RAMANAGARAM</th>\n",
       "      <th>JDS</th>\n",
       "      <td>3</td>\n",
       "    </tr>\n",
       "    <tr>\n",
       "      <th>INC</th>\n",
       "      <td>1</td>\n",
       "    </tr>\n",
       "    <tr>\n",
       "      <th rowspan=\"2\" valign=\"top\">SHIMOGA</th>\n",
       "      <th>BJP</th>\n",
       "      <td>6</td>\n",
       "    </tr>\n",
       "    <tr>\n",
       "      <th>INC</th>\n",
       "      <td>1</td>\n",
       "    </tr>\n",
       "    <tr>\n",
       "      <th rowspan=\"3\" valign=\"top\">TUMKUR</th>\n",
       "      <th>BJP</th>\n",
       "      <td>4</td>\n",
       "    </tr>\n",
       "    <tr>\n",
       "      <th>JDS</th>\n",
       "      <td>4</td>\n",
       "    </tr>\n",
       "    <tr>\n",
       "      <th>INC</th>\n",
       "      <td>3</td>\n",
       "    </tr>\n",
       "    <tr>\n",
       "      <th>UDUPI</th>\n",
       "      <th>BJP</th>\n",
       "      <td>5</td>\n",
       "    </tr>\n",
       "    <tr>\n",
       "      <th rowspan=\"2\" valign=\"top\">UTTARA KANNADA</th>\n",
       "      <th>BJP</th>\n",
       "      <td>4</td>\n",
       "    </tr>\n",
       "    <tr>\n",
       "      <th>INC</th>\n",
       "      <td>2</td>\n",
       "    </tr>\n",
       "    <tr>\n",
       "      <th rowspan=\"3\" valign=\"top\">YADGIR</th>\n",
       "      <th>BJP</th>\n",
       "      <td>2</td>\n",
       "    </tr>\n",
       "    <tr>\n",
       "      <th>INC</th>\n",
       "      <td>1</td>\n",
       "    </tr>\n",
       "    <tr>\n",
       "      <th>JDS</th>\n",
       "      <td>1</td>\n",
       "    </tr>\n",
       "  </tbody>\n",
       "</table>\n",
       "<p>74 rows × 1 columns</p>\n",
       "</div>"
      ],
      "text/plain": [
       "                                 Winning Party\n",
       "District Name     Winning Party               \n",
       "B.B.M.P (CENTRAL) INC                        4\n",
       "                  BJP                        2\n",
       "B.B.M.P(NORTH)    INC                        4\n",
       "                  BJP                        2\n",
       "                  JDS                        1\n",
       "B.B.M.P(SOUTH)    BJP                        4\n",
       "                  INC                        2\n",
       "BAGALKOT          BJP                        5\n",
       "                  INC                        2\n",
       "BANGALORE RURAL   INC                        2\n",
       "                  JDS                        2\n",
       "BANGALORE URBAN   BJP                        3\n",
       "                  INC                        3\n",
       "                  JDS                        1\n",
       "BELAGAVI          BJP                       10\n",
       "                  INC                        8\n",
       "BELLARY           INC                        6\n",
       "                  BJP                        3\n",
       "BIDAR             INC                        4\n",
       "                  BJP                        1\n",
       "                  JDS                        1\n",
       "BIJAPUR           BJP                        3\n",
       "                  INC                        3\n",
       "                  JDS                        2\n",
       "CHAMARAJNAGAR     INC                        2\n",
       "                  BJP                        1\n",
       "                  OTHERS                     1\n",
       "CHIKABALLAPUR     INC                        4\n",
       "                  JDS                        1\n",
       "CHIKKMAGALUR      BJP                        4\n",
       "...                                        ...\n",
       "HASSAN            BJP                        1\n",
       "HAVERI            BJP                        4\n",
       "                  INC                        1\n",
       "                  OTHERS                     1\n",
       "KODAGU            BJP                        2\n",
       "KOLAR             INC                        4\n",
       "                  JDS                        1\n",
       "                  OTHERS                     1\n",
       "KOPPAL            BJP                        3\n",
       "                  INC                        2\n",
       "MANDYA            JDS                        7\n",
       "MYSORE            JDS                        5\n",
       "                  BJP                        3\n",
       "                  INC                        3\n",
       "RAICHUR           INC                        3\n",
       "                  BJP                        2\n",
       "                  JDS                        2\n",
       "RAMANAGARAM       JDS                        3\n",
       "                  INC                        1\n",
       "SHIMOGA           BJP                        6\n",
       "                  INC                        1\n",
       "TUMKUR            BJP                        4\n",
       "                  JDS                        4\n",
       "                  INC                        3\n",
       "UDUPI             BJP                        5\n",
       "UTTARA KANNADA    BJP                        4\n",
       "                  INC                        2\n",
       "YADGIR            BJP                        2\n",
       "                  INC                        1\n",
       "                  JDS                        1\n",
       "\n",
       "[74 rows x 1 columns]"
      ]
     },
     "execution_count": 106,
     "metadata": {},
     "output_type": "execute_result"
    }
   ],
   "source": [
    "dataFrame"
   ]
  },
  {
   "cell_type": "markdown",
   "metadata": {},
   "source": [
    "### Here the numbers denote the no.of constituencies won by the winning party in the corresponding district arranged in decreasing order"
   ]
  },
  {
   "cell_type": "markdown",
   "metadata": {},
   "source": [
    "## 6. WHICH CONSTITUENCY IN THE DISTRICT HAD MAX SUPPORT FOR WHICH PARTY?"
   ]
  },
  {
   "cell_type": "code",
   "execution_count": 107,
   "metadata": {},
   "outputs": [
    {
     "data": {
      "text/plain": [
       "Index(['AC No.', 'AC Name', 'Winning Party', 'Winning Candidate',\n",
       "       'Winner Votes', 'Runner Up Party', 'Runner Up Candidate',\n",
       "       'Runner Up Votes', 'Voting Turnout %', 'Total Voters', 'Winning Margin',\n",
       "       'District Name'],\n",
       "      dtype='object')"
      ]
     },
     "execution_count": 107,
     "metadata": {},
     "output_type": "execute_result"
    }
   ],
   "source": [
    "df.columns"
   ]
  },
  {
   "cell_type": "code",
   "execution_count": 108,
   "metadata": {},
   "outputs": [],
   "source": [
    "x = pd.DataFrame(df.groupby(by = ['District Name','AC Name'])['Winning Party'].first())"
   ]
  },
  {
   "cell_type": "code",
   "execution_count": 109,
   "metadata": {},
   "outputs": [
    {
     "data": {
      "text/html": [
       "<div>\n",
       "<style scoped>\n",
       "    .dataframe tbody tr th:only-of-type {\n",
       "        vertical-align: middle;\n",
       "    }\n",
       "\n",
       "    .dataframe tbody tr th {\n",
       "        vertical-align: top;\n",
       "    }\n",
       "\n",
       "    .dataframe thead th {\n",
       "        text-align: right;\n",
       "    }\n",
       "</style>\n",
       "<table border=\"1\" class=\"dataframe\">\n",
       "  <thead>\n",
       "    <tr style=\"text-align: right;\">\n",
       "      <th></th>\n",
       "      <th></th>\n",
       "      <th>Winning Party</th>\n",
       "    </tr>\n",
       "    <tr>\n",
       "      <th>District Name</th>\n",
       "      <th>AC Name</th>\n",
       "      <th></th>\n",
       "    </tr>\n",
       "  </thead>\n",
       "  <tbody>\n",
       "    <tr>\n",
       "      <th rowspan=\"6\" valign=\"top\">B.B.M.P (CENTRAL)</th>\n",
       "      <th>Chamrajapet</th>\n",
       "      <td>INC</td>\n",
       "    </tr>\n",
       "    <tr>\n",
       "      <th>Chickpet</th>\n",
       "      <td>BJP</td>\n",
       "    </tr>\n",
       "    <tr>\n",
       "      <th>Gandhinagar</th>\n",
       "      <td>INC</td>\n",
       "    </tr>\n",
       "    <tr>\n",
       "      <th>Rajajinagar</th>\n",
       "      <td>BJP</td>\n",
       "    </tr>\n",
       "    <tr>\n",
       "      <th>Shantinagar</th>\n",
       "      <td>INC</td>\n",
       "    </tr>\n",
       "    <tr>\n",
       "      <th>Shivajinagar</th>\n",
       "      <td>INC</td>\n",
       "    </tr>\n",
       "    <tr>\n",
       "      <th rowspan=\"7\" valign=\"top\">B.B.M.P(NORTH)</th>\n",
       "      <th>C.V. Raman Nagar</th>\n",
       "      <td>BJP</td>\n",
       "    </tr>\n",
       "    <tr>\n",
       "      <th>Hebbal</th>\n",
       "      <td>INC</td>\n",
       "    </tr>\n",
       "    <tr>\n",
       "      <th>K.R. Pura</th>\n",
       "      <td>INC</td>\n",
       "    </tr>\n",
       "    <tr>\n",
       "      <th>Mahalakshmi Layout</th>\n",
       "      <td>JDS</td>\n",
       "    </tr>\n",
       "    <tr>\n",
       "      <th>Malleshwaram</th>\n",
       "      <td>BJP</td>\n",
       "    </tr>\n",
       "    <tr>\n",
       "      <th>Pulakeshinagar</th>\n",
       "      <td>INC</td>\n",
       "    </tr>\n",
       "    <tr>\n",
       "      <th>Sarvagnannagar</th>\n",
       "      <td>INC</td>\n",
       "    </tr>\n",
       "    <tr>\n",
       "      <th rowspan=\"6\" valign=\"top\">B.B.M.P(SOUTH)</th>\n",
       "      <th>B.T.M Layout</th>\n",
       "      <td>INC</td>\n",
       "    </tr>\n",
       "    <tr>\n",
       "      <th>Basavanagudi</th>\n",
       "      <td>BJP</td>\n",
       "    </tr>\n",
       "    <tr>\n",
       "      <th>Bommanahalli</th>\n",
       "      <td>BJP</td>\n",
       "    </tr>\n",
       "    <tr>\n",
       "      <th>Govindarajanagar</th>\n",
       "      <td>BJP</td>\n",
       "    </tr>\n",
       "    <tr>\n",
       "      <th>Padmanabanagar</th>\n",
       "      <td>BJP</td>\n",
       "    </tr>\n",
       "    <tr>\n",
       "      <th>Vijayanagar</th>\n",
       "      <td>INC</td>\n",
       "    </tr>\n",
       "    <tr>\n",
       "      <th rowspan=\"7\" valign=\"top\">BAGALKOT</th>\n",
       "      <th>Badami</th>\n",
       "      <td>INC</td>\n",
       "    </tr>\n",
       "    <tr>\n",
       "      <th>Bagalkot</th>\n",
       "      <td>BJP</td>\n",
       "    </tr>\n",
       "    <tr>\n",
       "      <th>Bilgi</th>\n",
       "      <td>BJP</td>\n",
       "    </tr>\n",
       "    <tr>\n",
       "      <th>Hungund</th>\n",
       "      <td>BJP</td>\n",
       "    </tr>\n",
       "    <tr>\n",
       "      <th>Jamkhandi</th>\n",
       "      <td>INC</td>\n",
       "    </tr>\n",
       "    <tr>\n",
       "      <th>Mudhol</th>\n",
       "      <td>BJP</td>\n",
       "    </tr>\n",
       "    <tr>\n",
       "      <th>Terdal</th>\n",
       "      <td>BJP</td>\n",
       "    </tr>\n",
       "    <tr>\n",
       "      <th rowspan=\"4\" valign=\"top\">BANGALORE RURAL</th>\n",
       "      <th>Devanahalli</th>\n",
       "      <td>JDS</td>\n",
       "    </tr>\n",
       "    <tr>\n",
       "      <th>Doddaballapur</th>\n",
       "      <td>INC</td>\n",
       "    </tr>\n",
       "    <tr>\n",
       "      <th>Hosakote</th>\n",
       "      <td>INC</td>\n",
       "    </tr>\n",
       "    <tr>\n",
       "      <th>Nelamangala</th>\n",
       "      <td>JDS</td>\n",
       "    </tr>\n",
       "    <tr>\n",
       "      <th>...</th>\n",
       "      <th>...</th>\n",
       "      <td>...</td>\n",
       "    </tr>\n",
       "    <tr>\n",
       "      <th rowspan=\"4\" valign=\"top\">SHIMOGA</th>\n",
       "      <th>Shimoga</th>\n",
       "      <td>BJP</td>\n",
       "    </tr>\n",
       "    <tr>\n",
       "      <th>Shimoga Rural</th>\n",
       "      <td>BJP</td>\n",
       "    </tr>\n",
       "    <tr>\n",
       "      <th>Sorab</th>\n",
       "      <td>BJP</td>\n",
       "    </tr>\n",
       "    <tr>\n",
       "      <th>Tirthahalli</th>\n",
       "      <td>BJP</td>\n",
       "    </tr>\n",
       "    <tr>\n",
       "      <th rowspan=\"11\" valign=\"top\">TUMKUR</th>\n",
       "      <th>Chikkanayakanhalli</th>\n",
       "      <td>BJP</td>\n",
       "    </tr>\n",
       "    <tr>\n",
       "      <th>Gubbi</th>\n",
       "      <td>JDS</td>\n",
       "    </tr>\n",
       "    <tr>\n",
       "      <th>Koratagere</th>\n",
       "      <td>INC</td>\n",
       "    </tr>\n",
       "    <tr>\n",
       "      <th>Kunigal</th>\n",
       "      <td>INC</td>\n",
       "    </tr>\n",
       "    <tr>\n",
       "      <th>Madhugiri</th>\n",
       "      <td>JDS</td>\n",
       "    </tr>\n",
       "    <tr>\n",
       "      <th>Pavagada</th>\n",
       "      <td>INC</td>\n",
       "    </tr>\n",
       "    <tr>\n",
       "      <th>Sira</th>\n",
       "      <td>JDS</td>\n",
       "    </tr>\n",
       "    <tr>\n",
       "      <th>Tiptur</th>\n",
       "      <td>BJP</td>\n",
       "    </tr>\n",
       "    <tr>\n",
       "      <th>Tumkur City</th>\n",
       "      <td>BJP</td>\n",
       "    </tr>\n",
       "    <tr>\n",
       "      <th>Tumkur Rural</th>\n",
       "      <td>JDS</td>\n",
       "    </tr>\n",
       "    <tr>\n",
       "      <th>Turuvekere</th>\n",
       "      <td>BJP</td>\n",
       "    </tr>\n",
       "    <tr>\n",
       "      <th rowspan=\"5\" valign=\"top\">UDUPI</th>\n",
       "      <th>Baindur</th>\n",
       "      <td>BJP</td>\n",
       "    </tr>\n",
       "    <tr>\n",
       "      <th>Kapu</th>\n",
       "      <td>BJP</td>\n",
       "    </tr>\n",
       "    <tr>\n",
       "      <th>Karkala</th>\n",
       "      <td>BJP</td>\n",
       "    </tr>\n",
       "    <tr>\n",
       "      <th>Kundapur</th>\n",
       "      <td>BJP</td>\n",
       "    </tr>\n",
       "    <tr>\n",
       "      <th>Udupi</th>\n",
       "      <td>BJP</td>\n",
       "    </tr>\n",
       "    <tr>\n",
       "      <th rowspan=\"6\" valign=\"top\">UTTARA KANNADA</th>\n",
       "      <th>Bhatkal</th>\n",
       "      <td>BJP</td>\n",
       "    </tr>\n",
       "    <tr>\n",
       "      <th>Haliyal</th>\n",
       "      <td>INC</td>\n",
       "    </tr>\n",
       "    <tr>\n",
       "      <th>Karwar</th>\n",
       "      <td>BJP</td>\n",
       "    </tr>\n",
       "    <tr>\n",
       "      <th>Kumta</th>\n",
       "      <td>BJP</td>\n",
       "    </tr>\n",
       "    <tr>\n",
       "      <th>Sirsi</th>\n",
       "      <td>BJP</td>\n",
       "    </tr>\n",
       "    <tr>\n",
       "      <th>Yellapur</th>\n",
       "      <td>INC</td>\n",
       "    </tr>\n",
       "    <tr>\n",
       "      <th rowspan=\"4\" valign=\"top\">YADGIR</th>\n",
       "      <th>Gurmitkal</th>\n",
       "      <td>JDS</td>\n",
       "    </tr>\n",
       "    <tr>\n",
       "      <th>Shahapur</th>\n",
       "      <td>INC</td>\n",
       "    </tr>\n",
       "    <tr>\n",
       "      <th>Shorapur</th>\n",
       "      <td>BJP</td>\n",
       "    </tr>\n",
       "    <tr>\n",
       "      <th>Yadgir</th>\n",
       "      <td>BJP</td>\n",
       "    </tr>\n",
       "  </tbody>\n",
       "</table>\n",
       "<p>222 rows × 1 columns</p>\n",
       "</div>"
      ],
      "text/plain": [
       "                                     Winning Party\n",
       "District Name     AC Name                         \n",
       "B.B.M.P (CENTRAL) Chamrajapet                  INC\n",
       "                  Chickpet                     BJP\n",
       "                  Gandhinagar                  INC\n",
       "                  Rajajinagar                  BJP\n",
       "                  Shantinagar                  INC\n",
       "                  Shivajinagar                 INC\n",
       "B.B.M.P(NORTH)    C.V. Raman Nagar             BJP\n",
       "                  Hebbal                       INC\n",
       "                  K.R. Pura                    INC\n",
       "                  Mahalakshmi Layout           JDS\n",
       "                  Malleshwaram                 BJP\n",
       "                  Pulakeshinagar               INC\n",
       "                  Sarvagnannagar               INC\n",
       "B.B.M.P(SOUTH)    B.T.M Layout                 INC\n",
       "                  Basavanagudi                 BJP\n",
       "                  Bommanahalli                 BJP\n",
       "                  Govindarajanagar             BJP\n",
       "                  Padmanabanagar               BJP\n",
       "                  Vijayanagar                  INC\n",
       "BAGALKOT          Badami                       INC\n",
       "                  Bagalkot                     BJP\n",
       "                  Bilgi                        BJP\n",
       "                  Hungund                      BJP\n",
       "                  Jamkhandi                    INC\n",
       "                  Mudhol                       BJP\n",
       "                  Terdal                       BJP\n",
       "BANGALORE RURAL   Devanahalli                  JDS\n",
       "                  Doddaballapur                INC\n",
       "                  Hosakote                     INC\n",
       "                  Nelamangala                  JDS\n",
       "...                                            ...\n",
       "SHIMOGA           Shimoga                      BJP\n",
       "                  Shimoga Rural                BJP\n",
       "                  Sorab                        BJP\n",
       "                  Tirthahalli                  BJP\n",
       "TUMKUR            Chikkanayakanhalli           BJP\n",
       "                  Gubbi                        JDS\n",
       "                  Koratagere                   INC\n",
       "                  Kunigal                      INC\n",
       "                  Madhugiri                    JDS\n",
       "                  Pavagada                     INC\n",
       "                  Sira                         JDS\n",
       "                  Tiptur                       BJP\n",
       "                  Tumkur City                  BJP\n",
       "                  Tumkur Rural                 JDS\n",
       "                  Turuvekere                   BJP\n",
       "UDUPI             Baindur                      BJP\n",
       "                  Kapu                         BJP\n",
       "                  Karkala                      BJP\n",
       "                  Kundapur                     BJP\n",
       "                  Udupi                        BJP\n",
       "UTTARA KANNADA    Bhatkal                      BJP\n",
       "                  Haliyal                      INC\n",
       "                  Karwar                       BJP\n",
       "                  Kumta                        BJP\n",
       "                  Sirsi                        BJP\n",
       "                  Yellapur                     INC\n",
       "YADGIR            Gurmitkal                    JDS\n",
       "                  Shahapur                     INC\n",
       "                  Shorapur                     BJP\n",
       "                  Yadgir                       BJP\n",
       "\n",
       "[222 rows x 1 columns]"
      ]
     },
     "execution_count": 109,
     "metadata": {},
     "output_type": "execute_result"
    }
   ],
   "source": [
    "x"
   ]
  },
  {
   "cell_type": "markdown",
   "metadata": {},
   "source": [
    "## 7. Max and Minimum winning margins in each constituency for a district"
   ]
  },
  {
   "cell_type": "code",
   "execution_count": 110,
   "metadata": {},
   "outputs": [],
   "source": [
    "win_margin = []"
   ]
  },
  {
   "cell_type": "code",
   "execution_count": 111,
   "metadata": {},
   "outputs": [],
   "source": [
    "x = df['Winning Margin'][0]"
   ]
  },
  {
   "cell_type": "code",
   "execution_count": 112,
   "metadata": {},
   "outputs": [
    {
     "data": {
      "text/plain": [
       "'8,506'"
      ]
     },
     "execution_count": 112,
     "metadata": {},
     "output_type": "execute_result"
    }
   ],
   "source": [
    "x"
   ]
  },
  {
   "cell_type": "code",
   "execution_count": 113,
   "metadata": {},
   "outputs": [],
   "source": [
    "x = x.split(',')"
   ]
  },
  {
   "cell_type": "code",
   "execution_count": 114,
   "metadata": {},
   "outputs": [
    {
     "data": {
      "text/plain": [
       "['8', '506']"
      ]
     },
     "execution_count": 114,
     "metadata": {},
     "output_type": "execute_result"
    }
   ],
   "source": [
    "x"
   ]
  },
  {
   "cell_type": "code",
   "execution_count": 115,
   "metadata": {},
   "outputs": [],
   "source": [
    "x = ''.join(x)"
   ]
  },
  {
   "cell_type": "code",
   "execution_count": 116,
   "metadata": {},
   "outputs": [
    {
     "data": {
      "text/plain": [
       "'8506'"
      ]
     },
     "execution_count": 116,
     "metadata": {},
     "output_type": "execute_result"
    }
   ],
   "source": [
    "x"
   ]
  },
  {
   "cell_type": "code",
   "execution_count": 117,
   "metadata": {},
   "outputs": [],
   "source": [
    "x = int(x)"
   ]
  },
  {
   "cell_type": "code",
   "execution_count": 118,
   "metadata": {},
   "outputs": [
    {
     "data": {
      "text/plain": [
       "8506"
      ]
     },
     "execution_count": 118,
     "metadata": {},
     "output_type": "execute_result"
    }
   ],
   "source": [
    "x"
   ]
  },
  {
   "cell_type": "code",
   "execution_count": 119,
   "metadata": {},
   "outputs": [
    {
     "data": {
      "text/plain": [
       "int"
      ]
     },
     "execution_count": 119,
     "metadata": {},
     "output_type": "execute_result"
    }
   ],
   "source": [
    "type(x)"
   ]
  },
  {
   "cell_type": "code",
   "execution_count": 120,
   "metadata": {},
   "outputs": [],
   "source": [
    "win_marg = []"
   ]
  },
  {
   "cell_type": "code",
   "execution_count": 121,
   "metadata": {},
   "outputs": [],
   "source": [
    "for i in range(len(df)):\n",
    "    x = df['Winning Margin'][i]\n",
    "    x = x.split(',')\n",
    "    x = ''.join(x)\n",
    "    x = int(x)\n",
    "    win_marg.append(x)"
   ]
  },
  {
   "cell_type": "code",
   "execution_count": 122,
   "metadata": {},
   "outputs": [
    {
     "data": {
      "text/plain": [
       "int"
      ]
     },
     "execution_count": 122,
     "metadata": {},
     "output_type": "execute_result"
    }
   ],
   "source": [
    "type(win_marg[100])"
   ]
  },
  {
   "cell_type": "code",
   "execution_count": 123,
   "metadata": {},
   "outputs": [],
   "source": [
    "win_marg = pd.Series(win_marg,name = 'Winning Margin')"
   ]
  },
  {
   "cell_type": "code",
   "execution_count": 124,
   "metadata": {},
   "outputs": [],
   "source": [
    "win_marg = pd.DataFrame(win_marg)"
   ]
  },
  {
   "cell_type": "code",
   "execution_count": 125,
   "metadata": {},
   "outputs": [],
   "source": [
    "df.drop('Winning Margin',axis = 1, inplace=True)"
   ]
  },
  {
   "cell_type": "code",
   "execution_count": 126,
   "metadata": {},
   "outputs": [],
   "source": [
    "df['Winning Margin'] = win_marg"
   ]
  },
  {
   "cell_type": "code",
   "execution_count": 127,
   "metadata": {},
   "outputs": [
    {
     "data": {
      "text/plain": [
       "District Name\n",
       "B.B.M.P (CENTRAL)    33137\n",
       "B.B.M.P(NORTH)       81626\n",
       "B.B.M.P(SOUTH)       47162\n",
       "BAGALKOT             20889\n",
       "BANGALORE RURAL      24321\n",
       "BANGALORE URBAN      42503\n",
       "BELAGAVI             58692\n",
       "BELLARY              21271\n",
       "BIDAR                31814\n",
       "BIJAPUR              29715\n",
       "CHAMARAJNAGAR        19454\n",
       "CHIKABALLAPUR        30431\n",
       "CHIKKMAGALUR         26314\n",
       "CHITRADURGA          42045\n",
       "DAKSHINA KANNADA     29799\n",
       "DAVANAGERE           29221\n",
       "DHARWAD              40487\n",
       "GADAG                29993\n",
       "GULBARGA             19212\n",
       "HASSAN               53012\n",
       "HAVERI               21271\n",
       "KODAGU               16015\n",
       "KOLAR                44251\n",
       "KOPPAL               26351\n",
       "MANDYA               54030\n",
       "MYSORE               58616\n",
       "RAICHUR              21045\n",
       "RAMANAGARAM          79909\n",
       "SHIMOGA              46107\n",
       "TUMKUR               25563\n",
       "UDUPI                56405\n",
       "UTTARA KANNADA       32750\n",
       "YADGIR               30974\n",
       "Name: Winning Margin, dtype: int64"
      ]
     },
     "execution_count": 127,
     "metadata": {},
     "output_type": "execute_result"
    }
   ],
   "source": [
    "df.groupby('District Name')['Winning Margin'].max()"
   ]
  },
  {
   "cell_type": "code",
   "execution_count": 128,
   "metadata": {},
   "outputs": [
    {
     "data": {
      "text/plain": [
       "District Name\n",
       "B.B.M.P (CENTRAL)     7934\n",
       "B.B.M.P(NORTH)       12227\n",
       "B.B.M.P(SOUTH)        2775\n",
       "BAGALKOT              1696\n",
       "BANGALORE RURAL       7597\n",
       "BANGALORE URBAN       5671\n",
       "BELAGAVI              2331\n",
       "BELLARY               2679\n",
       "BIDAR                10245\n",
       "BIJAPUR               3186\n",
       "CHAMARAJNAGAR         3513\n",
       "CHIKABALLAPUR         5673\n",
       "CHIKKMAGALUR          1989\n",
       "CHITRADURGA          12875\n",
       "DAKSHINA KANNADA     15971\n",
       "DAVANAGERE            4071\n",
       "DHARWAD                634\n",
       "GADAG                 1868\n",
       "GULBARGA               697\n",
       "HASSAN                4942\n",
       "HAVERI                 555\n",
       "KODAGU               13353\n",
       "KOLAR                 6715\n",
       "KOPPAL                7973\n",
       "MANDYA               17119\n",
       "MYSORE                1779\n",
       "RAICHUR                213\n",
       "RAMANAGARAM          21530\n",
       "SHIMOGA               3777\n",
       "TUMKUR                 409\n",
       "UDUPI                11917\n",
       "UTTARA KANNADA        1483\n",
       "YADGIR               12881\n",
       "Name: Winning Margin, dtype: int64"
      ]
     },
     "execution_count": 128,
     "metadata": {},
     "output_type": "execute_result"
    }
   ],
   "source": [
    "df.groupby('District Name')['Winning Margin'].min()"
   ]
  }
 ],
 "metadata": {
  "kernelspec": {
   "display_name": "Python 3",
   "language": "python",
   "name": "python3"
  },
  "language_info": {
   "codemirror_mode": {
    "name": "ipython",
    "version": 3
   },
   "file_extension": ".py",
   "mimetype": "text/x-python",
   "name": "python",
   "nbconvert_exporter": "python",
   "pygments_lexer": "ipython3",
   "version": "3.6.7"
  }
 },
 "nbformat": 4,
 "nbformat_minor": 2
}
