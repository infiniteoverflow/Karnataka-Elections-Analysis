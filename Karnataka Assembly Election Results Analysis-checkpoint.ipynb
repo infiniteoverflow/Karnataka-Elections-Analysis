{
 "cells": [
  {
   "cell_type": "code",
   "execution_count": 1,
   "metadata": {},
   "outputs": [],
   "source": [
    "import numpy as np\n",
    "import pandas as pd\n",
    "import matplotlib.pyplot as plt\n",
    "%matplotlib inline\n",
    "import seaborn as sns"
   ]
  },
  {
   "cell_type": "code",
   "execution_count": 2,
   "metadata": {},
   "outputs": [],
   "source": [
    "df = pd.read_csv('assemblydata.csv')"
   ]
  },
  {
   "cell_type": "code",
   "execution_count": 3,
   "metadata": {},
   "outputs": [
    {
     "data": {
      "text/html": [
       "<div>\n",
       "<style scoped>\n",
       "    .dataframe tbody tr th:only-of-type {\n",
       "        vertical-align: middle;\n",
       "    }\n",
       "\n",
       "    .dataframe tbody tr th {\n",
       "        vertical-align: top;\n",
       "    }\n",
       "\n",
       "    .dataframe thead th {\n",
       "        text-align: right;\n",
       "    }\n",
       "</style>\n",
       "<table border=\"1\" class=\"dataframe\">\n",
       "  <thead>\n",
       "    <tr style=\"text-align: right;\">\n",
       "      <th></th>\n",
       "      <th>AC No.</th>\n",
       "      <th>AC Name</th>\n",
       "      <th>Winning Party</th>\n",
       "      <th>Winning Candidate</th>\n",
       "      <th>Winner Votes</th>\n",
       "      <th>Runner Up Party</th>\n",
       "      <th>Runner Up Candidate</th>\n",
       "      <th>Runner Up Votes</th>\n",
       "      <th>Voting Turnout %</th>\n",
       "      <th>Total Voters</th>\n",
       "      <th>Winning Margin</th>\n",
       "      <th>District Name</th>\n",
       "    </tr>\n",
       "  </thead>\n",
       "  <tbody>\n",
       "    <tr>\n",
       "      <th>0</th>\n",
       "      <td>1</td>\n",
       "      <td>Nippani</td>\n",
       "      <td>BJP</td>\n",
       "      <td>SHASHIKALA JOLLE</td>\n",
       "      <td>87,006</td>\n",
       "      <td>INC</td>\n",
       "      <td>KAKASO PANDURANG PATIL</td>\n",
       "      <td>78,500</td>\n",
       "      <td>81.19%</td>\n",
       "      <td>211,827</td>\n",
       "      <td>8,506</td>\n",
       "      <td>BELAGAVI</td>\n",
       "    </tr>\n",
       "    <tr>\n",
       "      <th>1</th>\n",
       "      <td>2</td>\n",
       "      <td>Chikkodi-Sadalga</td>\n",
       "      <td>INC</td>\n",
       "      <td>GANESH HUKKERI</td>\n",
       "      <td>91,467</td>\n",
       "      <td>BJP</td>\n",
       "      <td>ANNASAHEB SHANKAR JOLLE</td>\n",
       "      <td>80,898</td>\n",
       "      <td>84.78%</td>\n",
       "      <td>210,480</td>\n",
       "      <td>10,569</td>\n",
       "      <td>BELAGAVI</td>\n",
       "    </tr>\n",
       "    <tr>\n",
       "      <th>2</th>\n",
       "      <td>3</td>\n",
       "      <td>Athani</td>\n",
       "      <td>INC</td>\n",
       "      <td>MAHESH IRANAGOUDA KUMATHALLI</td>\n",
       "      <td>82,094</td>\n",
       "      <td>BJP</td>\n",
       "      <td>LAXMAN SANGAPPA SAVADI</td>\n",
       "      <td>79,763</td>\n",
       "      <td>80.67%</td>\n",
       "      <td>213,935</td>\n",
       "      <td>2,331</td>\n",
       "      <td>BELAGAVI</td>\n",
       "    </tr>\n",
       "    <tr>\n",
       "      <th>3</th>\n",
       "      <td>4</td>\n",
       "      <td>Kagwad</td>\n",
       "      <td>INC</td>\n",
       "      <td>BALASAHEB PATIL</td>\n",
       "      <td>83,060</td>\n",
       "      <td>BJP</td>\n",
       "      <td>BHARAMAGOUDA ALAGOUDA KAGE</td>\n",
       "      <td>50,118</td>\n",
       "      <td>79.98%</td>\n",
       "      <td>181,486</td>\n",
       "      <td>32,942</td>\n",
       "      <td>BELAGAVI</td>\n",
       "    </tr>\n",
       "    <tr>\n",
       "      <th>4</th>\n",
       "      <td>5</td>\n",
       "      <td>Kudachi</td>\n",
       "      <td>BJP</td>\n",
       "      <td>P RAJIV</td>\n",
       "      <td>67,781</td>\n",
       "      <td>INC</td>\n",
       "      <td>AMIT SHAMA GHATAGE</td>\n",
       "      <td>52,773</td>\n",
       "      <td>75.86%</td>\n",
       "      <td>180,233</td>\n",
       "      <td>15,008</td>\n",
       "      <td>BELAGAVI</td>\n",
       "    </tr>\n",
       "  </tbody>\n",
       "</table>\n",
       "</div>"
      ],
      "text/plain": [
       "   AC No.           AC Name Winning Party             Winning Candidate  \\\n",
       "0       1           Nippani           BJP              SHASHIKALA JOLLE   \n",
       "1       2  Chikkodi-Sadalga           INC                GANESH HUKKERI   \n",
       "2       3            Athani           INC  MAHESH IRANAGOUDA KUMATHALLI   \n",
       "3       4            Kagwad           INC               BALASAHEB PATIL   \n",
       "4       5           Kudachi           BJP                       P RAJIV   \n",
       "\n",
       "  Winner Votes Runner Up Party         Runner Up Candidate Runner Up Votes  \\\n",
       "0       87,006             INC      KAKASO PANDURANG PATIL          78,500   \n",
       "1       91,467             BJP     ANNASAHEB SHANKAR JOLLE          80,898   \n",
       "2       82,094             BJP      LAXMAN SANGAPPA SAVADI          79,763   \n",
       "3       83,060             BJP  BHARAMAGOUDA ALAGOUDA KAGE          50,118   \n",
       "4       67,781             INC          AMIT SHAMA GHATAGE          52,773   \n",
       "\n",
       "  Voting Turnout % Total Voters Winning Margin District Name  \n",
       "0           81.19%      211,827          8,506      BELAGAVI  \n",
       "1           84.78%      210,480         10,569      BELAGAVI  \n",
       "2           80.67%      213,935          2,331      BELAGAVI  \n",
       "3           79.98%      181,486         32,942      BELAGAVI  \n",
       "4           75.86%      180,233         15,008      BELAGAVI  "
      ]
     },
     "execution_count": 3,
     "metadata": {},
     "output_type": "execute_result"
    }
   ],
   "source": [
    "df.head()"
   ]
  },
  {
   "cell_type": "markdown",
   "metadata": {},
   "source": [
    "### 1. PARTIES WHO WON ATLEAST ONE CONSTITUENCY"
   ]
  },
  {
   "cell_type": "code",
   "execution_count": 4,
   "metadata": {},
   "outputs": [
    {
     "data": {
      "text/plain": [
       "array(['BJP', 'INC', 'JDS', 'OTHERS', '-'], dtype=object)"
      ]
     },
     "execution_count": 4,
     "metadata": {},
     "output_type": "execute_result"
    }
   ],
   "source": [
    "df['Winning Party'].unique()"
   ]
  },
  {
   "cell_type": "code",
   "execution_count": 5,
   "metadata": {},
   "outputs": [],
   "source": [
    "# BJP,INC,JDS,OTHERS are valid parties, but '-' is not a party, so let's see what data does it hold"
   ]
  },
  {
   "cell_type": "code",
   "execution_count": 6,
   "metadata": {},
   "outputs": [
    {
     "data": {
      "text/html": [
       "<div>\n",
       "<style scoped>\n",
       "    .dataframe tbody tr th:only-of-type {\n",
       "        vertical-align: middle;\n",
       "    }\n",
       "\n",
       "    .dataframe tbody tr th {\n",
       "        vertical-align: top;\n",
       "    }\n",
       "\n",
       "    .dataframe thead th {\n",
       "        text-align: right;\n",
       "    }\n",
       "</style>\n",
       "<table border=\"1\" class=\"dataframe\">\n",
       "  <thead>\n",
       "    <tr style=\"text-align: right;\">\n",
       "      <th></th>\n",
       "      <th>AC No.</th>\n",
       "      <th>AC Name</th>\n",
       "      <th>Winning Party</th>\n",
       "      <th>Winning Candidate</th>\n",
       "      <th>Winner Votes</th>\n",
       "      <th>Runner Up Party</th>\n",
       "      <th>Runner Up Candidate</th>\n",
       "      <th>Runner Up Votes</th>\n",
       "      <th>Voting Turnout %</th>\n",
       "      <th>Total Voters</th>\n",
       "      <th>Winning Margin</th>\n",
       "      <th>District Name</th>\n",
       "    </tr>\n",
       "  </thead>\n",
       "  <tbody>\n",
       "    <tr>\n",
       "      <th>153</th>\n",
       "      <td>154</td>\n",
       "      <td>Rajarajeshwarinagar</td>\n",
       "      <td>-</td>\n",
       "      <td>-</td>\n",
       "      <td>-</td>\n",
       "      <td>-</td>\n",
       "      <td>-</td>\n",
       "      <td>-</td>\n",
       "      <td>-</td>\n",
       "      <td>471,459</td>\n",
       "      <td>-</td>\n",
       "      <td>B.B.M.P (CENTRAL)</td>\n",
       "    </tr>\n",
       "    <tr>\n",
       "      <th>172</th>\n",
       "      <td>173</td>\n",
       "      <td>Jayanagar</td>\n",
       "      <td>-</td>\n",
       "      <td>-</td>\n",
       "      <td>-</td>\n",
       "      <td>-</td>\n",
       "      <td>-</td>\n",
       "      <td>-</td>\n",
       "      <td>-</td>\n",
       "      <td>203,184</td>\n",
       "      <td>-</td>\n",
       "      <td>B.B.M.P(SOUTH)</td>\n",
       "    </tr>\n",
       "  </tbody>\n",
       "</table>\n",
       "</div>"
      ],
      "text/plain": [
       "     AC No.              AC Name Winning Party Winning Candidate Winner Votes  \\\n",
       "153     154  Rajarajeshwarinagar             -                 -            -   \n",
       "172     173            Jayanagar             -                 -            -   \n",
       "\n",
       "    Runner Up Party Runner Up Candidate Runner Up Votes Voting Turnout %  \\\n",
       "153               -                   -               -                -   \n",
       "172               -                   -               -                -   \n",
       "\n",
       "    Total Voters Winning Margin      District Name  \n",
       "153      471,459              -  B.B.M.P (CENTRAL)  \n",
       "172      203,184              -     B.B.M.P(SOUTH)  "
      ]
     },
     "execution_count": 6,
     "metadata": {},
     "output_type": "execute_result"
    }
   ],
   "source": [
    "df[df['Winning Party'] == '-']"
   ]
  },
  {
   "cell_type": "code",
   "execution_count": 7,
   "metadata": {},
   "outputs": [],
   "source": [
    "# So, elections were not conducted in these areas [atleast that's what our data tells us] , due to some unavoidable circumstances"
   ]
  },
  {
   "cell_type": "code",
   "execution_count": 8,
   "metadata": {},
   "outputs": [],
   "source": [
    "# So, it's better to remove these 2 constituencies from our data, so that it won't cause us any future problems"
   ]
  },
  {
   "cell_type": "code",
   "execution_count": 9,
   "metadata": {},
   "outputs": [],
   "source": [
    "df.drop(df[df['Winning Party'] == '-'].index,inplace=True)"
   ]
  },
  {
   "cell_type": "code",
   "execution_count": 10,
   "metadata": {},
   "outputs": [],
   "source": [
    "# Just to be sure that we have removed those 2 rows, let's run the initial query once again"
   ]
  },
  {
   "cell_type": "code",
   "execution_count": 11,
   "metadata": {},
   "outputs": [
    {
     "data": {
      "text/plain": [
       "array(['BJP', 'INC', 'JDS', 'OTHERS'], dtype=object)"
      ]
     },
     "execution_count": 11,
     "metadata": {},
     "output_type": "execute_result"
    }
   ],
   "source": [
    "df['Winning Party'].unique()"
   ]
  },
  {
   "cell_type": "code",
   "execution_count": 12,
   "metadata": {},
   "outputs": [],
   "source": [
    "# So, we have completed the first step of our data analysis, that is to find what all parties have won atleast a single constituency"
   ]
  },
  {
   "cell_type": "code",
   "execution_count": 13,
   "metadata": {},
   "outputs": [],
   "source": [
    "df.reset_index(inplace=True)"
   ]
  },
  {
   "cell_type": "code",
   "execution_count": 14,
   "metadata": {},
   "outputs": [],
   "source": [
    "df.drop(labels = 'index',axis = 1,inplace=True)"
   ]
  },
  {
   "cell_type": "markdown",
   "metadata": {},
   "source": [
    "### 2. VOTING TURNOUT IN EACH DISTRICT"
   ]
  },
  {
   "cell_type": "code",
   "execution_count": 15,
   "metadata": {
    "scrolled": true
   },
   "outputs": [
    {
     "data": {
      "text/plain": [
       "str"
      ]
     },
     "execution_count": 15,
     "metadata": {},
     "output_type": "execute_result"
    }
   ],
   "source": [
    "type(df['Voting Turnout %'][0])"
   ]
  },
  {
   "cell_type": "code",
   "execution_count": 16,
   "metadata": {},
   "outputs": [
    {
     "data": {
      "text/plain": [
       "'81.19%'"
      ]
     },
     "execution_count": 16,
     "metadata": {},
     "output_type": "execute_result"
    }
   ],
   "source": [
    "df['Voting Turnout %'][0]"
   ]
  },
  {
   "cell_type": "code",
   "execution_count": 17,
   "metadata": {},
   "outputs": [],
   "source": [
    "# Even though it is a floating point, it is represented as a string, so first we need to convert it into valid float datatype to perform aggregate operations"
   ]
  },
  {
   "cell_type": "code",
   "execution_count": 18,
   "metadata": {},
   "outputs": [],
   "source": [
    "vot_turnout = df['Voting Turnout %']"
   ]
  },
  {
   "cell_type": "code",
   "execution_count": 19,
   "metadata": {},
   "outputs": [
    {
     "data": {
      "text/plain": [
       "'81.19%'"
      ]
     },
     "execution_count": 19,
     "metadata": {},
     "output_type": "execute_result"
    }
   ],
   "source": [
    "vot_turnout[0]"
   ]
  },
  {
   "cell_type": "code",
   "execution_count": 20,
   "metadata": {},
   "outputs": [
    {
     "data": {
      "text/plain": [
       "['81.19', '']"
      ]
     },
     "execution_count": 20,
     "metadata": {},
     "output_type": "execute_result"
    }
   ],
   "source": [
    "vot_turnout[0].split('%')"
   ]
  },
  {
   "cell_type": "code",
   "execution_count": 21,
   "metadata": {},
   "outputs": [
    {
     "data": {
      "text/plain": [
       "81.19"
      ]
     },
     "execution_count": 21,
     "metadata": {},
     "output_type": "execute_result"
    }
   ],
   "source": [
    "float(vot_turnout[0].split('%')[0])"
   ]
  },
  {
   "cell_type": "code",
   "execution_count": 22,
   "metadata": {},
   "outputs": [
    {
     "name": "stdout",
     "output_type": "stream",
     "text": [
      "222\n"
     ]
    }
   ],
   "source": [
    "v_turn = []\n",
    "print(vot_turnout.size)\n",
    "i = 0\n",
    "for i in range(0,len(vot_turnout)):\n",
    "    x = float(vot_turnout[i].split('%')[0])\n",
    "    v_turn.append(x)\n",
    "    "
   ]
  },
  {
   "cell_type": "code",
   "execution_count": 23,
   "metadata": {},
   "outputs": [],
   "source": [
    "v_turn = np.array(v_turn)"
   ]
  },
  {
   "cell_type": "code",
   "execution_count": 24,
   "metadata": {},
   "outputs": [],
   "source": [
    "df.drop('Voting Turnout %',axis = 1,inplace=True)"
   ]
  },
  {
   "cell_type": "code",
   "execution_count": 25,
   "metadata": {},
   "outputs": [],
   "source": [
    "df['Voting Turnout %'] = pd.Series(v_turn)"
   ]
  },
  {
   "cell_type": "code",
   "execution_count": 26,
   "metadata": {},
   "outputs": [
    {
     "data": {
      "text/plain": [
       "81.189999999999998"
      ]
     },
     "execution_count": 26,
     "metadata": {},
     "output_type": "execute_result"
    }
   ],
   "source": [
    "df['Voting Turnout %'][0]"
   ]
  },
  {
   "cell_type": "code",
   "execution_count": 27,
   "metadata": {},
   "outputs": [],
   "source": [
    "df['Voting Turnout %'] = pd.to_numeric(df['Voting Turnout %'])"
   ]
  },
  {
   "cell_type": "code",
   "execution_count": 28,
   "metadata": {},
   "outputs": [
    {
     "data": {
      "text/plain": [
       "numpy.float64"
      ]
     },
     "execution_count": 28,
     "metadata": {},
     "output_type": "execute_result"
    }
   ],
   "source": [
    "type(df['Voting Turnout %'][0])"
   ]
  },
  {
   "cell_type": "code",
   "execution_count": 29,
   "metadata": {},
   "outputs": [],
   "source": [
    "## Now that the type of the column is converted to a numeric type, we can now apply our analysis on it"
   ]
  },
  {
   "cell_type": "code",
   "execution_count": 30,
   "metadata": {},
   "outputs": [],
   "source": [
    "## We want the voting turnout in each district"
   ]
  },
  {
   "cell_type": "code",
   "execution_count": 31,
   "metadata": {},
   "outputs": [
    {
     "data": {
      "text/plain": [
       "Index(['AC No.', 'AC Name', 'Winning Party', 'Winning Candidate',\n",
       "       'Winner Votes', 'Runner Up Party', 'Runner Up Candidate',\n",
       "       'Runner Up Votes', 'Total Voters', 'Winning Margin', 'District Name',\n",
       "       'Voting Turnout %'],\n",
       "      dtype='object')"
      ]
     },
     "execution_count": 31,
     "metadata": {},
     "output_type": "execute_result"
    }
   ],
   "source": [
    "df.columns"
   ]
  },
  {
   "cell_type": "code",
   "execution_count": 32,
   "metadata": {},
   "outputs": [
    {
     "data": {
      "text/plain": [
       "<matplotlib.axes._subplots.AxesSubplot at 0x231a0bb0c88>"
      ]
     },
     "execution_count": 32,
     "metadata": {},
     "output_type": "execute_result"
    },
    {
     "data": {
      "image/png": "[encoded data removed]",
      "text/plain": [
       "<matplotlib.figure.Figure at 0x231a0b9bcc0>"
      ]
     },
     "metadata": {},
     "output_type": "display_data"
    }
   ],
   "source": [
    "df.groupby(['District Name'])['Voting Turnout %'].mean().plot(legend = True)"
   ]
  },
  {
   "cell_type": "code",
   "execution_count": 33,
   "metadata": {},
   "outputs": [],
   "source": [
    "dname = df['District Name'].unique()"
   ]
  },
  {
   "cell_type": "code",
   "execution_count": 34,
   "metadata": {},
   "outputs": [
    {
     "data": {
      "text/plain": [
       "array(['BELAGAVI', 'BAGALKOT', 'BIJAPUR', 'GULBARGA', 'YADGIR', 'BIDAR',\n",
       "       'RAICHUR', 'KOPPAL', 'GADAG', 'DHARWAD', 'UTTARA KANNADA', 'HAVERI',\n",
       "       'BELLARY', 'CHITRADURGA', 'DAVANAGERE', 'SHIMOGA', 'UDUPI',\n",
       "       'CHIKKMAGALUR', 'TUMKUR', 'CHIKABALLAPUR', 'KOLAR',\n",
       "       'BANGALORE URBAN', 'B.B.M.P(NORTH)', 'B.B.M.P (CENTRAL)',\n",
       "       'B.B.M.P(SOUTH)', 'BANGALORE RURAL', 'RAMANAGARAM', 'MANDYA',\n",
       "       'HASSAN', 'DAKSHINA KANNADA', 'KODAGU', 'MYSORE', 'CHAMARAJNAGAR'], dtype=object)"
      ]
     },
     "execution_count": 34,
     "metadata": {},
     "output_type": "execute_result"
    }
   ],
   "source": [
    "dname"
   ]
  },
  {
   "cell_type": "code",
   "execution_count": 35,
   "metadata": {},
   "outputs": [],
   "source": [
    "votingTurnout = df.groupby(['District Name'])['Voting Turnout %'].mean()"
   ]
  },
  {
   "cell_type": "code",
   "execution_count": 36,
   "metadata": {},
   "outputs": [
    {
     "data": {
      "text/plain": [
       "<matplotlib.axes._subplots.AxesSubplot at 0x231a0bd9b70>"
      ]
     },
     "execution_count": 36,
     "metadata": {},
     "output_type": "execute_result"
    },
    {
     "data": {
      "image/png": "[encoded data removed]",
      "text/plain": [
       "<matplotlib.figure.Figure at 0x231a0bd9550>"
      ]
     },
     "metadata": {},
     "output_type": "display_data"
    }
   ],
   "source": [
    "plt.figure(figsize=(40,4))\n",
    "sns.barplot(x = dname, y = votingTurnout)"
   ]
  },
  {
   "cell_type": "markdown",
   "metadata": {},
   "source": [
    "#### The width of the plot is increased so as to fit the entire districts"
   ]
  },
  {
   "cell_type": "markdown",
   "metadata": {},
   "source": [
    "### A more concise plot"
   ]
  },
  {
   "cell_type": "code",
   "execution_count": 37,
   "metadata": {},
   "outputs": [
    {
     "data": {
      "text/plain": [
       "<matplotlib.axes._subplots.AxesSubplot at 0x231a0bd9b38>"
      ]
     },
     "execution_count": 37,
     "metadata": {},
     "output_type": "execute_result"
    },
    {
     "data": {
      "image/png": "[encoded data removed]",
      "text/plain": [
       "<matplotlib.figure.Figure at 0x231a0bd92b0>"
      ]
     },
     "metadata": {},
     "output_type": "display_data"
    }
   ],
   "source": [
    "plt.figure(figsize=(10,4)) ## The district name can't be seen properly, so the width was increased in the earlier plot\n",
    "sns.barplot(x = dname, y = votingTurnout)"
   ]
  },
  {
   "cell_type": "code",
   "execution_count": 38,
   "metadata": {},
   "outputs": [],
   "source": [
    "# Further analysis on the same question"
   ]
  },
  {
   "cell_type": "code",
   "execution_count": 39,
   "metadata": {},
   "outputs": [],
   "source": [
    "dname = pd.Series(dname,name ='District')"
   ]
  },
  {
   "cell_type": "code",
   "execution_count": 40,
   "metadata": {},
   "outputs": [],
   "source": [
    "dname = pd.DataFrame(dname)"
   ]
  },
  {
   "cell_type": "code",
   "execution_count": 41,
   "metadata": {},
   "outputs": [
    {
     "data": {
      "text/plain": [
       "Index(['District'], dtype='object')"
      ]
     },
     "execution_count": 41,
     "metadata": {},
     "output_type": "execute_result"
    }
   ],
   "source": [
    "dname.columns"
   ]
  },
  {
   "cell_type": "code",
   "execution_count": 42,
   "metadata": {},
   "outputs": [],
   "source": [
    "votTurn = pd.Series(votingTurnout,name ='Voting Turnout %')"
   ]
  },
  {
   "cell_type": "code",
   "execution_count": 43,
   "metadata": {},
   "outputs": [],
   "source": [
    "votTurn = pd.DataFrame(votTurn)"
   ]
  },
  {
   "cell_type": "code",
   "execution_count": 44,
   "metadata": {},
   "outputs": [],
   "source": [
    "votTurn.reset_index(inplace = True)"
   ]
  },
  {
   "cell_type": "markdown",
   "metadata": {},
   "source": [
    "### The district with the maximum voting turnout is Yadgir"
   ]
  },
  {
   "cell_type": "code",
   "execution_count": 45,
   "metadata": {},
   "outputs": [
    {
     "data": {
      "text/plain": [
       "District Name       YADGIR\n",
       "Voting Turnout %     84.35\n",
       "dtype: object"
      ]
     },
     "execution_count": 45,
     "metadata": {},
     "output_type": "execute_result"
    }
   ],
   "source": [
    "votTurn.max()"
   ]
  },
  {
   "cell_type": "markdown",
   "metadata": {},
   "source": [
    "### The district with the least turnout is: BBMP Central"
   ]
  },
  {
   "cell_type": "code",
   "execution_count": 46,
   "metadata": {},
   "outputs": [
    {
     "data": {
      "text/plain": [
       "District Name       B.B.M.P (CENTRAL)\n",
       "Voting Turnout %                 52.8\n",
       "dtype: object"
      ]
     },
     "execution_count": 46,
     "metadata": {},
     "output_type": "execute_result"
    }
   ],
   "source": [
    "votTurn.min()"
   ]
  },
  {
   "cell_type": "markdown",
   "metadata": {},
   "source": [
    "### The average turnout is: "
   ]
  },
  {
   "cell_type": "code",
   "execution_count": 47,
   "metadata": {},
   "outputs": [
    {
     "data": {
      "text/plain": [
       "Voting Turnout %    73.874004\n",
       "dtype: float64"
      ]
     },
     "execution_count": 47,
     "metadata": {},
     "output_type": "execute_result"
    }
   ],
   "source": [
    "votTurn.mean()"
   ]
  },
  {
   "cell_type": "markdown",
   "metadata": {},
   "source": [
    "### The deviation in the turnout is: "
   ]
  },
  {
   "cell_type": "code",
   "execution_count": 48,
   "metadata": {},
   "outputs": [
    {
     "data": {
      "text/plain": [
       "Voting Turnout %    9.153231\n",
       "dtype: float64"
      ]
     },
     "execution_count": 48,
     "metadata": {},
     "output_type": "execute_result"
    }
   ],
   "source": [
    "votTurn.std()"
   ]
  },
  {
   "cell_type": "markdown",
   "metadata": {},
   "source": [
    "## 3. % WINNING OF EACH PARTIES"
   ]
  },
  {
   "cell_type": "code",
   "execution_count": 49,
   "metadata": {},
   "outputs": [
    {
     "data": {
      "text/plain": [
       "Index(['AC No.', 'AC Name', 'Winning Party', 'Winning Candidate',\n",
       "       'Winner Votes', 'Runner Up Party', 'Runner Up Candidate',\n",
       "       'Runner Up Votes', 'Total Voters', 'Winning Margin', 'District Name',\n",
       "       'Voting Turnout %'],\n",
       "      dtype='object')"
      ]
     },
     "execution_count": 49,
     "metadata": {},
     "output_type": "execute_result"
    }
   ],
   "source": [
    "df.columns"
   ]
  },
  {
   "cell_type": "code",
   "execution_count": 50,
   "metadata": {},
   "outputs": [
    {
     "data": {
      "text/plain": [
       "array(['BJP', 'INC', 'JDS', 'OTHERS'], dtype=object)"
      ]
     },
     "execution_count": 50,
     "metadata": {},
     "output_type": "execute_result"
    }
   ],
   "source": [
    "df['Winning Party'].unique()"
   ]
  },
  {
   "cell_type": "code",
   "execution_count": 51,
   "metadata": {},
   "outputs": [],
   "source": [
    "percent = {'BJP':0,'INC':0,'JDS':0,'OTHERS':0}"
   ]
  },
  {
   "cell_type": "code",
   "execution_count": 52,
   "metadata": {},
   "outputs": [
    {
     "data": {
      "text/plain": [
       "'INC'"
      ]
     },
     "execution_count": 52,
     "metadata": {},
     "output_type": "execute_result"
    }
   ],
   "source": [
    "df['Winning Party'][2]"
   ]
  },
  {
   "cell_type": "code",
   "execution_count": 53,
   "metadata": {},
   "outputs": [],
   "source": [
    "for i in range(0,len(df)):\n",
    "    percent[df['Winning Party'][i]] = percent[df['Winning Party'][i]] + 1"
   ]
  },
  {
   "cell_type": "code",
   "execution_count": 54,
   "metadata": {},
   "outputs": [
    {
     "data": {
      "text/plain": [
       "{'BJP': 104, 'INC': 78, 'JDS': 37, 'OTHERS': 3}"
      ]
     },
     "execution_count": 54,
     "metadata": {},
     "output_type": "execute_result"
    }
   ],
   "source": [
    "percent"
   ]
  },
  {
   "cell_type": "code",
   "execution_count": 55,
   "metadata": {},
   "outputs": [
    {
     "data": {
      "text/plain": [
       "0.46846846846846846"
      ]
     },
     "execution_count": 55,
     "metadata": {},
     "output_type": "execute_result"
    }
   ],
   "source": [
    "percent['BJP'] / sum(percent.values())"
   ]
  },
  {
   "cell_type": "code",
   "execution_count": 56,
   "metadata": {},
   "outputs": [
    {
     "data": {
      "text/plain": [
       "0.35135135135135137"
      ]
     },
     "execution_count": 56,
     "metadata": {},
     "output_type": "execute_result"
    }
   ],
   "source": [
    "percent['INC'] / sum(percent.values())"
   ]
  },
  {
   "cell_type": "code",
   "execution_count": 57,
   "metadata": {},
   "outputs": [
    {
     "data": {
      "text/plain": [
       "0.16666666666666666"
      ]
     },
     "execution_count": 57,
     "metadata": {},
     "output_type": "execute_result"
    }
   ],
   "source": [
    "percent['JDS'] / sum(percent.values())"
   ]
  },
  {
   "cell_type": "code",
   "execution_count": 58,
   "metadata": {},
   "outputs": [
    {
     "data": {
      "text/plain": [
       "0.013513513513513514"
      ]
     },
     "execution_count": 58,
     "metadata": {},
     "output_type": "execute_result"
    }
   ],
   "source": [
    "percent['OTHERS'] / sum(percent.values())"
   ]
  },
  {
   "cell_type": "markdown",
   "metadata": {},
   "source": [
    "### BJP won 103 constituencies, Congress won 78 constituencies, JDS won 36 constituencies, whereas 3 constituencies were won by others"
   ]
  },
  {
   "cell_type": "markdown",
   "metadata": {},
   "source": [
    "### Instead of using Dictionaries for calculating the counts, we can do it in Pandas as well using the slice operation"
   ]
  },
  {
   "cell_type": "markdown",
   "metadata": {},
   "source": [
    "#### BJP"
   ]
  },
  {
   "cell_type": "code",
   "execution_count": 59,
   "metadata": {},
   "outputs": [
    {
     "data": {
      "text/plain": [
       "104"
      ]
     },
     "execution_count": 59,
     "metadata": {},
     "output_type": "execute_result"
    }
   ],
   "source": [
    "len(df[df['Winning Party'] == 'BJP'])"
   ]
  },
  {
   "cell_type": "markdown",
   "metadata": {},
   "source": [
    "#### Congress"
   ]
  },
  {
   "cell_type": "code",
   "execution_count": 60,
   "metadata": {},
   "outputs": [
    {
     "data": {
      "text/plain": [
       "78"
      ]
     },
     "execution_count": 60,
     "metadata": {},
     "output_type": "execute_result"
    }
   ],
   "source": [
    "len(df[df['Winning Party'] == 'INC'])"
   ]
  },
  {
   "cell_type": "markdown",
   "metadata": {},
   "source": [
    "#### JDS"
   ]
  },
  {
   "cell_type": "code",
   "execution_count": 61,
   "metadata": {},
   "outputs": [
    {
     "data": {
      "text/plain": [
       "37"
      ]
     },
     "execution_count": 61,
     "metadata": {},
     "output_type": "execute_result"
    }
   ],
   "source": [
    "len(df[df['Winning Party'] == 'JDS'])"
   ]
  },
  {
   "cell_type": "markdown",
   "metadata": {},
   "source": [
    "#### Others"
   ]
  },
  {
   "cell_type": "code",
   "execution_count": 62,
   "metadata": {},
   "outputs": [
    {
     "data": {
      "text/plain": [
       "3"
      ]
     },
     "execution_count": 62,
     "metadata": {},
     "output_type": "execute_result"
    }
   ],
   "source": [
    "len(df[df['Winning Party'] == 'OTHERS'])"
   ]
  },
  {
   "cell_type": "markdown",
   "metadata": {},
   "source": [
    "## 4. WHICH PARTY WON THE MAXIMUM CONSTITUENCIES"
   ]
  },
  {
   "cell_type": "code",
   "execution_count": 63,
   "metadata": {},
   "outputs": [
    {
     "data": {
      "text/plain": [
       "'BJP'"
      ]
     },
     "execution_count": 63,
     "metadata": {},
     "output_type": "execute_result"
    }
   ],
   "source": [
    "max(percent,key = percent.get)"
   ]
  },
  {
   "cell_type": "markdown",
   "metadata": {},
   "source": [
    "#### Of course it is BJP, as it won around 103 constituencies"
   ]
  },
  {
   "cell_type": "code",
   "execution_count": 64,
   "metadata": {},
   "outputs": [
    {
     "data": {
      "text/plain": [
       "dict_keys(['BJP', 'INC', 'JDS', 'OTHERS'])"
      ]
     },
     "execution_count": 64,
     "metadata": {},
     "output_type": "execute_result"
    }
   ],
   "source": [
    "percent.keys()"
   ]
  },
  {
   "cell_type": "code",
   "execution_count": 65,
   "metadata": {},
   "outputs": [
    {
     "data": {
      "text/plain": [
       "dict_values([104, 78, 37, 3])"
      ]
     },
     "execution_count": 65,
     "metadata": {},
     "output_type": "execute_result"
    }
   ],
   "source": [
    "percent.values()"
   ]
  },
  {
   "cell_type": "code",
   "execution_count": 66,
   "metadata": {},
   "outputs": [
    {
     "data": {
      "text/plain": [
       "([<matplotlib.axis.XTick at 0x231a14ff6d8>,\n",
       "  <matplotlib.axis.XTick at 0x231a14fffd0>,\n",
       "  <matplotlib.axis.XTick at 0x231a14f1940>,\n",
       "  <matplotlib.axis.XTick at 0x231a152d278>],\n",
       " <a list of 4 Text xticklabel objects>)"
      ]
     },
     "execution_count": 66,
     "metadata": {},
     "output_type": "execute_result"
    },
    {
     "data": {
      "image/png": "[encoded data removed]",
      "text/plain": [
       "<matplotlib.figure.Figure at 0x231a14eb2b0>"
      ]
     },
     "metadata": {},
     "output_type": "display_data"
    }
   ],
   "source": [
    "plt.bar(range(len(percent)), percent.values(), align='center')\n",
    "plt.xticks(range(len(percent)), list(percent.keys()))\n"
   ]
  },
  {
   "cell_type": "markdown",
   "metadata": {},
   "source": [
    "### 5. WINNER AND RUNNER UPs FOR EACH DISTRICT"
   ]
  },
  {
   "cell_type": "code",
   "execution_count": 67,
   "metadata": {},
   "outputs": [
    {
     "data": {
      "text/plain": [
       "Index(['AC No.', 'AC Name', 'Winning Party', 'Winning Candidate',\n",
       "       'Winner Votes', 'Runner Up Party', 'Runner Up Candidate',\n",
       "       'Runner Up Votes', 'Total Voters', 'Winning Margin', 'District Name',\n",
       "       'Voting Turnout %'],\n",
       "      dtype='object')"
      ]
     },
     "execution_count": 67,
     "metadata": {},
     "output_type": "execute_result"
    }
   ],
   "source": [
    "df.columns"
   ]
  },
  {
   "cell_type": "code",
   "execution_count": 68,
   "metadata": {},
   "outputs": [],
   "source": [
    "dataFrame = df.groupby(by = 'District Name')['Winning Party'].value_counts()"
   ]
  },
  {
   "cell_type": "code",
   "execution_count": 69,
   "metadata": {},
   "outputs": [],
   "source": [
    "dataFrame = pd.DataFrame(dataFrame)"
   ]
  },
  {
   "cell_type": "code",
   "execution_count": 70,
   "metadata": {},
   "outputs": [
    {
     "data": {
      "text/plain": [
       "Index(['Winning Party'], dtype='object')"
      ]
     },
     "execution_count": 70,
     "metadata": {},
     "output_type": "execute_result"
    }
   ],
   "source": [
    "dataFrame.columns"
   ]
  },
  {
   "cell_type": "code",
   "execution_count": 71,
   "metadata": {},
   "outputs": [
    {
     "data": {
      "text/plain": [
       "MultiIndex(levels=[['B.B.M.P (CENTRAL)', 'B.B.M.P(NORTH)', 'B.B.M.P(SOUTH)', 'BAGALKOT', 'BANGALORE RURAL', 'BANGALORE URBAN', 'BELAGAVI', 'BELLARY', 'BIDAR', 'BIJAPUR', 'CHAMARAJNAGAR', 'CHIKABALLAPUR', 'CHIKKMAGALUR', 'CHITRADURGA', 'DAKSHINA KANNADA', 'DAVANAGERE', 'DHARWAD', 'GADAG', 'GULBARGA', 'HASSAN', 'HAVERI', 'KODAGU', 'KOLAR', 'KOPPAL', 'MANDYA', 'MYSORE', 'RAICHUR', 'RAMANAGARAM', 'SHIMOGA', 'TUMKUR', 'UDUPI', 'UTTARA KANNADA', 'YADGIR'], ['BJP', 'INC', 'JDS', 'OTHERS']],\n",
       "           labels=[[0, 0, 1, 1, 1, 2, 2, 3, 3, 4, 4, 5, 5, 5, 6, 6, 7, 7, 8, 8, 8, 9, 9, 9, 10, 10, 10, 11, 11, 12, 12, 13, 13, 14, 14, 15, 15, 16, 16, 17, 17, 18, 18, 19, 19, 20, 20, 20, 21, 22, 22, 22, 23, 23, 24, 25, 25, 25, 26, 26, 26, 27, 27, 28, 28, 29, 29, 29, 30, 31, 31, 32, 32, 32], [1, 0, 1, 0, 2, 0, 1, 0, 1, 1, 2, 0, 1, 2, 0, 1, 1, 0, 1, 0, 2, 0, 1, 2, 1, 0, 3, 1, 2, 0, 1, 0, 1, 0, 1, 0, 1, 0, 1, 0, 1, 1, 0, 2, 0, 0, 1, 3, 0, 1, 2, 3, 0, 1, 2, 2, 0, 1, 1, 0, 2, 2, 1, 0, 1, 0, 2, 1, 0, 0, 1, 0, 1, 2]],\n",
       "           names=['District Name', 'Winning Party'])"
      ]
     },
     "execution_count": 71,
     "metadata": {},
     "output_type": "execute_result"
    }
   ],
   "source": [
    "dataFrame.index"
   ]
  },
  {
   "cell_type": "code",
   "execution_count": 72,
   "metadata": {},
   "outputs": [],
   "source": [
    "dataFrame = pd.DataFrame(dataFrame)"
   ]
  },
  {
   "cell_type": "code",
   "execution_count": 73,
   "metadata": {},
   "outputs": [
    {
     "data": {
      "text/html": [
       "<div>\n",
       "<style scoped>\n",
       "    .dataframe tbody tr th:only-of-type {\n",
       "        vertical-align: middle;\n",
       "    }\n",
       "\n",
       "    .dataframe tbody tr th {\n",
       "        vertical-align: top;\n",
       "    }\n",
       "\n",
       "    .dataframe thead th {\n",
       "        text-align: right;\n",
       "    }\n",
       "</style>\n",
       "<table border=\"1\" class=\"dataframe\">\n",
       "  <thead>\n",
       "    <tr style=\"text-align: right;\">\n",
       "      <th></th>\n",
       "      <th></th>\n",
       "      <th>Winning Party</th>\n",
       "    </tr>\n",
       "    <tr>\n",
       "      <th>District Name</th>\n",
       "      <th>Winning Party</th>\n",
       "      <th></th>\n",
       "    </tr>\n",
       "  </thead>\n",
       "  <tbody>\n",
       "    <tr>\n",
       "      <th rowspan=\"2\" valign=\"top\">B.B.M.P (CENTRAL)</th>\n",
       "      <th>INC</th>\n",
       "      <td>4</td>\n",
       "    </tr>\n",
       "    <tr>\n",
       "      <th>BJP</th>\n",
       "      <td>2</td>\n",
       "    </tr>\n",
       "    <tr>\n",
       "      <th rowspan=\"3\" valign=\"top\">B.B.M.P(NORTH)</th>\n",
       "      <th>INC</th>\n",
       "      <td>4</td>\n",
       "    </tr>\n",
       "    <tr>\n",
       "      <th>BJP</th>\n",
       "      <td>2</td>\n",
       "    </tr>\n",
       "    <tr>\n",
       "      <th>JDS</th>\n",
       "      <td>1</td>\n",
       "    </tr>\n",
       "    <tr>\n",
       "      <th rowspan=\"2\" valign=\"top\">B.B.M.P(SOUTH)</th>\n",
       "      <th>BJP</th>\n",
       "      <td>4</td>\n",
       "    </tr>\n",
       "    <tr>\n",
       "      <th>INC</th>\n",
       "      <td>2</td>\n",
       "    </tr>\n",
       "    <tr>\n",
       "      <th rowspan=\"2\" valign=\"top\">BAGALKOT</th>\n",
       "      <th>BJP</th>\n",
       "      <td>5</td>\n",
       "    </tr>\n",
       "    <tr>\n",
       "      <th>INC</th>\n",
       "      <td>2</td>\n",
       "    </tr>\n",
       "    <tr>\n",
       "      <th rowspan=\"2\" valign=\"top\">BANGALORE RURAL</th>\n",
       "      <th>INC</th>\n",
       "      <td>2</td>\n",
       "    </tr>\n",
       "    <tr>\n",
       "      <th>JDS</th>\n",
       "      <td>2</td>\n",
       "    </tr>\n",
       "    <tr>\n",
       "      <th rowspan=\"3\" valign=\"top\">BANGALORE URBAN</th>\n",
       "      <th>BJP</th>\n",
       "      <td>3</td>\n",
       "    </tr>\n",
       "    <tr>\n",
       "      <th>INC</th>\n",
       "      <td>3</td>\n",
       "    </tr>\n",
       "    <tr>\n",
       "      <th>JDS</th>\n",
       "      <td>1</td>\n",
       "    </tr>\n",
       "    <tr>\n",
       "      <th rowspan=\"2\" valign=\"top\">BELAGAVI</th>\n",
       "      <th>BJP</th>\n",
       "      <td>10</td>\n",
       "    </tr>\n",
       "    <tr>\n",
       "      <th>INC</th>\n",
       "      <td>8</td>\n",
       "    </tr>\n",
       "    <tr>\n",
       "      <th rowspan=\"2\" valign=\"top\">BELLARY</th>\n",
       "      <th>INC</th>\n",
       "      <td>6</td>\n",
       "    </tr>\n",
       "    <tr>\n",
       "      <th>BJP</th>\n",
       "      <td>3</td>\n",
       "    </tr>\n",
       "    <tr>\n",
       "      <th rowspan=\"3\" valign=\"top\">BIDAR</th>\n",
       "      <th>INC</th>\n",
       "      <td>4</td>\n",
       "    </tr>\n",
       "    <tr>\n",
       "      <th>BJP</th>\n",
       "      <td>1</td>\n",
       "    </tr>\n",
       "    <tr>\n",
       "      <th>JDS</th>\n",
       "      <td>1</td>\n",
       "    </tr>\n",
       "    <tr>\n",
       "      <th rowspan=\"3\" valign=\"top\">BIJAPUR</th>\n",
       "      <th>BJP</th>\n",
       "      <td>3</td>\n",
       "    </tr>\n",
       "    <tr>\n",
       "      <th>INC</th>\n",
       "      <td>3</td>\n",
       "    </tr>\n",
       "    <tr>\n",
       "      <th>JDS</th>\n",
       "      <td>2</td>\n",
       "    </tr>\n",
       "    <tr>\n",
       "      <th rowspan=\"3\" valign=\"top\">CHAMARAJNAGAR</th>\n",
       "      <th>INC</th>\n",
       "      <td>2</td>\n",
       "    </tr>\n",
       "    <tr>\n",
       "      <th>BJP</th>\n",
       "      <td>1</td>\n",
       "    </tr>\n",
       "    <tr>\n",
       "      <th>OTHERS</th>\n",
       "      <td>1</td>\n",
       "    </tr>\n",
       "    <tr>\n",
       "      <th rowspan=\"2\" valign=\"top\">CHIKABALLAPUR</th>\n",
       "      <th>INC</th>\n",
       "      <td>4</td>\n",
       "    </tr>\n",
       "    <tr>\n",
       "      <th>JDS</th>\n",
       "      <td>1</td>\n",
       "    </tr>\n",
       "    <tr>\n",
       "      <th>CHIKKMAGALUR</th>\n",
       "      <th>BJP</th>\n",
       "      <td>4</td>\n",
       "    </tr>\n",
       "    <tr>\n",
       "      <th>...</th>\n",
       "      <th>...</th>\n",
       "      <td>...</td>\n",
       "    </tr>\n",
       "    <tr>\n",
       "      <th>HASSAN</th>\n",
       "      <th>BJP</th>\n",
       "      <td>1</td>\n",
       "    </tr>\n",
       "    <tr>\n",
       "      <th rowspan=\"3\" valign=\"top\">HAVERI</th>\n",
       "      <th>BJP</th>\n",
       "      <td>4</td>\n",
       "    </tr>\n",
       "    <tr>\n",
       "      <th>INC</th>\n",
       "      <td>1</td>\n",
       "    </tr>\n",
       "    <tr>\n",
       "      <th>OTHERS</th>\n",
       "      <td>1</td>\n",
       "    </tr>\n",
       "    <tr>\n",
       "      <th>KODAGU</th>\n",
       "      <th>BJP</th>\n",
       "      <td>2</td>\n",
       "    </tr>\n",
       "    <tr>\n",
       "      <th rowspan=\"3\" valign=\"top\">KOLAR</th>\n",
       "      <th>INC</th>\n",
       "      <td>4</td>\n",
       "    </tr>\n",
       "    <tr>\n",
       "      <th>JDS</th>\n",
       "      <td>1</td>\n",
       "    </tr>\n",
       "    <tr>\n",
       "      <th>OTHERS</th>\n",
       "      <td>1</td>\n",
       "    </tr>\n",
       "    <tr>\n",
       "      <th rowspan=\"2\" valign=\"top\">KOPPAL</th>\n",
       "      <th>BJP</th>\n",
       "      <td>3</td>\n",
       "    </tr>\n",
       "    <tr>\n",
       "      <th>INC</th>\n",
       "      <td>2</td>\n",
       "    </tr>\n",
       "    <tr>\n",
       "      <th>MANDYA</th>\n",
       "      <th>JDS</th>\n",
       "      <td>7</td>\n",
       "    </tr>\n",
       "    <tr>\n",
       "      <th rowspan=\"3\" valign=\"top\">MYSORE</th>\n",
       "      <th>JDS</th>\n",
       "      <td>5</td>\n",
       "    </tr>\n",
       "    <tr>\n",
       "      <th>BJP</th>\n",
       "      <td>3</td>\n",
       "    </tr>\n",
       "    <tr>\n",
       "      <th>INC</th>\n",
       "      <td>3</td>\n",
       "    </tr>\n",
       "    <tr>\n",
       "      <th rowspan=\"3\" valign=\"top\">RAICHUR</th>\n",
       "      <th>INC</th>\n",
       "      <td>3</td>\n",
       "    </tr>\n",
       "    <tr>\n",
       "      <th>BJP</th>\n",
       "      <td>2</td>\n",
       "    </tr>\n",
       "    <tr>\n",
       "      <th>JDS</th>\n",
       "      <td>2</td>\n",
       "    </tr>\n",
       "    <tr>\n",
       "      <th rowspan=\"2\" valign=\"top\">RAMANAGARAM</th>\n",
       "      <th>JDS</th>\n",
       "      <td>3</td>\n",
       "    </tr>\n",
       "    <tr>\n",
       "      <th>INC</th>\n",
       "      <td>1</td>\n",
       "    </tr>\n",
       "    <tr>\n",
       "      <th rowspan=\"2\" valign=\"top\">SHIMOGA</th>\n",
       "      <th>BJP</th>\n",
       "      <td>6</td>\n",
       "    </tr>\n",
       "    <tr>\n",
       "      <th>INC</th>\n",
       "      <td>1</td>\n",
       "    </tr>\n",
       "    <tr>\n",
       "      <th rowspan=\"3\" valign=\"top\">TUMKUR</th>\n",
       "      <th>BJP</th>\n",
       "      <td>4</td>\n",
       "    </tr>\n",
       "    <tr>\n",
       "      <th>JDS</th>\n",
       "      <td>4</td>\n",
       "    </tr>\n",
       "    <tr>\n",
       "      <th>INC</th>\n",
       "      <td>3</td>\n",
       "    </tr>\n",
       "    <tr>\n",
       "      <th>UDUPI</th>\n",
       "      <th>BJP</th>\n",
       "      <td>5</td>\n",
       "    </tr>\n",
       "    <tr>\n",
       "      <th rowspan=\"2\" valign=\"top\">UTTARA KANNADA</th>\n",
       "      <th>BJP</th>\n",
       "      <td>4</td>\n",
       "    </tr>\n",
       "    <tr>\n",
       "      <th>INC</th>\n",
       "      <td>2</td>\n",
       "    </tr>\n",
       "    <tr>\n",
       "      <th rowspan=\"3\" valign=\"top\">YADGIR</th>\n",
       "      <th>BJP</th>\n",
       "      <td>2</td>\n",
       "    </tr>\n",
       "    <tr>\n",
       "      <th>INC</th>\n",
       "      <td>1</td>\n",
       "    </tr>\n",
       "    <tr>\n",
       "      <th>JDS</th>\n",
       "      <td>1</td>\n",
       "    </tr>\n",
       "  </tbody>\n",
       "</table>\n",
       "<p>74 rows × 1 columns</p>\n",
       "</div>"
      ],
      "text/plain": [
       "                                 Winning Party\n",
       "District Name     Winning Party               \n",
       "B.B.M.P (CENTRAL) INC                        4\n",
       "                  BJP                        2\n",
       "B.B.M.P(NORTH)    INC                        4\n",
       "                  BJP                        2\n",
       "                  JDS                        1\n",
       "B.B.M.P(SOUTH)    BJP                        4\n",
       "                  INC                        2\n",
       "BAGALKOT          BJP                        5\n",
       "                  INC                        2\n",
       "BANGALORE RURAL   INC                        2\n",
       "                  JDS                        2\n",
       "BANGALORE URBAN   BJP                        3\n",
       "                  INC                        3\n",
       "                  JDS                        1\n",
       "BELAGAVI          BJP                       10\n",
       "                  INC                        8\n",
       "BELLARY           INC                        6\n",
       "                  BJP                        3\n",
       "BIDAR             INC                        4\n",
       "                  BJP                        1\n",
       "                  JDS                        1\n",
       "BIJAPUR           BJP                        3\n",
       "                  INC                        3\n",
       "                  JDS                        2\n",
       "CHAMARAJNAGAR     INC                        2\n",
       "                  BJP                        1\n",
       "                  OTHERS                     1\n",
       "CHIKABALLAPUR     INC                        4\n",
       "                  JDS                        1\n",
       "CHIKKMAGALUR      BJP                        4\n",
       "...                                        ...\n",
       "HASSAN            BJP                        1\n",
       "HAVERI            BJP                        4\n",
       "                  INC                        1\n",
       "                  OTHERS                     1\n",
       "KODAGU            BJP                        2\n",
       "KOLAR             INC                        4\n",
       "                  JDS                        1\n",
       "                  OTHERS                     1\n",
       "KOPPAL            BJP                        3\n",
       "                  INC                        2\n",
       "MANDYA            JDS                        7\n",
       "MYSORE            JDS                        5\n",
       "                  BJP                        3\n",
       "                  INC                        3\n",
       "RAICHUR           INC                        3\n",
       "                  BJP                        2\n",
       "                  JDS                        2\n",
       "RAMANAGARAM       JDS                        3\n",
       "                  INC                        1\n",
       "SHIMOGA           BJP                        6\n",
       "                  INC                        1\n",
       "TUMKUR            BJP                        4\n",
       "                  JDS                        4\n",
       "                  INC                        3\n",
       "UDUPI             BJP                        5\n",
       "UTTARA KANNADA    BJP                        4\n",
       "                  INC                        2\n",
       "YADGIR            BJP                        2\n",
       "                  INC                        1\n",
       "                  JDS                        1\n",
       "\n",
       "[74 rows x 1 columns]"
      ]
     },
     "execution_count": 73,
     "metadata": {},
     "output_type": "execute_result"
    }
   ],
   "source": [
    "dataFrame"
   ]
  },
  {
   "cell_type": "markdown",
   "metadata": {},
   "source": [
    "### Here the numbers denote the no.of constituencies won by the winning party in the corresponding district arranged in decreasing order"
   ]
  },
  {
   "cell_type": "markdown",
   "metadata": {},
   "source": [
    "## 6. WHICH CONSTITUENCY IN THE DISTRICT HAD MAX SUPPORT FOR WHICH PARTY?"
   ]
  },
  {
   "cell_type": "code",
   "execution_count": 74,
   "metadata": {},
   "outputs": [
    {
     "data": {
      "text/plain": [
       "Index(['AC No.', 'AC Name', 'Winning Party', 'Winning Candidate',\n",
       "       'Winner Votes', 'Runner Up Party', 'Runner Up Candidate',\n",
       "       'Runner Up Votes', 'Total Voters', 'Winning Margin', 'District Name',\n",
       "       'Voting Turnout %'],\n",
       "      dtype='object')"
      ]
     },
     "execution_count": 74,
     "metadata": {},
     "output_type": "execute_result"
    }
   ],
   "source": [
    "df.columns"
   ]
  },
  {
   "cell_type": "code",
   "execution_count": 75,
   "metadata": {},
   "outputs": [],
   "source": [
    "x = pd.DataFrame(df.groupby(by = ['District Name','AC Name'])['Winning Party'].first())"
   ]
  },
  {
   "cell_type": "code",
   "execution_count": 76,
   "metadata": {},
   "outputs": [
    {
     "data": {
      "text/html": [
       "<div>\n",
       "<style scoped>\n",
       "    .dataframe tbody tr th:only-of-type {\n",
       "        vertical-align: middle;\n",
       "    }\n",
       "\n",
       "    .dataframe tbody tr th {\n",
       "        vertical-align: top;\n",
       "    }\n",
       "\n",
       "    .dataframe thead th {\n",
       "        text-align: right;\n",
       "    }\n",
       "</style>\n",
       "<table border=\"1\" class=\"dataframe\">\n",
       "  <thead>\n",
       "    <tr style=\"text-align: right;\">\n",
       "      <th></th>\n",
       "      <th></th>\n",
       "      <th>Winning Party</th>\n",
       "    </tr>\n",
       "    <tr>\n",
       "      <th>District Name</th>\n",
       "      <th>AC Name</th>\n",
       "      <th></th>\n",
       "    </tr>\n",
       "  </thead>\n",
       "  <tbody>\n",
       "    <tr>\n",
       "      <th rowspan=\"6\" valign=\"top\">B.B.M.P (CENTRAL)</th>\n",
       "      <th>Chamrajapet</th>\n",
       "      <td>INC</td>\n",
       "    </tr>\n",
       "    <tr>\n",
       "      <th>Chickpet</th>\n",
       "      <td>BJP</td>\n",
       "    </tr>\n",
       "    <tr>\n",
       "      <th>Gandhinagar</th>\n",
       "      <td>INC</td>\n",
       "    </tr>\n",
       "    <tr>\n",
       "      <th>Rajajinagar</th>\n",
       "      <td>BJP</td>\n",
       "    </tr>\n",
       "    <tr>\n",
       "      <th>Shantinagar</th>\n",
       "      <td>INC</td>\n",
       "    </tr>\n",
       "    <tr>\n",
       "      <th>Shivajinagar</th>\n",
       "      <td>INC</td>\n",
       "    </tr>\n",
       "    <tr>\n",
       "      <th rowspan=\"7\" valign=\"top\">B.B.M.P(NORTH)</th>\n",
       "      <th>C.V. Raman Nagar</th>\n",
       "      <td>BJP</td>\n",
       "    </tr>\n",
       "    <tr>\n",
       "      <th>Hebbal</th>\n",
       "      <td>INC</td>\n",
       "    </tr>\n",
       "    <tr>\n",
       "      <th>K.R. Pura</th>\n",
       "      <td>INC</td>\n",
       "    </tr>\n",
       "    <tr>\n",
       "      <th>Mahalakshmi Layout</th>\n",
       "      <td>JDS</td>\n",
       "    </tr>\n",
       "    <tr>\n",
       "      <th>Malleshwaram</th>\n",
       "      <td>BJP</td>\n",
       "    </tr>\n",
       "    <tr>\n",
       "      <th>Pulakeshinagar</th>\n",
       "      <td>INC</td>\n",
       "    </tr>\n",
       "    <tr>\n",
       "      <th>Sarvagnannagar</th>\n",
       "      <td>INC</td>\n",
       "    </tr>\n",
       "    <tr>\n",
       "      <th rowspan=\"6\" valign=\"top\">B.B.M.P(SOUTH)</th>\n",
       "      <th>B.T.M Layout</th>\n",
       "      <td>INC</td>\n",
       "    </tr>\n",
       "    <tr>\n",
       "      <th>Basavanagudi</th>\n",
       "      <td>BJP</td>\n",
       "    </tr>\n",
       "    <tr>\n",
       "      <th>Bommanahalli</th>\n",
       "      <td>BJP</td>\n",
       "    </tr>\n",
       "    <tr>\n",
       "      <th>Govindarajanagar</th>\n",
       "      <td>BJP</td>\n",
       "    </tr>\n",
       "    <tr>\n",
       "      <th>Padmanabanagar</th>\n",
       "      <td>BJP</td>\n",
       "    </tr>\n",
       "    <tr>\n",
       "      <th>Vijayanagar</th>\n",
       "      <td>INC</td>\n",
       "    </tr>\n",
       "    <tr>\n",
       "      <th rowspan=\"7\" valign=\"top\">BAGALKOT</th>\n",
       "      <th>Badami</th>\n",
       "      <td>INC</td>\n",
       "    </tr>\n",
       "    <tr>\n",
       "      <th>Bagalkot</th>\n",
       "      <td>BJP</td>\n",
       "    </tr>\n",
       "    <tr>\n",
       "      <th>Bilgi</th>\n",
       "      <td>BJP</td>\n",
       "    </tr>\n",
       "    <tr>\n",
       "      <th>Hungund</th>\n",
       "      <td>BJP</td>\n",
       "    </tr>\n",
       "    <tr>\n",
       "      <th>Jamkhandi</th>\n",
       "      <td>INC</td>\n",
       "    </tr>\n",
       "    <tr>\n",
       "      <th>Mudhol</th>\n",
       "      <td>BJP</td>\n",
       "    </tr>\n",
       "    <tr>\n",
       "      <th>Terdal</th>\n",
       "      <td>BJP</td>\n",
       "    </tr>\n",
       "    <tr>\n",
       "      <th rowspan=\"4\" valign=\"top\">BANGALORE RURAL</th>\n",
       "      <th>Devanahalli</th>\n",
       "      <td>JDS</td>\n",
       "    </tr>\n",
       "    <tr>\n",
       "      <th>Doddaballapur</th>\n",
       "      <td>INC</td>\n",
       "    </tr>\n",
       "    <tr>\n",
       "      <th>Hosakote</th>\n",
       "      <td>INC</td>\n",
       "    </tr>\n",
       "    <tr>\n",
       "      <th>Nelamangala</th>\n",
       "      <td>JDS</td>\n",
       "    </tr>\n",
       "    <tr>\n",
       "      <th>...</th>\n",
       "      <th>...</th>\n",
       "      <td>...</td>\n",
       "    </tr>\n",
       "    <tr>\n",
       "      <th rowspan=\"4\" valign=\"top\">SHIMOGA</th>\n",
       "      <th>Shimoga</th>\n",
       "      <td>BJP</td>\n",
       "    </tr>\n",
       "    <tr>\n",
       "      <th>Shimoga Rural</th>\n",
       "      <td>BJP</td>\n",
       "    </tr>\n",
       "    <tr>\n",
       "      <th>Sorab</th>\n",
       "      <td>BJP</td>\n",
       "    </tr>\n",
       "    <tr>\n",
       "      <th>Tirthahalli</th>\n",
       "      <td>BJP</td>\n",
       "    </tr>\n",
       "    <tr>\n",
       "      <th rowspan=\"11\" valign=\"top\">TUMKUR</th>\n",
       "      <th>Chikkanayakanhalli</th>\n",
       "      <td>BJP</td>\n",
       "    </tr>\n",
       "    <tr>\n",
       "      <th>Gubbi</th>\n",
       "      <td>JDS</td>\n",
       "    </tr>\n",
       "    <tr>\n",
       "      <th>Koratagere</th>\n",
       "      <td>INC</td>\n",
       "    </tr>\n",
       "    <tr>\n",
       "      <th>Kunigal</th>\n",
       "      <td>INC</td>\n",
       "    </tr>\n",
       "    <tr>\n",
       "      <th>Madhugiri</th>\n",
       "      <td>JDS</td>\n",
       "    </tr>\n",
       "    <tr>\n",
       "      <th>Pavagada</th>\n",
       "      <td>INC</td>\n",
       "    </tr>\n",
       "    <tr>\n",
       "      <th>Sira</th>\n",
       "      <td>JDS</td>\n",
       "    </tr>\n",
       "    <tr>\n",
       "      <th>Tiptur</th>\n",
       "      <td>BJP</td>\n",
       "    </tr>\n",
       "    <tr>\n",
       "      <th>Tumkur City</th>\n",
       "      <td>BJP</td>\n",
       "    </tr>\n",
       "    <tr>\n",
       "      <th>Tumkur Rural</th>\n",
       "      <td>JDS</td>\n",
       "    </tr>\n",
       "    <tr>\n",
       "      <th>Turuvekere</th>\n",
       "      <td>BJP</td>\n",
       "    </tr>\n",
       "    <tr>\n",
       "      <th rowspan=\"5\" valign=\"top\">UDUPI</th>\n",
       "      <th>Baindur</th>\n",
       "      <td>BJP</td>\n",
       "    </tr>\n",
       "    <tr>\n",
       "      <th>Kapu</th>\n",
       "      <td>BJP</td>\n",
       "    </tr>\n",
       "    <tr>\n",
       "      <th>Karkala</th>\n",
       "      <td>BJP</td>\n",
       "    </tr>\n",
       "    <tr>\n",
       "      <th>Kundapur</th>\n",
       "      <td>BJP</td>\n",
       "    </tr>\n",
       "    <tr>\n",
       "      <th>Udupi</th>\n",
       "      <td>BJP</td>\n",
       "    </tr>\n",
       "    <tr>\n",
       "      <th rowspan=\"6\" valign=\"top\">UTTARA KANNADA</th>\n",
       "      <th>Bhatkal</th>\n",
       "      <td>BJP</td>\n",
       "    </tr>\n",
       "    <tr>\n",
       "      <th>Haliyal</th>\n",
       "      <td>INC</td>\n",
       "    </tr>\n",
       "    <tr>\n",
       "      <th>Karwar</th>\n",
       "      <td>BJP</td>\n",
       "    </tr>\n",
       "    <tr>\n",
       "      <th>Kumta</th>\n",
       "      <td>BJP</td>\n",
       "    </tr>\n",
       "    <tr>\n",
       "      <th>Sirsi</th>\n",
       "      <td>BJP</td>\n",
       "    </tr>\n",
       "    <tr>\n",
       "      <th>Yellapur</th>\n",
       "      <td>INC</td>\n",
       "    </tr>\n",
       "    <tr>\n",
       "      <th rowspan=\"4\" valign=\"top\">YADGIR</th>\n",
       "      <th>Gurmitkal</th>\n",
       "      <td>JDS</td>\n",
       "    </tr>\n",
       "    <tr>\n",
       "      <th>Shahapur</th>\n",
       "      <td>INC</td>\n",
       "    </tr>\n",
       "    <tr>\n",
       "      <th>Shorapur</th>\n",
       "      <td>BJP</td>\n",
       "    </tr>\n",
       "    <tr>\n",
       "      <th>Yadgir</th>\n",
       "      <td>BJP</td>\n",
       "    </tr>\n",
       "  </tbody>\n",
       "</table>\n",
       "<p>222 rows × 1 columns</p>\n",
       "</div>"
      ],
      "text/plain": [
       "                                     Winning Party\n",
       "District Name     AC Name                         \n",
       "B.B.M.P (CENTRAL) Chamrajapet                  INC\n",
       "                  Chickpet                     BJP\n",
       "                  Gandhinagar                  INC\n",
       "                  Rajajinagar                  BJP\n",
       "                  Shantinagar                  INC\n",
       "                  Shivajinagar                 INC\n",
       "B.B.M.P(NORTH)    C.V. Raman Nagar             BJP\n",
       "                  Hebbal                       INC\n",
       "                  K.R. Pura                    INC\n",
       "                  Mahalakshmi Layout           JDS\n",
       "                  Malleshwaram                 BJP\n",
       "                  Pulakeshinagar               INC\n",
       "                  Sarvagnannagar               INC\n",
       "B.B.M.P(SOUTH)    B.T.M Layout                 INC\n",
       "                  Basavanagudi                 BJP\n",
       "                  Bommanahalli                 BJP\n",
       "                  Govindarajanagar             BJP\n",
       "                  Padmanabanagar               BJP\n",
       "                  Vijayanagar                  INC\n",
       "BAGALKOT          Badami                       INC\n",
       "                  Bagalkot                     BJP\n",
       "                  Bilgi                        BJP\n",
       "                  Hungund                      BJP\n",
       "                  Jamkhandi                    INC\n",
       "                  Mudhol                       BJP\n",
       "                  Terdal                       BJP\n",
       "BANGALORE RURAL   Devanahalli                  JDS\n",
       "                  Doddaballapur                INC\n",
       "                  Hosakote                     INC\n",
       "                  Nelamangala                  JDS\n",
       "...                                            ...\n",
       "SHIMOGA           Shimoga                      BJP\n",
       "                  Shimoga Rural                BJP\n",
       "                  Sorab                        BJP\n",
       "                  Tirthahalli                  BJP\n",
       "TUMKUR            Chikkanayakanhalli           BJP\n",
       "                  Gubbi                        JDS\n",
       "                  Koratagere                   INC\n",
       "                  Kunigal                      INC\n",
       "                  Madhugiri                    JDS\n",
       "                  Pavagada                     INC\n",
       "                  Sira                         JDS\n",
       "                  Tiptur                       BJP\n",
       "                  Tumkur City                  BJP\n",
       "                  Tumkur Rural                 JDS\n",
       "                  Turuvekere                   BJP\n",
       "UDUPI             Baindur                      BJP\n",
       "                  Kapu                         BJP\n",
       "                  Karkala                      BJP\n",
       "                  Kundapur                     BJP\n",
       "                  Udupi                        BJP\n",
       "UTTARA KANNADA    Bhatkal                      BJP\n",
       "                  Haliyal                      INC\n",
       "                  Karwar                       BJP\n",
       "                  Kumta                        BJP\n",
       "                  Sirsi                        BJP\n",
       "                  Yellapur                     INC\n",
       "YADGIR            Gurmitkal                    JDS\n",
       "                  Shahapur                     INC\n",
       "                  Shorapur                     BJP\n",
       "                  Yadgir                       BJP\n",
       "\n",
       "[222 rows x 1 columns]"
      ]
     },
     "execution_count": 76,
     "metadata": {},
     "output_type": "execute_result"
    }
   ],
   "source": [
    "x"
   ]
  },
  {
   "cell_type": "markdown",
   "metadata": {},
   "source": [
    "## 7. Max and Minimum winning margins in each constituency for a district"
   ]
  },
  {
   "cell_type": "code",
   "execution_count": 77,
   "metadata": {},
   "outputs": [],
   "source": [
    "win_margin = []"
   ]
  },
  {
   "cell_type": "code",
   "execution_count": 78,
   "metadata": {},
   "outputs": [],
   "source": [
    "x = df['Winning Margin'][0]"
   ]
  },
  {
   "cell_type": "code",
   "execution_count": 79,
   "metadata": {},
   "outputs": [
    {
     "data": {
      "text/plain": [
       "'8,506'"
      ]
     },
     "execution_count": 79,
     "metadata": {},
     "output_type": "execute_result"
    }
   ],
   "source": [
    "x"
   ]
  },
  {
   "cell_type": "code",
   "execution_count": 80,
   "metadata": {},
   "outputs": [],
   "source": [
    "x = x.split(',')"
   ]
  },
  {
   "cell_type": "code",
   "execution_count": 81,
   "metadata": {},
   "outputs": [
    {
     "data": {
      "text/plain": [
       "['8', '506']"
      ]
     },
     "execution_count": 81,
     "metadata": {},
     "output_type": "execute_result"
    }
   ],
   "source": [
    "x"
   ]
  },
  {
   "cell_type": "code",
   "execution_count": 82,
   "metadata": {},
   "outputs": [],
   "source": [
    "x = ''.join(x)"
   ]
  },
  {
   "cell_type": "code",
   "execution_count": 83,
   "metadata": {},
   "outputs": [
    {
     "data": {
      "text/plain": [
       "'8506'"
      ]
     },
     "execution_count": 83,
     "metadata": {},
     "output_type": "execute_result"
    }
   ],
   "source": [
    "x"
   ]
  },
  {
   "cell_type": "code",
   "execution_count": 84,
   "metadata": {},
   "outputs": [],
   "source": [
    "x = int(x)"
   ]
  },
  {
   "cell_type": "code",
   "execution_count": 85,
   "metadata": {},
   "outputs": [
    {
     "data": {
      "text/plain": [
       "8506"
      ]
     },
     "execution_count": 85,
     "metadata": {},
     "output_type": "execute_result"
    }
   ],
   "source": [
    "x"
   ]
  },
  {
   "cell_type": "code",
   "execution_count": 86,
   "metadata": {},
   "outputs": [
    {
     "data": {
      "text/plain": [
       "int"
      ]
     },
     "execution_count": 86,
     "metadata": {},
     "output_type": "execute_result"
    }
   ],
   "source": [
    "type(x)"
   ]
  },
  {
   "cell_type": "code",
   "execution_count": 87,
   "metadata": {},
   "outputs": [],
   "source": [
    "win_marg = []"
   ]
  },
  {
   "cell_type": "code",
   "execution_count": 88,
   "metadata": {},
   "outputs": [],
   "source": [
    "for i in range(len(df)):\n",
    "    x = df['Winning Margin'][i]\n",
    "    x = x.split(',')\n",
    "    x = ''.join(x)\n",
    "    x = int(x)\n",
    "    win_marg.append(x)"
   ]
  },
  {
   "cell_type": "code",
   "execution_count": 89,
   "metadata": {},
   "outputs": [
    {
     "data": {
      "text/plain": [
       "int"
      ]
     },
     "execution_count": 89,
     "metadata": {},
     "output_type": "execute_result"
    }
   ],
   "source": [
    "type(win_marg[100])"
   ]
  },
  {
   "cell_type": "code",
   "execution_count": 90,
   "metadata": {},
   "outputs": [],
   "source": [
    "win_marg = pd.Series(win_marg,name = 'Winning Margin')"
   ]
  },
  {
   "cell_type": "code",
   "execution_count": 91,
   "metadata": {},
   "outputs": [],
   "source": [
    "win_marg = pd.DataFrame(win_marg)"
   ]
  },
  {
   "cell_type": "code",
   "execution_count": 92,
   "metadata": {},
   "outputs": [],
   "source": [
    "df.drop('Winning Margin',axis = 1, inplace=True)"
   ]
  },
  {
   "cell_type": "code",
   "execution_count": 93,
   "metadata": {},
   "outputs": [],
   "source": [
    "df['Winning Margin'] = win_marg"
   ]
  },
  {
   "cell_type": "code",
   "execution_count": 94,
   "metadata": {},
   "outputs": [
    {
     "data": {
      "text/plain": [
       "District Name\n",
       "B.B.M.P (CENTRAL)    33137\n",
       "B.B.M.P(NORTH)       81626\n",
       "B.B.M.P(SOUTH)       47162\n",
       "BAGALKOT             20889\n",
       "BANGALORE RURAL      24321\n",
       "BANGALORE URBAN      42503\n",
       "BELAGAVI             58692\n",
       "BELLARY              21271\n",
       "BIDAR                31814\n",
       "BIJAPUR              29715\n",
       "CHAMARAJNAGAR        19454\n",
       "CHIKABALLAPUR        30431\n",
       "CHIKKMAGALUR         26314\n",
       "CHITRADURGA          42045\n",
       "DAKSHINA KANNADA     29799\n",
       "DAVANAGERE           29221\n",
       "DHARWAD              40487\n",
       "GADAG                29993\n",
       "GULBARGA             19212\n",
       "HASSAN               53012\n",
       "HAVERI               21271\n",
       "KODAGU               16015\n",
       "KOLAR                44251\n",
       "KOPPAL               26351\n",
       "MANDYA               54030\n",
       "MYSORE               58616\n",
       "RAICHUR              21045\n",
       "RAMANAGARAM          79909\n",
       "SHIMOGA              46107\n",
       "TUMKUR               25563\n",
       "UDUPI                56405\n",
       "UTTARA KANNADA       32750\n",
       "YADGIR               30974\n",
       "Name: Winning Margin, dtype: int64"
      ]
     },
     "execution_count": 94,
     "metadata": {},
     "output_type": "execute_result"
    }
   ],
   "source": [
    "df.groupby('District Name')['Winning Margin'].max()"
   ]
  },
  {
   "cell_type": "code",
   "execution_count": 95,
   "metadata": {},
   "outputs": [
    {
     "data": {
      "text/plain": [
       "District Name\n",
       "B.B.M.P (CENTRAL)     7934\n",
       "B.B.M.P(NORTH)       12227\n",
       "B.B.M.P(SOUTH)        2775\n",
       "BAGALKOT              1696\n",
       "BANGALORE RURAL       7597\n",
       "BANGALORE URBAN       5671\n",
       "BELAGAVI              2331\n",
       "BELLARY               2679\n",
       "BIDAR                10245\n",
       "BIJAPUR               3186\n",
       "CHAMARAJNAGAR         3513\n",
       "CHIKABALLAPUR         5673\n",
       "CHIKKMAGALUR          1989\n",
       "CHITRADURGA          12875\n",
       "DAKSHINA KANNADA     15971\n",
       "DAVANAGERE            4071\n",
       "DHARWAD                634\n",
       "GADAG                 1868\n",
       "GULBARGA               697\n",
       "HASSAN                4942\n",
       "HAVERI                 555\n",
       "KODAGU               13353\n",
       "KOLAR                 6715\n",
       "KOPPAL                7973\n",
       "MANDYA               17119\n",
       "MYSORE                1779\n",
       "RAICHUR                213\n",
       "RAMANAGARAM          21530\n",
       "SHIMOGA               3777\n",
       "TUMKUR                 409\n",
       "UDUPI                11917\n",
       "UTTARA KANNADA        1483\n",
       "YADGIR               12881\n",
       "Name: Winning Margin, dtype: int64"
      ]
     },
     "execution_count": 95,
     "metadata": {},
     "output_type": "execute_result"
    }
   ],
   "source": [
    "df.groupby('District Name')['Winning Margin'].min()"
   ]
  },
  {
   "cell_type": "code",
   "execution_count": null,
   "metadata": {},
   "outputs": [],
   "source": []
  }
 ],
 "metadata": {
  "kernelspec": {
   "display_name": "Python 3",
   "language": "python",
   "name": "python3"
  },
  "language_info": {
   "codemirror_mode": {
    "name": "ipython",
    "version": 3
   },
   "file_extension": ".py",
   "mimetype": "text/x-python",
   "name": "python",
   "nbconvert_exporter": "python",
   "pygments_lexer": "ipython3",
   "version": "3.6.3"
  }
 },
 "nbformat": 4,
 "nbformat_minor": 2
}
